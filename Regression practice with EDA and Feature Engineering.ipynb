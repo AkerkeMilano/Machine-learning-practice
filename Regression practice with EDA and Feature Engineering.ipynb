{
 "cells": [
  {
   "cell_type": "code",
   "execution_count": 1,
   "metadata": {},
   "outputs": [],
   "source": [
    "import pandas as pd\n",
    "import numpy as np\n",
    "import matplotlib.pyplot as plt\n",
    "%matplotlib inline\n",
    "\n",
    "plt.style.use(\"ggplot\")"
   ]
  },
  {
   "cell_type": "code",
   "execution_count": 2,
   "metadata": {},
   "outputs": [],
   "source": [
    "data = pd.read_csv(\"appstore_games.csv\")"
   ]
  },
  {
   "cell_type": "code",
   "execution_count": 3,
   "metadata": {
    "scrolled": false
   },
   "outputs": [
    {
     "data": {
      "text/html": [
       "<div>\n",
       "<style scoped>\n",
       "    .dataframe tbody tr th:only-of-type {\n",
       "        vertical-align: middle;\n",
       "    }\n",
       "\n",
       "    .dataframe tbody tr th {\n",
       "        vertical-align: top;\n",
       "    }\n",
       "\n",
       "    .dataframe thead th {\n",
       "        text-align: right;\n",
       "    }\n",
       "</style>\n",
       "<table border=\"1\" class=\"dataframe\">\n",
       "  <thead>\n",
       "    <tr style=\"text-align: right;\">\n",
       "      <th></th>\n",
       "      <th>URL</th>\n",
       "      <th>ID</th>\n",
       "      <th>Name</th>\n",
       "      <th>Subtitle</th>\n",
       "      <th>Icon URL</th>\n",
       "      <th>Average User Rating</th>\n",
       "      <th>User Rating Count</th>\n",
       "      <th>Price</th>\n",
       "      <th>In-app Purchases</th>\n",
       "      <th>Description</th>\n",
       "      <th>Developer</th>\n",
       "      <th>Age Rating</th>\n",
       "      <th>Languages</th>\n",
       "      <th>Size</th>\n",
       "      <th>Primary Genre</th>\n",
       "      <th>Genres</th>\n",
       "      <th>Original Release Date</th>\n",
       "      <th>Current Version Release Date</th>\n",
       "    </tr>\n",
       "  </thead>\n",
       "  <tbody>\n",
       "    <tr>\n",
       "      <th>0</th>\n",
       "      <td>https://apps.apple.com/us/app/sudoku/id284921427</td>\n",
       "      <td>284921427</td>\n",
       "      <td>Sudoku</td>\n",
       "      <td>NaN</td>\n",
       "      <td>https://is2-ssl.mzstatic.com/image/thumb/Purpl...</td>\n",
       "      <td>4.0</td>\n",
       "      <td>3553.0</td>\n",
       "      <td>2.99</td>\n",
       "      <td>NaN</td>\n",
       "      <td>Join over 21,000,000 of our fans and download ...</td>\n",
       "      <td>Mighty Mighty Good Games</td>\n",
       "      <td>4+</td>\n",
       "      <td>DA, NL, EN, FI, FR, DE, IT, JA, KO, NB, PL, PT...</td>\n",
       "      <td>15853568.0</td>\n",
       "      <td>Games</td>\n",
       "      <td>Games, Strategy, Puzzle</td>\n",
       "      <td>11/07/2008</td>\n",
       "      <td>30/05/2017</td>\n",
       "    </tr>\n",
       "    <tr>\n",
       "      <th>1</th>\n",
       "      <td>https://apps.apple.com/us/app/reversi/id284926400</td>\n",
       "      <td>284926400</td>\n",
       "      <td>Reversi</td>\n",
       "      <td>NaN</td>\n",
       "      <td>https://is4-ssl.mzstatic.com/image/thumb/Purpl...</td>\n",
       "      <td>3.5</td>\n",
       "      <td>284.0</td>\n",
       "      <td>1.99</td>\n",
       "      <td>NaN</td>\n",
       "      <td>The classic game of Reversi, also known as Oth...</td>\n",
       "      <td>Kiss The Machine</td>\n",
       "      <td>4+</td>\n",
       "      <td>EN</td>\n",
       "      <td>12328960.0</td>\n",
       "      <td>Games</td>\n",
       "      <td>Games, Strategy, Board</td>\n",
       "      <td>11/07/2008</td>\n",
       "      <td>17/05/2018</td>\n",
       "    </tr>\n",
       "    <tr>\n",
       "      <th>2</th>\n",
       "      <td>https://apps.apple.com/us/app/morocco/id284946595</td>\n",
       "      <td>284946595</td>\n",
       "      <td>Morocco</td>\n",
       "      <td>NaN</td>\n",
       "      <td>https://is5-ssl.mzstatic.com/image/thumb/Purpl...</td>\n",
       "      <td>3.0</td>\n",
       "      <td>8376.0</td>\n",
       "      <td>0.00</td>\n",
       "      <td>NaN</td>\n",
       "      <td>Play the classic strategy game Othello (also k...</td>\n",
       "      <td>Bayou Games</td>\n",
       "      <td>4+</td>\n",
       "      <td>EN</td>\n",
       "      <td>674816.0</td>\n",
       "      <td>Games</td>\n",
       "      <td>Games, Board, Strategy</td>\n",
       "      <td>11/07/2008</td>\n",
       "      <td>5/09/2017</td>\n",
       "    </tr>\n",
       "    <tr>\n",
       "      <th>3</th>\n",
       "      <td>https://apps.apple.com/us/app/sudoku-free/id28...</td>\n",
       "      <td>285755462</td>\n",
       "      <td>Sudoku (Free)</td>\n",
       "      <td>NaN</td>\n",
       "      <td>https://is3-ssl.mzstatic.com/image/thumb/Purpl...</td>\n",
       "      <td>3.5</td>\n",
       "      <td>190394.0</td>\n",
       "      <td>0.00</td>\n",
       "      <td>NaN</td>\n",
       "      <td>Top 100 free app for over a year.\\nRated \"Best...</td>\n",
       "      <td>Mighty Mighty Good Games</td>\n",
       "      <td>4+</td>\n",
       "      <td>DA, NL, EN, FI, FR, DE, IT, JA, KO, NB, PL, PT...</td>\n",
       "      <td>21552128.0</td>\n",
       "      <td>Games</td>\n",
       "      <td>Games, Strategy, Puzzle</td>\n",
       "      <td>23/07/2008</td>\n",
       "      <td>30/05/2017</td>\n",
       "    </tr>\n",
       "    <tr>\n",
       "      <th>4</th>\n",
       "      <td>https://apps.apple.com/us/app/senet-deluxe/id2...</td>\n",
       "      <td>285831220</td>\n",
       "      <td>Senet Deluxe</td>\n",
       "      <td>NaN</td>\n",
       "      <td>https://is1-ssl.mzstatic.com/image/thumb/Purpl...</td>\n",
       "      <td>3.5</td>\n",
       "      <td>28.0</td>\n",
       "      <td>2.99</td>\n",
       "      <td>NaN</td>\n",
       "      <td>\"Senet Deluxe - The Ancient Game of Life and A...</td>\n",
       "      <td>RoGame Software</td>\n",
       "      <td>4+</td>\n",
       "      <td>DA, NL, EN, FR, DE, EL, IT, JA, KO, NO, PT, RU...</td>\n",
       "      <td>34689024.0</td>\n",
       "      <td>Games</td>\n",
       "      <td>Games, Strategy, Board, Education</td>\n",
       "      <td>18/07/2008</td>\n",
       "      <td>22/07/2018</td>\n",
       "    </tr>\n",
       "  </tbody>\n",
       "</table>\n",
       "</div>"
      ],
      "text/plain": [
       "                                                 URL         ID  \\\n",
       "0   https://apps.apple.com/us/app/sudoku/id284921427  284921427   \n",
       "1  https://apps.apple.com/us/app/reversi/id284926400  284926400   \n",
       "2  https://apps.apple.com/us/app/morocco/id284946595  284946595   \n",
       "3  https://apps.apple.com/us/app/sudoku-free/id28...  285755462   \n",
       "4  https://apps.apple.com/us/app/senet-deluxe/id2...  285831220   \n",
       "\n",
       "            Name Subtitle                                           Icon URL  \\\n",
       "0         Sudoku      NaN  https://is2-ssl.mzstatic.com/image/thumb/Purpl...   \n",
       "1        Reversi      NaN  https://is4-ssl.mzstatic.com/image/thumb/Purpl...   \n",
       "2        Morocco      NaN  https://is5-ssl.mzstatic.com/image/thumb/Purpl...   \n",
       "3  Sudoku (Free)      NaN  https://is3-ssl.mzstatic.com/image/thumb/Purpl...   \n",
       "4   Senet Deluxe      NaN  https://is1-ssl.mzstatic.com/image/thumb/Purpl...   \n",
       "\n",
       "   Average User Rating  User Rating Count  Price In-app Purchases  \\\n",
       "0                  4.0             3553.0   2.99              NaN   \n",
       "1                  3.5              284.0   1.99              NaN   \n",
       "2                  3.0             8376.0   0.00              NaN   \n",
       "3                  3.5           190394.0   0.00              NaN   \n",
       "4                  3.5               28.0   2.99              NaN   \n",
       "\n",
       "                                         Description  \\\n",
       "0  Join over 21,000,000 of our fans and download ...   \n",
       "1  The classic game of Reversi, also known as Oth...   \n",
       "2  Play the classic strategy game Othello (also k...   \n",
       "3  Top 100 free app for over a year.\\nRated \"Best...   \n",
       "4  \"Senet Deluxe - The Ancient Game of Life and A...   \n",
       "\n",
       "                  Developer Age Rating  \\\n",
       "0  Mighty Mighty Good Games         4+   \n",
       "1          Kiss The Machine         4+   \n",
       "2               Bayou Games         4+   \n",
       "3  Mighty Mighty Good Games         4+   \n",
       "4           RoGame Software         4+   \n",
       "\n",
       "                                           Languages        Size  \\\n",
       "0  DA, NL, EN, FI, FR, DE, IT, JA, KO, NB, PL, PT...  15853568.0   \n",
       "1                                                 EN  12328960.0   \n",
       "2                                                 EN    674816.0   \n",
       "3  DA, NL, EN, FI, FR, DE, IT, JA, KO, NB, PL, PT...  21552128.0   \n",
       "4  DA, NL, EN, FR, DE, EL, IT, JA, KO, NO, PT, RU...  34689024.0   \n",
       "\n",
       "  Primary Genre                             Genres Original Release Date  \\\n",
       "0         Games            Games, Strategy, Puzzle            11/07/2008   \n",
       "1         Games             Games, Strategy, Board            11/07/2008   \n",
       "2         Games             Games, Board, Strategy            11/07/2008   \n",
       "3         Games            Games, Strategy, Puzzle            23/07/2008   \n",
       "4         Games  Games, Strategy, Board, Education            18/07/2008   \n",
       "\n",
       "  Current Version Release Date  \n",
       "0                   30/05/2017  \n",
       "1                   17/05/2018  \n",
       "2                    5/09/2017  \n",
       "3                   30/05/2017  \n",
       "4                   22/07/2018  "
      ]
     },
     "execution_count": 3,
     "metadata": {},
     "output_type": "execute_result"
    }
   ],
   "source": [
    "data.head()"
   ]
  },
  {
   "cell_type": "code",
   "execution_count": 4,
   "metadata": {},
   "outputs": [
    {
     "data": {
      "text/plain": [
       "0.00      14212\n",
       "0.99       1078\n",
       "1.99        515\n",
       "2.99        471\n",
       "4.99        237\n",
       "3.99        163\n",
       "9.99         88\n",
       "11.99        59\n",
       "5.99         42\n",
       "6.99         32\n",
       "179.99       30\n",
       "7.99         17\n",
       "8.99         13\n",
       "19.99         9\n",
       "14.99         4\n",
       "12.99         3\n",
       "16.99         2\n",
       "29.99         2\n",
       "99.99         1\n",
       "36.99         1\n",
       "59.99         1\n",
       "139.99        1\n",
       "37.99         1\n",
       "18.99         1\n",
       "Name: Price, dtype: int64"
      ]
     },
     "execution_count": 4,
     "metadata": {},
     "output_type": "execute_result"
    }
   ],
   "source": [
    "data['Price'].value_counts(\n",
    ")"
   ]
  },
  {
   "cell_type": "code",
   "execution_count": 5,
   "metadata": {},
   "outputs": [
    {
     "data": {
      "text/html": [
       "<div>\n",
       "<style scoped>\n",
       "    .dataframe tbody tr th:only-of-type {\n",
       "        vertical-align: middle;\n",
       "    }\n",
       "\n",
       "    .dataframe tbody tr th {\n",
       "        vertical-align: top;\n",
       "    }\n",
       "\n",
       "    .dataframe thead th {\n",
       "        text-align: right;\n",
       "    }\n",
       "</style>\n",
       "<table border=\"1\" class=\"dataframe\">\n",
       "  <thead>\n",
       "    <tr style=\"text-align: right;\">\n",
       "      <th></th>\n",
       "      <th>URL</th>\n",
       "      <th>ID</th>\n",
       "      <th>Name</th>\n",
       "      <th>Subtitle</th>\n",
       "      <th>Icon URL</th>\n",
       "      <th>Average User Rating</th>\n",
       "      <th>User Rating Count</th>\n",
       "      <th>Price</th>\n",
       "      <th>In-app Purchases</th>\n",
       "      <th>Description</th>\n",
       "      <th>Developer</th>\n",
       "      <th>Age Rating</th>\n",
       "      <th>Languages</th>\n",
       "      <th>Size</th>\n",
       "      <th>Primary Genre</th>\n",
       "      <th>Genres</th>\n",
       "      <th>Original Release Date</th>\n",
       "      <th>Current Version Release Date</th>\n",
       "    </tr>\n",
       "  </thead>\n",
       "  <tbody>\n",
       "    <tr>\n",
       "      <th>17002</th>\n",
       "      <td>https://apps.apple.com/us/app/stack-puzzle-ris...</td>\n",
       "      <td>1474626442</td>\n",
       "      <td>Stack Puzzle : Rise Tower</td>\n",
       "      <td>Blast the cubes, solve puzzle!</td>\n",
       "      <td>https://is5-ssl.mzstatic.com/image/thumb/Purpl...</td>\n",
       "      <td>NaN</td>\n",
       "      <td>NaN</td>\n",
       "      <td>0.0</td>\n",
       "      <td>NaN</td>\n",
       "      <td>The goal is very simple, move the square horiz...</td>\n",
       "      <td>Zhigang Pei</td>\n",
       "      <td>4+</td>\n",
       "      <td>EN</td>\n",
       "      <td>64795648.0</td>\n",
       "      <td>Games</td>\n",
       "      <td>Games, Entertainment, Casual, Strategy</td>\n",
       "      <td>30/07/2019</td>\n",
       "      <td>30/07/2019</td>\n",
       "    </tr>\n",
       "    <tr>\n",
       "      <th>17003</th>\n",
       "      <td>https://apps.apple.com/us/app/eachother/id1474...</td>\n",
       "      <td>1474919257</td>\n",
       "      <td>EachOther</td>\n",
       "      <td>NaN</td>\n",
       "      <td>https://is2-ssl.mzstatic.com/image/thumb/Purpl...</td>\n",
       "      <td>NaN</td>\n",
       "      <td>NaN</td>\n",
       "      <td>0.0</td>\n",
       "      <td>NaN</td>\n",
       "      <td>Collect a score while you play!!\\n\\nBy linking...</td>\n",
       "      <td>Sultan Shindi</td>\n",
       "      <td>4+</td>\n",
       "      <td>EN</td>\n",
       "      <td>110341120.0</td>\n",
       "      <td>Games</td>\n",
       "      <td>Games, Family, Strategy</td>\n",
       "      <td>1/08/2019</td>\n",
       "      <td>1/08/2019</td>\n",
       "    </tr>\n",
       "    <tr>\n",
       "      <th>17004</th>\n",
       "      <td>https://apps.apple.com/us/app/rabbit-vs-tortoi...</td>\n",
       "      <td>1474962324</td>\n",
       "      <td>Rabbit Vs Tortoise</td>\n",
       "      <td>NaN</td>\n",
       "      <td>https://is2-ssl.mzstatic.com/image/thumb/Purpl...</td>\n",
       "      <td>NaN</td>\n",
       "      <td>NaN</td>\n",
       "      <td>0.0</td>\n",
       "      <td>NaN</td>\n",
       "      <td>\"Rabbit Vs Tortoise is chess type cool simple ...</td>\n",
       "      <td>Vishal Baldha</td>\n",
       "      <td>4+</td>\n",
       "      <td>EN</td>\n",
       "      <td>23207936.0</td>\n",
       "      <td>Games</td>\n",
       "      <td>Games, Strategy</td>\n",
       "      <td>3/08/2019</td>\n",
       "      <td>3/08/2019</td>\n",
       "    </tr>\n",
       "    <tr>\n",
       "      <th>17005</th>\n",
       "      <td>https://apps.apple.com/us/app/fatall/id1474963671</td>\n",
       "      <td>1474963671</td>\n",
       "      <td>FaTaLL</td>\n",
       "      <td>Most fun game!!!</td>\n",
       "      <td>https://is1-ssl.mzstatic.com/image/thumb/Purpl...</td>\n",
       "      <td>NaN</td>\n",
       "      <td>NaN</td>\n",
       "      <td>0.0</td>\n",
       "      <td>9.99, 49.99, 3.99</td>\n",
       "      <td>Upgrade your character and use your skills to ...</td>\n",
       "      <td>Tayrem Games</td>\n",
       "      <td>4+</td>\n",
       "      <td>EN</td>\n",
       "      <td>196750336.0</td>\n",
       "      <td>Games</td>\n",
       "      <td>Games, Strategy, Action</td>\n",
       "      <td>1/08/2019</td>\n",
       "      <td>1/08/2019</td>\n",
       "    </tr>\n",
       "    <tr>\n",
       "      <th>17006</th>\n",
       "      <td>https://apps.apple.com/us/app/the-three-kingdo...</td>\n",
       "      <td>1475076711</td>\n",
       "      <td>The Three Kingdoms :Bomb</td>\n",
       "      <td>NaN</td>\n",
       "      <td>https://is1-ssl.mzstatic.com/image/thumb/Purpl...</td>\n",
       "      <td>NaN</td>\n",
       "      <td>NaN</td>\n",
       "      <td>0.0</td>\n",
       "      <td>NaN</td>\n",
       "      <td>The protagonist uses the method of placing a b...</td>\n",
       "      <td>ming bo tang</td>\n",
       "      <td>4+</td>\n",
       "      <td>EN, ZH</td>\n",
       "      <td>22952960.0</td>\n",
       "      <td>Games</td>\n",
       "      <td>Games, Strategy, Puzzle</td>\n",
       "      <td>2/08/2019</td>\n",
       "      <td>2/08/2019</td>\n",
       "    </tr>\n",
       "  </tbody>\n",
       "</table>\n",
       "</div>"
      ],
      "text/plain": [
       "                                                     URL          ID  \\\n",
       "17002  https://apps.apple.com/us/app/stack-puzzle-ris...  1474626442   \n",
       "17003  https://apps.apple.com/us/app/eachother/id1474...  1474919257   \n",
       "17004  https://apps.apple.com/us/app/rabbit-vs-tortoi...  1474962324   \n",
       "17005  https://apps.apple.com/us/app/fatall/id1474963671  1474963671   \n",
       "17006  https://apps.apple.com/us/app/the-three-kingdo...  1475076711   \n",
       "\n",
       "                            Name                        Subtitle  \\\n",
       "17002  Stack Puzzle : Rise Tower  Blast the cubes, solve puzzle!   \n",
       "17003                  EachOther                             NaN   \n",
       "17004         Rabbit Vs Tortoise                             NaN   \n",
       "17005                     FaTaLL                Most fun game!!!   \n",
       "17006   The Three Kingdoms :Bomb                             NaN   \n",
       "\n",
       "                                                Icon URL  Average User Rating  \\\n",
       "17002  https://is5-ssl.mzstatic.com/image/thumb/Purpl...                  NaN   \n",
       "17003  https://is2-ssl.mzstatic.com/image/thumb/Purpl...                  NaN   \n",
       "17004  https://is2-ssl.mzstatic.com/image/thumb/Purpl...                  NaN   \n",
       "17005  https://is1-ssl.mzstatic.com/image/thumb/Purpl...                  NaN   \n",
       "17006  https://is1-ssl.mzstatic.com/image/thumb/Purpl...                  NaN   \n",
       "\n",
       "       User Rating Count  Price   In-app Purchases  \\\n",
       "17002                NaN    0.0                NaN   \n",
       "17003                NaN    0.0                NaN   \n",
       "17004                NaN    0.0                NaN   \n",
       "17005                NaN    0.0  9.99, 49.99, 3.99   \n",
       "17006                NaN    0.0                NaN   \n",
       "\n",
       "                                             Description      Developer  \\\n",
       "17002  The goal is very simple, move the square horiz...    Zhigang Pei   \n",
       "17003  Collect a score while you play!!\\n\\nBy linking...  Sultan Shindi   \n",
       "17004  \"Rabbit Vs Tortoise is chess type cool simple ...  Vishal Baldha   \n",
       "17005  Upgrade your character and use your skills to ...   Tayrem Games   \n",
       "17006  The protagonist uses the method of placing a b...   ming bo tang   \n",
       "\n",
       "      Age Rating Languages         Size Primary Genre  \\\n",
       "17002         4+        EN   64795648.0         Games   \n",
       "17003         4+        EN  110341120.0         Games   \n",
       "17004         4+        EN   23207936.0         Games   \n",
       "17005         4+        EN  196750336.0         Games   \n",
       "17006         4+    EN, ZH   22952960.0         Games   \n",
       "\n",
       "                                       Genres Original Release Date  \\\n",
       "17002  Games, Entertainment, Casual, Strategy            30/07/2019   \n",
       "17003                 Games, Family, Strategy             1/08/2019   \n",
       "17004                         Games, Strategy             3/08/2019   \n",
       "17005                 Games, Strategy, Action             1/08/2019   \n",
       "17006                 Games, Strategy, Puzzle             2/08/2019   \n",
       "\n",
       "      Current Version Release Date  \n",
       "17002                   30/07/2019  \n",
       "17003                    1/08/2019  \n",
       "17004                    3/08/2019  \n",
       "17005                    1/08/2019  \n",
       "17006                    2/08/2019  "
      ]
     },
     "execution_count": 5,
     "metadata": {},
     "output_type": "execute_result"
    }
   ],
   "source": [
    "data.tail()"
   ]
  },
  {
   "cell_type": "code",
   "execution_count": 6,
   "metadata": {},
   "outputs": [
    {
     "name": "stdout",
     "output_type": "stream",
     "text": [
      "<class 'pandas.core.frame.DataFrame'>\n",
      "RangeIndex: 17007 entries, 0 to 17006\n",
      "Data columns (total 18 columns):\n",
      " #   Column                        Non-Null Count  Dtype  \n",
      "---  ------                        --------------  -----  \n",
      " 0   URL                           17007 non-null  object \n",
      " 1   ID                            17007 non-null  int64  \n",
      " 2   Name                          17007 non-null  object \n",
      " 3   Subtitle                      5261 non-null   object \n",
      " 4   Icon URL                      17007 non-null  object \n",
      " 5   Average User Rating           7561 non-null   float64\n",
      " 6   User Rating Count             7561 non-null   float64\n",
      " 7   Price                         16983 non-null  float64\n",
      " 8   In-app Purchases              7683 non-null   object \n",
      " 9   Description                   17007 non-null  object \n",
      " 10  Developer                     17007 non-null  object \n",
      " 11  Age Rating                    17007 non-null  object \n",
      " 12  Languages                     16947 non-null  object \n",
      " 13  Size                          17006 non-null  float64\n",
      " 14  Primary Genre                 17007 non-null  object \n",
      " 15  Genres                        17007 non-null  object \n",
      " 16  Original Release Date         17007 non-null  object \n",
      " 17  Current Version Release Date  17007 non-null  object \n",
      "dtypes: float64(4), int64(1), object(13)\n",
      "memory usage: 2.3+ MB\n"
     ]
    }
   ],
   "source": [
    "data.info()"
   ]
  },
  {
   "cell_type": "code",
   "execution_count": 7,
   "metadata": {},
   "outputs": [
    {
     "data": {
      "text/plain": [
       "URL                              0.000000\n",
       "ID                               0.000000\n",
       "Name                             0.000000\n",
       "Subtitle                        69.065679\n",
       "Icon URL                         0.000000\n",
       "Average User Rating             55.541836\n",
       "User Rating Count               55.541836\n",
       "Price                            0.141118\n",
       "In-app Purchases                54.824484\n",
       "Description                      0.000000\n",
       "Developer                        0.000000\n",
       "Age Rating                       0.000000\n",
       "Languages                        0.352796\n",
       "Size                             0.005880\n",
       "Primary Genre                    0.000000\n",
       "Genres                           0.000000\n",
       "Original Release Date            0.000000\n",
       "Current Version Release Date     0.000000\n",
       "dtype: float64"
      ]
     },
     "execution_count": 7,
     "metadata": {},
     "output_type": "execute_result"
    }
   ],
   "source": [
    "(data.isnull().sum()/data.shape[0])*100"
   ]
  },
  {
   "cell_type": "code",
   "execution_count": 8,
   "metadata": {},
   "outputs": [
    {
     "data": {
      "text/html": [
       "<div>\n",
       "<style scoped>\n",
       "    .dataframe tbody tr th:only-of-type {\n",
       "        vertical-align: middle;\n",
       "    }\n",
       "\n",
       "    .dataframe tbody tr th {\n",
       "        vertical-align: top;\n",
       "    }\n",
       "\n",
       "    .dataframe thead th {\n",
       "        text-align: right;\n",
       "    }\n",
       "</style>\n",
       "<table border=\"1\" class=\"dataframe\">\n",
       "  <thead>\n",
       "    <tr style=\"text-align: right;\">\n",
       "      <th></th>\n",
       "      <th>ID</th>\n",
       "      <th>Average User Rating</th>\n",
       "      <th>User Rating Count</th>\n",
       "      <th>Price</th>\n",
       "      <th>Size</th>\n",
       "    </tr>\n",
       "  </thead>\n",
       "  <tbody>\n",
       "    <tr>\n",
       "      <th>count</th>\n",
       "      <td>1.700700e+04</td>\n",
       "      <td>7561.000000</td>\n",
       "      <td>7.561000e+03</td>\n",
       "      <td>16983.000000</td>\n",
       "      <td>1.700600e+04</td>\n",
       "    </tr>\n",
       "    <tr>\n",
       "      <th>mean</th>\n",
       "      <td>1.059614e+09</td>\n",
       "      <td>4.060905</td>\n",
       "      <td>3.306531e+03</td>\n",
       "      <td>0.813419</td>\n",
       "      <td>1.157064e+08</td>\n",
       "    </tr>\n",
       "    <tr>\n",
       "      <th>std</th>\n",
       "      <td>2.999676e+08</td>\n",
       "      <td>0.751428</td>\n",
       "      <td>4.232256e+04</td>\n",
       "      <td>7.835732</td>\n",
       "      <td>2.036477e+08</td>\n",
       "    </tr>\n",
       "    <tr>\n",
       "      <th>min</th>\n",
       "      <td>2.849214e+08</td>\n",
       "      <td>1.000000</td>\n",
       "      <td>5.000000e+00</td>\n",
       "      <td>0.000000</td>\n",
       "      <td>5.132800e+04</td>\n",
       "    </tr>\n",
       "    <tr>\n",
       "      <th>25%</th>\n",
       "      <td>8.996543e+08</td>\n",
       "      <td>3.500000</td>\n",
       "      <td>1.200000e+01</td>\n",
       "      <td>0.000000</td>\n",
       "      <td>2.295014e+07</td>\n",
       "    </tr>\n",
       "    <tr>\n",
       "      <th>50%</th>\n",
       "      <td>1.112286e+09</td>\n",
       "      <td>4.500000</td>\n",
       "      <td>4.600000e+01</td>\n",
       "      <td>0.000000</td>\n",
       "      <td>5.676895e+07</td>\n",
       "    </tr>\n",
       "    <tr>\n",
       "      <th>75%</th>\n",
       "      <td>1.286983e+09</td>\n",
       "      <td>4.500000</td>\n",
       "      <td>3.090000e+02</td>\n",
       "      <td>0.000000</td>\n",
       "      <td>1.330271e+08</td>\n",
       "    </tr>\n",
       "    <tr>\n",
       "      <th>max</th>\n",
       "      <td>1.475077e+09</td>\n",
       "      <td>5.000000</td>\n",
       "      <td>3.032734e+06</td>\n",
       "      <td>179.990000</td>\n",
       "      <td>4.005591e+09</td>\n",
       "    </tr>\n",
       "  </tbody>\n",
       "</table>\n",
       "</div>"
      ],
      "text/plain": [
       "                 ID  Average User Rating  User Rating Count         Price  \\\n",
       "count  1.700700e+04          7561.000000       7.561000e+03  16983.000000   \n",
       "mean   1.059614e+09             4.060905       3.306531e+03      0.813419   \n",
       "std    2.999676e+08             0.751428       4.232256e+04      7.835732   \n",
       "min    2.849214e+08             1.000000       5.000000e+00      0.000000   \n",
       "25%    8.996543e+08             3.500000       1.200000e+01      0.000000   \n",
       "50%    1.112286e+09             4.500000       4.600000e+01      0.000000   \n",
       "75%    1.286983e+09             4.500000       3.090000e+02      0.000000   \n",
       "max    1.475077e+09             5.000000       3.032734e+06    179.990000   \n",
       "\n",
       "               Size  \n",
       "count  1.700600e+04  \n",
       "mean   1.157064e+08  \n",
       "std    2.036477e+08  \n",
       "min    5.132800e+04  \n",
       "25%    2.295014e+07  \n",
       "50%    5.676895e+07  \n",
       "75%    1.330271e+08  \n",
       "max    4.005591e+09  "
      ]
     },
     "execution_count": 8,
     "metadata": {},
     "output_type": "execute_result"
    }
   ],
   "source": [
    "data.describe()"
   ]
  },
  {
   "cell_type": "markdown",
   "metadata": {},
   "source": [
    "# EDA"
   ]
  },
  {
   "cell_type": "code",
   "execution_count": 9,
   "metadata": {},
   "outputs": [],
   "source": [
    "target_var = 'Average User Rating'"
   ]
  },
  {
   "cell_type": "code",
   "execution_count": 10,
   "metadata": {},
   "outputs": [
    {
     "data": {
      "text/plain": [
       "4.5    2861\n",
       "4.0    1722\n",
       "5.0     990\n",
       "3.5     925\n",
       "3.0     514\n",
       "2.5     317\n",
       "2.0     158\n",
       "1.5      60\n",
       "1.0      14\n",
       "Name: Average User Rating, dtype: int64"
      ]
     },
     "execution_count": 10,
     "metadata": {},
     "output_type": "execute_result"
    }
   ],
   "source": [
    "data['Average User Rating'].value_counts()"
   ]
  },
  {
   "cell_type": "markdown",
   "metadata": {},
   "source": [
    "This is target, we should predict the Average user rating. The target can be numerical and categorical."
   ]
  },
  {
   "cell_type": "code",
   "execution_count": 11,
   "metadata": {},
   "outputs": [
    {
     "data": {
      "text/plain": [
       "<matplotlib.axes._subplots.AxesSubplot at 0x1e8f02ed748>"
      ]
     },
     "execution_count": 11,
     "metadata": {},
     "output_type": "execute_result"
    },
    {
     "data": {
      "image/png": "[encoded data removed]",
      "text/plain": [
       "<Figure size 720x720 with 1 Axes>"
      ]
     },
     "metadata": {
      "needs_background": "light"
     },
     "output_type": "display_data"
    }
   ],
   "source": [
    "data['Developer'].value_counts()[:50].plot.barh(figsize=(10, 10))\n",
    "#categorical var"
   ]
  },
  {
   "cell_type": "code",
   "execution_count": 12,
   "metadata": {},
   "outputs": [
    {
     "data": {
      "text/plain": [
       "4+     11806\n",
       "9+      2481\n",
       "12+     2055\n",
       "17+      665\n",
       "Name: Age Rating, dtype: int64"
      ]
     },
     "execution_count": 12,
     "metadata": {},
     "output_type": "execute_result"
    }
   ],
   "source": [
    "data['Age Rating'].value_counts()\n",
    "#categorical var"
   ]
  },
  {
   "cell_type": "code",
   "execution_count": 13,
   "metadata": {},
   "outputs": [
    {
     "data": {
      "text/plain": [
       "<matplotlib.axes._subplots.AxesSubplot at 0x1e8f143f8c8>"
      ]
     },
     "execution_count": 13,
     "metadata": {},
     "output_type": "execute_result"
    },
    {
     "data": {
      "image/png": "[encoded data removed]",
      "text/plain": [
       "<Figure size 432x288 with 1 Axes>"
      ]
     },
     "metadata": {
      "needs_background": "light"
     },
     "output_type": "display_data"
    }
   ],
   "source": [
    "data.groupby('Age Rating')[target_var].mean().plot.bar()"
   ]
  },
  {
   "cell_type": "code",
   "execution_count": 14,
   "metadata": {},
   "outputs": [
    {
     "data": {
      "text/plain": [
       "EN                                                                                                    12467\n",
       "EN, ZH                                                                                                  354\n",
       "CS, NL, EN, FR, DE, IT, JA, KO, PL, PT, RU, ZH, ES, SV, ZH, TR                                          277\n",
       "EN, ZH, ZH                                                                                              248\n",
       "EN, DE                                                                                                  147\n",
       "                                                                                                      ...  \n",
       "EN, FR, DE, KO, RU, ZH, ZH                                                                                1\n",
       "NL, EN, FR, DE, ID, IT, JA, KO, PL, PT, RU, ZH, ES, TH, TR                                                1\n",
       "BG, HR, CS, DA, NL, EN, FI, FR, DE, EL, HU, IT, JA, KO, MS, NO, PL, PT, RO, RU, SR, SK, ES, SV, TR        1\n",
       "EN, ZH, VI                                                                                                1\n",
       "BN, EN, FR, DE, ID, IT, PT, RU, ES                                                                        1\n",
       "Name: Languages, Length: 990, dtype: int64"
      ]
     },
     "execution_count": 14,
     "metadata": {},
     "output_type": "execute_result"
    }
   ],
   "source": [
    "data['Languages'].value_counts()"
   ]
  },
  {
   "cell_type": "code",
   "execution_count": 15,
   "metadata": {},
   "outputs": [
    {
     "data": {
      "text/plain": [
       "Games                0.957606\n",
       "Education            0.013053\n",
       "Entertainment        0.011642\n",
       "Utilities            0.004528\n",
       "Sports               0.003528\n",
       "Reference            0.001882\n",
       "Stickers             0.001705\n",
       "Finance              0.001058\n",
       "Business             0.000941\n",
       "Productivity         0.000882\n",
       "Lifestyle            0.000588\n",
       "Book                 0.000529\n",
       "Social Networking    0.000529\n",
       "News                 0.000412\n",
       "Health & Fitness     0.000294\n",
       "Food & Drink         0.000235\n",
       "Navigation           0.000176\n",
       "Music                0.000176\n",
       "Medical              0.000118\n",
       "Shopping             0.000059\n",
       "Travel               0.000059\n",
       "Name: Primary Genre, dtype: float64"
      ]
     },
     "execution_count": 15,
     "metadata": {},
     "output_type": "execute_result"
    }
   ],
   "source": [
    "data['Primary Genre'].value_counts(normalize=True)"
   ]
  },
  {
   "cell_type": "code",
   "execution_count": 16,
   "metadata": {},
   "outputs": [
    {
     "data": {
      "text/plain": [
       "Games, Strategy, Puzzle                           778\n",
       "Games, Puzzle, Strategy                           694\n",
       "Games, Strategy                                   588\n",
       "Games, Strategy, Action                           483\n",
       "Games, Simulation, Strategy                       465\n",
       "                                                 ... \n",
       "Games, Strategy, Business, Trivia                   1\n",
       "Games, Magazines & Newspapers, Board, Strategy      1\n",
       "Social Networking, Games, Strategy, Casual          1\n",
       "Games, Casual, Strategy, Travel                     1\n",
       "Games, Sports, Strategy, Lifestyle                  1\n",
       "Name: Genres, Length: 1004, dtype: int64"
      ]
     },
     "execution_count": 16,
     "metadata": {},
     "output_type": "execute_result"
    }
   ],
   "source": [
    "data['Genres'].value_counts()"
   ]
  },
  {
   "cell_type": "code",
   "execution_count": 17,
   "metadata": {},
   "outputs": [
    {
     "data": {
      "text/plain": [
       "Emoji Stickers                    14\n",
       "Tycoon Idle Game                   5\n",
       "become billionaire!                5\n",
       "Classic turn-based wargame         4\n",
       "#NAME?                             4\n",
       "                                  ..\n",
       "Optimize decks for max damage!     1\n",
       "Return the missing princess!       1\n",
       "a unique TD experience             1\n",
       "Football Manager - Strategy        1\n",
       "Fun and Amazing farm idle game     1\n",
       "Name: Subtitle, Length: 5010, dtype: int64"
      ]
     },
     "execution_count": 17,
     "metadata": {},
     "output_type": "execute_result"
    }
   ],
   "source": [
    "data['Subtitle'].value_counts()"
   ]
  },
  {
   "cell_type": "markdown",
   "metadata": {},
   "source": [
    "# Feature Engineering "
   ]
  },
  {
   "cell_type": "code",
   "execution_count": 18,
   "metadata": {},
   "outputs": [
    {
     "data": {
      "text/plain": [
       "URL                                 0\n",
       "ID                                  0\n",
       "Name                                0\n",
       "Subtitle                        11746\n",
       "Icon URL                            0\n",
       "Average User Rating              9446\n",
       "User Rating Count                9446\n",
       "Price                              24\n",
       "In-app Purchases                 9324\n",
       "Description                         0\n",
       "Developer                           0\n",
       "Age Rating                          0\n",
       "Languages                          60\n",
       "Size                                1\n",
       "Primary Genre                       0\n",
       "Genres                              0\n",
       "Original Release Date               0\n",
       "Current Version Release Date        0\n",
       "dtype: int64"
      ]
     },
     "execution_count": 18,
     "metadata": {},
     "output_type": "execute_result"
    }
   ],
   "source": [
    "data.isnull().sum()"
   ]
  },
  {
   "cell_type": "code",
   "execution_count": 19,
   "metadata": {},
   "outputs": [],
   "source": [
    "data.drop(['Subtitle'], axis=1, inplace=True)"
   ]
  },
  {
   "cell_type": "code",
   "execution_count": 20,
   "metadata": {},
   "outputs": [],
   "source": [
    "to_drop = ['URL', 'ID', 'Name', 'Icon URL', \n",
    "           'Description', 'Price', \n",
    "           'In-app Purchases', 'Developer',\n",
    "           'Age Rating', 'Language', 'Primary Genre',\n",
    "            'Genres', 'Current Version Release Date',\n",
    "              'Original Release Date']"
   ]
  },
  {
   "cell_type": "code",
   "execution_count": 21,
   "metadata": {},
   "outputs": [
    {
     "data": {
      "text/plain": [
       "Index(['URL', 'ID', 'Name', 'Icon URL', 'Average User Rating',\n",
       "       'User Rating Count', 'Price', 'In-app Purchases', 'Description',\n",
       "       'Developer', 'Age Rating', 'Languages', 'Size', 'Primary Genre',\n",
       "       'Genres', 'Original Release Date', 'Current Version Release Date'],\n",
       "      dtype='object')"
      ]
     },
     "execution_count": 21,
     "metadata": {},
     "output_type": "execute_result"
    }
   ],
   "source": [
    "data.columns"
   ]
  },
  {
   "cell_type": "markdown",
   "metadata": {},
   "source": [
    "Since half of target variables are missing, we drop the whole dataset in terms of target var. "
   ]
  },
  {
   "cell_type": "code",
   "execution_count": 22,
   "metadata": {},
   "outputs": [],
   "source": [
    "data.dropna(subset=['Average User Rating'], inplace=True)"
   ]
  },
  {
   "cell_type": "code",
   "execution_count": 23,
   "metadata": {},
   "outputs": [],
   "source": [
    "data.reset_index(drop=True, inplace=True)\n",
    "# reset indexes for scaling purposes\n",
    "# drop=True don't create duplicates\n",
    "# inplace =True don't make a copy"
   ]
  },
  {
   "cell_type": "code",
   "execution_count": 24,
   "metadata": {},
   "outputs": [
    {
     "data": {
      "text/plain": [
       "(7561, 17)"
      ]
     },
     "execution_count": 24,
     "metadata": {},
     "output_type": "execute_result"
    }
   ],
   "source": [
    "data.shape"
   ]
  },
  {
   "cell_type": "code",
   "execution_count": 25,
   "metadata": {},
   "outputs": [
    {
     "data": {
      "text/html": [
       "<div>\n",
       "<style scoped>\n",
       "    .dataframe tbody tr th:only-of-type {\n",
       "        vertical-align: middle;\n",
       "    }\n",
       "\n",
       "    .dataframe tbody tr th {\n",
       "        vertical-align: top;\n",
       "    }\n",
       "\n",
       "    .dataframe thead th {\n",
       "        text-align: right;\n",
       "    }\n",
       "</style>\n",
       "<table border=\"1\" class=\"dataframe\">\n",
       "  <thead>\n",
       "    <tr style=\"text-align: right;\">\n",
       "      <th></th>\n",
       "      <th>URL</th>\n",
       "      <th>ID</th>\n",
       "      <th>Name</th>\n",
       "      <th>Icon URL</th>\n",
       "      <th>Average User Rating</th>\n",
       "      <th>User Rating Count</th>\n",
       "      <th>Price</th>\n",
       "      <th>In-app Purchases</th>\n",
       "      <th>Description</th>\n",
       "      <th>Developer</th>\n",
       "      <th>Age Rating</th>\n",
       "      <th>Languages</th>\n",
       "      <th>Size</th>\n",
       "      <th>Primary Genre</th>\n",
       "      <th>Genres</th>\n",
       "      <th>Original Release Date</th>\n",
       "      <th>Current Version Release Date</th>\n",
       "    </tr>\n",
       "  </thead>\n",
       "  <tbody>\n",
       "    <tr>\n",
       "      <th>7556</th>\n",
       "      <td>https://apps.apple.com/us/app/die-last/id14730...</td>\n",
       "      <td>1473084135</td>\n",
       "      <td>Die Last</td>\n",
       "      <td>https://is1-ssl.mzstatic.com/image/thumb/Purpl...</td>\n",
       "      <td>3.0</td>\n",
       "      <td>6.0</td>\n",
       "      <td>0.0</td>\n",
       "      <td>NaN</td>\n",
       "      <td>\"Welcome to this mysterious room full of gears...</td>\n",
       "      <td>Jie Yang</td>\n",
       "      <td>12+</td>\n",
       "      <td>EN, ZH</td>\n",
       "      <td>151308288.0</td>\n",
       "      <td>Games</td>\n",
       "      <td>Games, Strategy, Entertainment, Puzzle</td>\n",
       "      <td>31/07/2019</td>\n",
       "      <td>31/07/2019</td>\n",
       "    </tr>\n",
       "    <tr>\n",
       "      <th>7557</th>\n",
       "      <td>https://apps.apple.com/us/app/basic-slosh/id14...</td>\n",
       "      <td>1473181500</td>\n",
       "      <td>Basic Slosh</td>\n",
       "      <td>https://is5-ssl.mzstatic.com/image/thumb/Purpl...</td>\n",
       "      <td>5.0</td>\n",
       "      <td>30.0</td>\n",
       "      <td>0.0</td>\n",
       "      <td>NaN</td>\n",
       "      <td>\"Take the ball to safety and reach the next le...</td>\n",
       "      <td>Ashnell Marchand</td>\n",
       "      <td>4+</td>\n",
       "      <td>EN</td>\n",
       "      <td>79646720.0</td>\n",
       "      <td>Games</td>\n",
       "      <td>Games, Entertainment, Action, Strategy</td>\n",
       "      <td>23/07/2019</td>\n",
       "      <td>23/07/2019</td>\n",
       "    </tr>\n",
       "    <tr>\n",
       "      <th>7558</th>\n",
       "      <td>https://apps.apple.com/us/app/idle-racing-tyco...</td>\n",
       "      <td>1473559573</td>\n",
       "      <td>Idle Racing Tycoon</td>\n",
       "      <td>https://is2-ssl.mzstatic.com/image/thumb/Purpl...</td>\n",
       "      <td>5.0</td>\n",
       "      <td>51.0</td>\n",
       "      <td>0.0</td>\n",
       "      <td>NaN</td>\n",
       "      <td>Build your racing circuit.\\n\\nRecruit visitors...</td>\n",
       "      <td>Carson Brody</td>\n",
       "      <td>9+</td>\n",
       "      <td>EN</td>\n",
       "      <td>125348864.0</td>\n",
       "      <td>Games</td>\n",
       "      <td>Games, Simulation, Strategy</td>\n",
       "      <td>31/07/2019</td>\n",
       "      <td>31/07/2019</td>\n",
       "    </tr>\n",
       "    <tr>\n",
       "      <th>7559</th>\n",
       "      <td>https://apps.apple.com/us/app/glow-hockey-stri...</td>\n",
       "      <td>1473680543</td>\n",
       "      <td>Glow Hockey Strike</td>\n",
       "      <td>https://is2-ssl.mzstatic.com/image/thumb/Purpl...</td>\n",
       "      <td>5.0</td>\n",
       "      <td>5.0</td>\n",
       "      <td>0.0</td>\n",
       "      <td>NaN</td>\n",
       "      <td>Glow Hockey Strike is a cool colorful air hock...</td>\n",
       "      <td>Samir Jabeur</td>\n",
       "      <td>4+</td>\n",
       "      <td>EN</td>\n",
       "      <td>128687104.0</td>\n",
       "      <td>Games</td>\n",
       "      <td>Games, Simulation, Strategy</td>\n",
       "      <td>28/07/2019</td>\n",
       "      <td>28/07/2019</td>\n",
       "    </tr>\n",
       "    <tr>\n",
       "      <th>7560</th>\n",
       "      <td>https://apps.apple.com/us/app/agadmator-chess-...</td>\n",
       "      <td>1474461379</td>\n",
       "      <td>Agadmator Chess Clock</td>\n",
       "      <td>https://is1-ssl.mzstatic.com/image/thumb/Purpl...</td>\n",
       "      <td>5.0</td>\n",
       "      <td>33.0</td>\n",
       "      <td>0.0</td>\n",
       "      <td>NaN</td>\n",
       "      <td>Agadmator Chess Clock is a beautiful, lightwei...</td>\n",
       "      <td>Ivan Amidzic</td>\n",
       "      <td>4+</td>\n",
       "      <td>EN</td>\n",
       "      <td>8845312.0</td>\n",
       "      <td>Games</td>\n",
       "      <td>Games, Strategy, Board, Utilities</td>\n",
       "      <td>30/07/2019</td>\n",
       "      <td>30/07/2019</td>\n",
       "    </tr>\n",
       "  </tbody>\n",
       "</table>\n",
       "</div>"
      ],
      "text/plain": [
       "                                                    URL          ID  \\\n",
       "7556  https://apps.apple.com/us/app/die-last/id14730...  1473084135   \n",
       "7557  https://apps.apple.com/us/app/basic-slosh/id14...  1473181500   \n",
       "7558  https://apps.apple.com/us/app/idle-racing-tyco...  1473559573   \n",
       "7559  https://apps.apple.com/us/app/glow-hockey-stri...  1473680543   \n",
       "7560  https://apps.apple.com/us/app/agadmator-chess-...  1474461379   \n",
       "\n",
       "                       Name  \\\n",
       "7556               Die Last   \n",
       "7557            Basic Slosh   \n",
       "7558     Idle Racing Tycoon   \n",
       "7559     Glow Hockey Strike   \n",
       "7560  Agadmator Chess Clock   \n",
       "\n",
       "                                               Icon URL  Average User Rating  \\\n",
       "7556  https://is1-ssl.mzstatic.com/image/thumb/Purpl...                  3.0   \n",
       "7557  https://is5-ssl.mzstatic.com/image/thumb/Purpl...                  5.0   \n",
       "7558  https://is2-ssl.mzstatic.com/image/thumb/Purpl...                  5.0   \n",
       "7559  https://is2-ssl.mzstatic.com/image/thumb/Purpl...                  5.0   \n",
       "7560  https://is1-ssl.mzstatic.com/image/thumb/Purpl...                  5.0   \n",
       "\n",
       "      User Rating Count  Price In-app Purchases  \\\n",
       "7556                6.0    0.0              NaN   \n",
       "7557               30.0    0.0              NaN   \n",
       "7558               51.0    0.0              NaN   \n",
       "7559                5.0    0.0              NaN   \n",
       "7560               33.0    0.0              NaN   \n",
       "\n",
       "                                            Description         Developer  \\\n",
       "7556  \"Welcome to this mysterious room full of gears...          Jie Yang   \n",
       "7557  \"Take the ball to safety and reach the next le...  Ashnell Marchand   \n",
       "7558  Build your racing circuit.\\n\\nRecruit visitors...      Carson Brody   \n",
       "7559  Glow Hockey Strike is a cool colorful air hock...      Samir Jabeur   \n",
       "7560  Agadmator Chess Clock is a beautiful, lightwei...      Ivan Amidzic   \n",
       "\n",
       "     Age Rating Languages         Size Primary Genre  \\\n",
       "7556        12+    EN, ZH  151308288.0         Games   \n",
       "7557         4+        EN   79646720.0         Games   \n",
       "7558         9+        EN  125348864.0         Games   \n",
       "7559         4+        EN  128687104.0         Games   \n",
       "7560         4+        EN    8845312.0         Games   \n",
       "\n",
       "                                      Genres Original Release Date  \\\n",
       "7556  Games, Strategy, Entertainment, Puzzle            31/07/2019   \n",
       "7557  Games, Entertainment, Action, Strategy            23/07/2019   \n",
       "7558             Games, Simulation, Strategy            31/07/2019   \n",
       "7559             Games, Simulation, Strategy            28/07/2019   \n",
       "7560       Games, Strategy, Board, Utilities            30/07/2019   \n",
       "\n",
       "     Current Version Release Date  \n",
       "7556                   31/07/2019  \n",
       "7557                   23/07/2019  \n",
       "7558                   31/07/2019  \n",
       "7559                   28/07/2019  \n",
       "7560                   30/07/2019  "
      ]
     },
     "execution_count": 25,
     "metadata": {},
     "output_type": "execute_result"
    }
   ],
   "source": [
    "data.tail()"
   ]
  },
  {
   "cell_type": "markdown",
   "metadata": {},
   "source": [
    "# Target variable  'Average User Rating'"
   ]
  },
  {
   "cell_type": "code",
   "execution_count": 26,
   "metadata": {},
   "outputs": [
    {
     "data": {
      "image/png": "[encoded data removed]",
      "text/plain": [
       "<Figure size 432x288 with 1 Axes>"
      ]
     },
     "metadata": {
      "needs_background": "light"
     },
     "output_type": "display_data"
    }
   ],
   "source": [
    "data['Average User Rating'].hist(bins=9);\n"
   ]
  },
  {
   "cell_type": "code",
   "execution_count": 185,
   "metadata": {},
   "outputs": [
    {
     "data": {
      "text/plain": [
       "4.5    0.377521\n",
       "4.0    0.228370\n",
       "5.0    0.131104\n",
       "3.5    0.121948\n",
       "3.0    0.068206\n",
       "2.5    0.042065\n",
       "2.0    0.020966\n",
       "1.5    0.007962\n",
       "1.0    0.001858\n",
       "Name: Average User Rating, dtype: float64"
      ]
     },
     "execution_count": 185,
     "metadata": {},
     "output_type": "execute_result"
    }
   ],
   "source": [
    "data['Average User Rating'].value_counts(normalize=True)"
   ]
  },
  {
   "cell_type": "code",
   "execution_count": null,
   "metadata": {},
   "outputs": [],
   "source": []
  },
  {
   "cell_type": "markdown",
   "metadata": {},
   "source": [
    "# User Rating count"
   ]
  },
  {
   "cell_type": "code",
   "execution_count": 27,
   "metadata": {},
   "outputs": [
    {
     "data": {
      "text/plain": [
       "<matplotlib.axes._subplots.AxesSubplot at 0x1e8f126dd08>"
      ]
     },
     "execution_count": 27,
     "metadata": {},
     "output_type": "execute_result"
    },
    {
     "data": {
      "image/png": "[encoded data removed]",
      "text/plain": [
       "<Figure size 432x288 with 1 Axes>"
      ]
     },
     "metadata": {
      "needs_background": "light"
     },
     "output_type": "display_data"
    }
   ],
   "source": [
    "data['User Rating Count'].hist()"
   ]
  },
  {
   "cell_type": "code",
   "execution_count": 28,
   "metadata": {},
   "outputs": [
    {
     "data": {
      "text/plain": [
       "<matplotlib.axes._subplots.AxesSubplot at 0x1e8f130fa48>"
      ]
     },
     "execution_count": 28,
     "metadata": {},
     "output_type": "execute_result"
    },
    {
     "data": {
      "image/png": "[encoded data removed]",
      "text/plain": [
       "<Figure size 432x288 with 1 Axes>"
      ]
     },
     "metadata": {
      "needs_background": "light"
     },
     "output_type": "display_data"
    }
   ],
   "source": [
    "data['User Rating Count'].apply(np.log).hist()"
   ]
  },
  {
   "cell_type": "code",
   "execution_count": 29,
   "metadata": {},
   "outputs": [
    {
     "data": {
      "text/plain": [
       "<matplotlib.axes._subplots.AxesSubplot at 0x1e8f02644c8>"
      ]
     },
     "execution_count": 29,
     "metadata": {},
     "output_type": "execute_result"
    },
    {
     "data": {
      "image/png": "[encoded data removed]",
      "text/plain": [
       "<Figure size 432x288 with 1 Axes>"
      ]
     },
     "metadata": {
      "needs_background": "light"
     },
     "output_type": "display_data"
    }
   ],
   "source": [
    "data['User Rating Count'].plot.box()\n",
    "# many outliers"
   ]
  },
  {
   "cell_type": "code",
   "execution_count": 30,
   "metadata": {},
   "outputs": [
    {
     "data": {
      "image/png": "[encoded data removed]",
      "text/plain": [
       "<Figure size 720x720 with 1 Axes>"
      ]
     },
     "metadata": {
      "needs_background": "light"
     },
     "output_type": "display_data"
    }
   ],
   "source": [
    "plt.figure(figsize=(10, 10))\n",
    "plt.scatter(data['User Rating Count'], data[target_var])\n",
    "plt.show()"
   ]
  },
  {
   "cell_type": "markdown",
   "metadata": {},
   "source": [
    "Let's take the log \n"
   ]
  },
  {
   "cell_type": "code",
   "execution_count": 31,
   "metadata": {},
   "outputs": [
    {
     "data": {
      "text/plain": [
       "<matplotlib.axes._subplots.AxesSubplot at 0x1e8eff4dc88>"
      ]
     },
     "execution_count": 31,
     "metadata": {},
     "output_type": "execute_result"
    },
    {
     "data": {
      "image/png": "[encoded data removed]",
      "text/plain": [
       "<Figure size 432x288 with 1 Axes>"
      ]
     },
     "metadata": {
      "needs_background": "light"
     },
     "output_type": "display_data"
    }
   ],
   "source": [
    "data['User Rating Count'].apply(np.log).plot.box()\n"
   ]
  },
  {
   "cell_type": "code",
   "execution_count": 32,
   "metadata": {},
   "outputs": [
    {
     "data": {
      "image/png": "[encoded data removed]",
      "text/plain": [
       "<Figure size 720x720 with 1 Axes>"
      ]
     },
     "metadata": {
      "needs_background": "light"
     },
     "output_type": "display_data"
    }
   ],
   "source": [
    "plt.figure(figsize=(10, 10))\n",
    "plt.scatter(data['User Rating Count'].apply(np.log) , data[target_var])\n",
    "plt.show()"
   ]
  },
  {
   "cell_type": "code",
   "execution_count": 33,
   "metadata": {},
   "outputs": [],
   "source": [
    "data['User Rating Count'] = data['User Rating Count'].apply(np.log)\n",
    "data = data[data['User Rating Count']<12]"
   ]
  },
  {
   "cell_type": "code",
   "execution_count": 34,
   "metadata": {},
   "outputs": [],
   "source": [
    "data.reset_index(inplace=True, drop=True)"
   ]
  },
  {
   "cell_type": "code",
   "execution_count": 35,
   "metadata": {},
   "outputs": [
    {
     "data": {
      "text/plain": [
       "(7536, 17)"
      ]
     },
     "execution_count": 35,
     "metadata": {},
     "output_type": "execute_result"
    }
   ],
   "source": [
    "data.shape"
   ]
  },
  {
   "cell_type": "code",
   "execution_count": 36,
   "metadata": {},
   "outputs": [],
   "source": [
    "from scipy.stats import spearmanr"
   ]
  },
  {
   "cell_type": "code",
   "execution_count": 37,
   "metadata": {},
   "outputs": [
    {
     "data": {
      "text/plain": [
       "SpearmanrResult(correlation=0.14183925869333433, pvalue=3.629576104745651e-35)"
      ]
     },
     "execution_count": 37,
     "metadata": {},
     "output_type": "execute_result"
    }
   ],
   "source": [
    "spearmanr(data['User Rating Count'], data[target_var])\n",
    "#stat meaningfull value"
   ]
  },
  {
   "cell_type": "code",
   "execution_count": 38,
   "metadata": {
    "scrolled": true
   },
   "outputs": [
    {
     "data": {
      "image/png": "[encoded data removed]",
      "text/plain": [
       "<Figure size 720x720 with 1 Axes>"
      ]
     },
     "metadata": {
      "needs_background": "light"
     },
     "output_type": "display_data"
    }
   ],
   "source": [
    "plt.figure(figsize=(10, 10))\n",
    "plt.scatter(data['User Rating Count'], data[target_var])\n",
    "plt.title(\"Spearman correlation: {:.3f}\".format(spearmanr(data['User Rating Count'], data[target_var]).correlation))\n",
    "plt.show()"
   ]
  },
  {
   "cell_type": "markdown",
   "metadata": {},
   "source": [
    "# Price"
   ]
  },
  {
   "cell_type": "code",
   "execution_count": 39,
   "metadata": {},
   "outputs": [
    {
     "data": {
      "text/plain": [
       "0.00      0.836253\n",
       "0.99      0.046444\n",
       "2.99      0.033439\n",
       "1.99      0.026672\n",
       "4.99      0.024549\n",
       "3.99      0.013933\n",
       "9.99      0.006369\n",
       "5.99      0.003715\n",
       "6.99      0.003450\n",
       "8.99      0.001592\n",
       "7.99      0.001327\n",
       "19.99     0.000663\n",
       "12.99     0.000398\n",
       "11.99     0.000398\n",
       "14.99     0.000265\n",
       "16.99     0.000133\n",
       "59.99     0.000133\n",
       "36.99     0.000133\n",
       "139.99    0.000133\n",
       "Name: Price, dtype: float64"
      ]
     },
     "execution_count": 39,
     "metadata": {},
     "output_type": "execute_result"
    }
   ],
   "source": [
    "data['Price'].value_counts(normalize=True)\n",
    "# 83% free apps"
   ]
  },
  {
   "cell_type": "code",
   "execution_count": 40,
   "metadata": {},
   "outputs": [],
   "source": [
    "data['free2play'] = data['Price']==0\n",
    "#create a new boolean feature "
   ]
  },
  {
   "cell_type": "code",
   "execution_count": 41,
   "metadata": {},
   "outputs": [
    {
     "data": {
      "text/plain": [
       "True     6302\n",
       "False    1234\n",
       "Name: free2play, dtype: int64"
      ]
     },
     "execution_count": 41,
     "metadata": {},
     "output_type": "execute_result"
    }
   ],
   "source": [
    "data['free2play'].value_counts()"
   ]
  },
  {
   "cell_type": "markdown",
   "metadata": {},
   "source": [
    "## In-app Purchases "
   ]
  },
  {
   "cell_type": "code",
   "execution_count": 42,
   "metadata": {},
   "outputs": [
    {
     "data": {
      "text/plain": [
       "0.99                                                              391\n",
       "1.99                                                              251\n",
       "2.99                                                              206\n",
       "0.99, 0.99                                                         74\n",
       "4.99                                                               68\n",
       "                                                                 ... \n",
       "3.99, 1.99, 9.99, 19.99, 29.99, 0.99, 1.99, 99.99, 49.99, 9.99      1\n",
       "1.99, 0.99, 2.99, 0.99, 1.99                                        1\n",
       "9.99, 9.99, 4.99, 4.99, 19.99                                       1\n",
       "0.99, 2.99, 4.99, 19.99, 4.99, 9.99                                 1\n",
       "4.99, 0.99, 19.99, 9.99                                             1\n",
       "Name: In-app Purchases, Length: 2947, dtype: int64"
      ]
     },
     "execution_count": 42,
     "metadata": {},
     "output_type": "execute_result"
    }
   ],
   "source": [
    "data['In-app Purchases'].value_counts()"
   ]
  },
  {
   "cell_type": "code",
   "execution_count": 43,
   "metadata": {},
   "outputs": [],
   "source": [
    "from sklearn.preprocessing import MultiLabelBinarizer\n",
    "\n",
    "mlb = MultiLabelBinarizer()"
   ]
  },
  {
   "cell_type": "code",
   "execution_count": 44,
   "metadata": {},
   "outputs": [
    {
     "data": {
      "text/plain": [
       "2921"
      ]
     },
     "execution_count": 44,
     "metadata": {},
     "output_type": "execute_result"
    }
   ],
   "source": [
    "data['In-app Purchases'].isnull().sum()"
   ]
  },
  {
   "cell_type": "code",
   "execution_count": 45,
   "metadata": {},
   "outputs": [],
   "source": [
    "data['In-app Purchases'] = data['In-app Purchases'].fillna(\"0.0\")"
   ]
  },
  {
   "cell_type": "code",
   "execution_count": 46,
   "metadata": {},
   "outputs": [
    {
     "name": "stderr",
     "output_type": "stream",
     "text": [
      "C:\\Users\\admin\\Anaconda3\\lib\\site-packages\\ipykernel_launcher.py:1: SettingWithCopyWarning: \n",
      "A value is trying to be set on a copy of a slice from a DataFrame\n",
      "\n",
      "See the caveats in the documentation: https://pandas.pydata.org/pandas-docs/stable/user_guide/indexing.html#returning-a-view-versus-a-copy\n",
      "  \"\"\"Entry point for launching an IPython kernel.\n"
     ]
    }
   ],
   "source": [
    "data['In-app Purchases'][data['In-app Purchases'] == \"0\"] = \"0.0\""
   ]
  },
  {
   "cell_type": "code",
   "execution_count": 47,
   "metadata": {},
   "outputs": [],
   "source": [
    "encoded = mlb.fit_transform(data['In-app Purchases'].str.split(\", \"))"
   ]
  },
  {
   "cell_type": "code",
   "execution_count": 48,
   "metadata": {},
   "outputs": [
    {
     "data": {
      "text/plain": [
       "(7536, 76)"
      ]
     },
     "execution_count": 48,
     "metadata": {},
     "output_type": "execute_result"
    }
   ],
   "source": [
    "encoded.shape"
   ]
  },
  {
   "cell_type": "code",
   "execution_count": 49,
   "metadata": {},
   "outputs": [
    {
     "data": {
      "text/plain": [
       "array(['0.0', '0.99', '1.49', '1.99', '10.99', '109.99', '11.99',\n",
       "       '119.99', '12.99', '129.99', '13.99', '139.99', '14.99', '15.99',\n",
       "       '16.99', '169.99', '17.99', '18.99', '19.49', '19.99', '199.99',\n",
       "       '2.49', '2.99', '20.99', '21.99', '22.99', '23.49', '23.99',\n",
       "       '24.99', '25.99', '26.99', '27.99', '28.99', '29.99', '3.49',\n",
       "       '3.99', '30.99', '31.99', '32.99', '33.99', '34.99', '35.99',\n",
       "       '36.99', '37.99', '38.99', '39.99', '4.49', '4.99', '40.99',\n",
       "       '41.99', '43.99', '44.99', '45.99', '46.99', '47.99', '48.99',\n",
       "       '49.99', '5.49', '5.99', '54.99', '59.99', '6.99', '64.99',\n",
       "       '69.99', '7.49', '7.99', '74.99', '79.99', '8.49', '8.99', '84.99',\n",
       "       '89.99', '9.49', '9.99', '94.99', '99.99'], dtype=object)"
      ]
     },
     "execution_count": 49,
     "metadata": {},
     "output_type": "execute_result"
    }
   ],
   "source": [
    "mlb.classes_"
   ]
  },
  {
   "cell_type": "code",
   "execution_count": 50,
   "metadata": {},
   "outputs": [
    {
     "data": {
      "text/html": [
       "<div>\n",
       "<style scoped>\n",
       "    .dataframe tbody tr th:only-of-type {\n",
       "        vertical-align: middle;\n",
       "    }\n",
       "\n",
       "    .dataframe tbody tr th {\n",
       "        vertical-align: top;\n",
       "    }\n",
       "\n",
       "    .dataframe thead th {\n",
       "        text-align: right;\n",
       "    }\n",
       "</style>\n",
       "<table border=\"1\" class=\"dataframe\">\n",
       "  <thead>\n",
       "    <tr style=\"text-align: right;\">\n",
       "      <th></th>\n",
       "      <th>0.0</th>\n",
       "      <th>0.99</th>\n",
       "      <th>1.49</th>\n",
       "      <th>1.99</th>\n",
       "      <th>10.99</th>\n",
       "      <th>109.99</th>\n",
       "      <th>11.99</th>\n",
       "      <th>119.99</th>\n",
       "      <th>12.99</th>\n",
       "      <th>129.99</th>\n",
       "      <th>...</th>\n",
       "      <th>74.99</th>\n",
       "      <th>79.99</th>\n",
       "      <th>8.49</th>\n",
       "      <th>8.99</th>\n",
       "      <th>84.99</th>\n",
       "      <th>89.99</th>\n",
       "      <th>9.49</th>\n",
       "      <th>9.99</th>\n",
       "      <th>94.99</th>\n",
       "      <th>99.99</th>\n",
       "    </tr>\n",
       "  </thead>\n",
       "  <tbody>\n",
       "    <tr>\n",
       "      <th>0</th>\n",
       "      <td>1</td>\n",
       "      <td>0</td>\n",
       "      <td>0</td>\n",
       "      <td>0</td>\n",
       "      <td>0</td>\n",
       "      <td>0</td>\n",
       "      <td>0</td>\n",
       "      <td>0</td>\n",
       "      <td>0</td>\n",
       "      <td>0</td>\n",
       "      <td>...</td>\n",
       "      <td>0</td>\n",
       "      <td>0</td>\n",
       "      <td>0</td>\n",
       "      <td>0</td>\n",
       "      <td>0</td>\n",
       "      <td>0</td>\n",
       "      <td>0</td>\n",
       "      <td>0</td>\n",
       "      <td>0</td>\n",
       "      <td>0</td>\n",
       "    </tr>\n",
       "    <tr>\n",
       "      <th>1</th>\n",
       "      <td>1</td>\n",
       "      <td>0</td>\n",
       "      <td>0</td>\n",
       "      <td>0</td>\n",
       "      <td>0</td>\n",
       "      <td>0</td>\n",
       "      <td>0</td>\n",
       "      <td>0</td>\n",
       "      <td>0</td>\n",
       "      <td>0</td>\n",
       "      <td>...</td>\n",
       "      <td>0</td>\n",
       "      <td>0</td>\n",
       "      <td>0</td>\n",
       "      <td>0</td>\n",
       "      <td>0</td>\n",
       "      <td>0</td>\n",
       "      <td>0</td>\n",
       "      <td>0</td>\n",
       "      <td>0</td>\n",
       "      <td>0</td>\n",
       "    </tr>\n",
       "    <tr>\n",
       "      <th>2</th>\n",
       "      <td>1</td>\n",
       "      <td>0</td>\n",
       "      <td>0</td>\n",
       "      <td>0</td>\n",
       "      <td>0</td>\n",
       "      <td>0</td>\n",
       "      <td>0</td>\n",
       "      <td>0</td>\n",
       "      <td>0</td>\n",
       "      <td>0</td>\n",
       "      <td>...</td>\n",
       "      <td>0</td>\n",
       "      <td>0</td>\n",
       "      <td>0</td>\n",
       "      <td>0</td>\n",
       "      <td>0</td>\n",
       "      <td>0</td>\n",
       "      <td>0</td>\n",
       "      <td>0</td>\n",
       "      <td>0</td>\n",
       "      <td>0</td>\n",
       "    </tr>\n",
       "    <tr>\n",
       "      <th>3</th>\n",
       "      <td>1</td>\n",
       "      <td>0</td>\n",
       "      <td>0</td>\n",
       "      <td>0</td>\n",
       "      <td>0</td>\n",
       "      <td>0</td>\n",
       "      <td>0</td>\n",
       "      <td>0</td>\n",
       "      <td>0</td>\n",
       "      <td>0</td>\n",
       "      <td>...</td>\n",
       "      <td>0</td>\n",
       "      <td>0</td>\n",
       "      <td>0</td>\n",
       "      <td>0</td>\n",
       "      <td>0</td>\n",
       "      <td>0</td>\n",
       "      <td>0</td>\n",
       "      <td>0</td>\n",
       "      <td>0</td>\n",
       "      <td>0</td>\n",
       "    </tr>\n",
       "    <tr>\n",
       "      <th>4</th>\n",
       "      <td>0</td>\n",
       "      <td>0</td>\n",
       "      <td>0</td>\n",
       "      <td>1</td>\n",
       "      <td>0</td>\n",
       "      <td>0</td>\n",
       "      <td>0</td>\n",
       "      <td>0</td>\n",
       "      <td>0</td>\n",
       "      <td>0</td>\n",
       "      <td>...</td>\n",
       "      <td>0</td>\n",
       "      <td>0</td>\n",
       "      <td>0</td>\n",
       "      <td>0</td>\n",
       "      <td>0</td>\n",
       "      <td>0</td>\n",
       "      <td>0</td>\n",
       "      <td>0</td>\n",
       "      <td>0</td>\n",
       "      <td>0</td>\n",
       "    </tr>\n",
       "    <tr>\n",
       "      <th>...</th>\n",
       "      <td>...</td>\n",
       "      <td>...</td>\n",
       "      <td>...</td>\n",
       "      <td>...</td>\n",
       "      <td>...</td>\n",
       "      <td>...</td>\n",
       "      <td>...</td>\n",
       "      <td>...</td>\n",
       "      <td>...</td>\n",
       "      <td>...</td>\n",
       "      <td>...</td>\n",
       "      <td>...</td>\n",
       "      <td>...</td>\n",
       "      <td>...</td>\n",
       "      <td>...</td>\n",
       "      <td>...</td>\n",
       "      <td>...</td>\n",
       "      <td>...</td>\n",
       "      <td>...</td>\n",
       "      <td>...</td>\n",
       "      <td>...</td>\n",
       "    </tr>\n",
       "    <tr>\n",
       "      <th>7531</th>\n",
       "      <td>1</td>\n",
       "      <td>0</td>\n",
       "      <td>0</td>\n",
       "      <td>0</td>\n",
       "      <td>0</td>\n",
       "      <td>0</td>\n",
       "      <td>0</td>\n",
       "      <td>0</td>\n",
       "      <td>0</td>\n",
       "      <td>0</td>\n",
       "      <td>...</td>\n",
       "      <td>0</td>\n",
       "      <td>0</td>\n",
       "      <td>0</td>\n",
       "      <td>0</td>\n",
       "      <td>0</td>\n",
       "      <td>0</td>\n",
       "      <td>0</td>\n",
       "      <td>0</td>\n",
       "      <td>0</td>\n",
       "      <td>0</td>\n",
       "    </tr>\n",
       "    <tr>\n",
       "      <th>7532</th>\n",
       "      <td>1</td>\n",
       "      <td>0</td>\n",
       "      <td>0</td>\n",
       "      <td>0</td>\n",
       "      <td>0</td>\n",
       "      <td>0</td>\n",
       "      <td>0</td>\n",
       "      <td>0</td>\n",
       "      <td>0</td>\n",
       "      <td>0</td>\n",
       "      <td>...</td>\n",
       "      <td>0</td>\n",
       "      <td>0</td>\n",
       "      <td>0</td>\n",
       "      <td>0</td>\n",
       "      <td>0</td>\n",
       "      <td>0</td>\n",
       "      <td>0</td>\n",
       "      <td>0</td>\n",
       "      <td>0</td>\n",
       "      <td>0</td>\n",
       "    </tr>\n",
       "    <tr>\n",
       "      <th>7533</th>\n",
       "      <td>1</td>\n",
       "      <td>0</td>\n",
       "      <td>0</td>\n",
       "      <td>0</td>\n",
       "      <td>0</td>\n",
       "      <td>0</td>\n",
       "      <td>0</td>\n",
       "      <td>0</td>\n",
       "      <td>0</td>\n",
       "      <td>0</td>\n",
       "      <td>...</td>\n",
       "      <td>0</td>\n",
       "      <td>0</td>\n",
       "      <td>0</td>\n",
       "      <td>0</td>\n",
       "      <td>0</td>\n",
       "      <td>0</td>\n",
       "      <td>0</td>\n",
       "      <td>0</td>\n",
       "      <td>0</td>\n",
       "      <td>0</td>\n",
       "    </tr>\n",
       "    <tr>\n",
       "      <th>7534</th>\n",
       "      <td>1</td>\n",
       "      <td>0</td>\n",
       "      <td>0</td>\n",
       "      <td>0</td>\n",
       "      <td>0</td>\n",
       "      <td>0</td>\n",
       "      <td>0</td>\n",
       "      <td>0</td>\n",
       "      <td>0</td>\n",
       "      <td>0</td>\n",
       "      <td>...</td>\n",
       "      <td>0</td>\n",
       "      <td>0</td>\n",
       "      <td>0</td>\n",
       "      <td>0</td>\n",
       "      <td>0</td>\n",
       "      <td>0</td>\n",
       "      <td>0</td>\n",
       "      <td>0</td>\n",
       "      <td>0</td>\n",
       "      <td>0</td>\n",
       "    </tr>\n",
       "    <tr>\n",
       "      <th>7535</th>\n",
       "      <td>1</td>\n",
       "      <td>0</td>\n",
       "      <td>0</td>\n",
       "      <td>0</td>\n",
       "      <td>0</td>\n",
       "      <td>0</td>\n",
       "      <td>0</td>\n",
       "      <td>0</td>\n",
       "      <td>0</td>\n",
       "      <td>0</td>\n",
       "      <td>...</td>\n",
       "      <td>0</td>\n",
       "      <td>0</td>\n",
       "      <td>0</td>\n",
       "      <td>0</td>\n",
       "      <td>0</td>\n",
       "      <td>0</td>\n",
       "      <td>0</td>\n",
       "      <td>0</td>\n",
       "      <td>0</td>\n",
       "      <td>0</td>\n",
       "    </tr>\n",
       "  </tbody>\n",
       "</table>\n",
       "<p>7536 rows × 76 columns</p>\n",
       "</div>"
      ],
      "text/plain": [
       "      0.0  0.99  1.49  1.99  10.99  109.99  11.99  119.99  12.99  129.99  ...  \\\n",
       "0       1     0     0     0      0       0      0       0      0       0  ...   \n",
       "1       1     0     0     0      0       0      0       0      0       0  ...   \n",
       "2       1     0     0     0      0       0      0       0      0       0  ...   \n",
       "3       1     0     0     0      0       0      0       0      0       0  ...   \n",
       "4       0     0     0     1      0       0      0       0      0       0  ...   \n",
       "...   ...   ...   ...   ...    ...     ...    ...     ...    ...     ...  ...   \n",
       "7531    1     0     0     0      0       0      0       0      0       0  ...   \n",
       "7532    1     0     0     0      0       0      0       0      0       0  ...   \n",
       "7533    1     0     0     0      0       0      0       0      0       0  ...   \n",
       "7534    1     0     0     0      0       0      0       0      0       0  ...   \n",
       "7535    1     0     0     0      0       0      0       0      0       0  ...   \n",
       "\n",
       "      74.99  79.99  8.49  8.99  84.99  89.99  9.49  9.99  94.99  99.99  \n",
       "0         0      0     0     0      0      0     0     0      0      0  \n",
       "1         0      0     0     0      0      0     0     0      0      0  \n",
       "2         0      0     0     0      0      0     0     0      0      0  \n",
       "3         0      0     0     0      0      0     0     0      0      0  \n",
       "4         0      0     0     0      0      0     0     0      0      0  \n",
       "...     ...    ...   ...   ...    ...    ...   ...   ...    ...    ...  \n",
       "7531      0      0     0     0      0      0     0     0      0      0  \n",
       "7532      0      0     0     0      0      0     0     0      0      0  \n",
       "7533      0      0     0     0      0      0     0     0      0      0  \n",
       "7534      0      0     0     0      0      0     0     0      0      0  \n",
       "7535      0      0     0     0      0      0     0     0      0      0  \n",
       "\n",
       "[7536 rows x 76 columns]"
      ]
     },
     "execution_count": 50,
     "metadata": {},
     "output_type": "execute_result"
    }
   ],
   "source": [
    "encoded = pd.DataFrame(encoded, columns=mlb.classes_)\n",
    "encoded"
   ]
  },
  {
   "cell_type": "code",
   "execution_count": 52,
   "metadata": {},
   "outputs": [],
   "source": [
    "data = pd.concat([data, encoded], axis=1)"
   ]
  },
  {
   "cell_type": "code",
   "execution_count": 53,
   "metadata": {},
   "outputs": [
    {
     "data": {
      "text/plain": [
       "(7536, 94)"
      ]
     },
     "execution_count": 53,
     "metadata": {},
     "output_type": "execute_result"
    }
   ],
   "source": [
    "data.shape"
   ]
  },
  {
   "cell_type": "code",
   "execution_count": 54,
   "metadata": {},
   "outputs": [
    {
     "data": {
      "text/html": [
       "<div>\n",
       "<style scoped>\n",
       "    .dataframe tbody tr th:only-of-type {\n",
       "        vertical-align: middle;\n",
       "    }\n",
       "\n",
       "    .dataframe tbody tr th {\n",
       "        vertical-align: top;\n",
       "    }\n",
       "\n",
       "    .dataframe thead th {\n",
       "        text-align: right;\n",
       "    }\n",
       "</style>\n",
       "<table border=\"1\" class=\"dataframe\">\n",
       "  <thead>\n",
       "    <tr style=\"text-align: right;\">\n",
       "      <th></th>\n",
       "      <th>URL</th>\n",
       "      <th>ID</th>\n",
       "      <th>Name</th>\n",
       "      <th>Icon URL</th>\n",
       "      <th>Average User Rating</th>\n",
       "      <th>User Rating Count</th>\n",
       "      <th>Price</th>\n",
       "      <th>In-app Purchases</th>\n",
       "      <th>Description</th>\n",
       "      <th>Developer</th>\n",
       "      <th>...</th>\n",
       "      <th>74.99</th>\n",
       "      <th>79.99</th>\n",
       "      <th>8.49</th>\n",
       "      <th>8.99</th>\n",
       "      <th>84.99</th>\n",
       "      <th>89.99</th>\n",
       "      <th>9.49</th>\n",
       "      <th>9.99</th>\n",
       "      <th>94.99</th>\n",
       "      <th>99.99</th>\n",
       "    </tr>\n",
       "  </thead>\n",
       "  <tbody>\n",
       "    <tr>\n",
       "      <th>0</th>\n",
       "      <td>https://apps.apple.com/us/app/sudoku/id284921427</td>\n",
       "      <td>284921427</td>\n",
       "      <td>Sudoku</td>\n",
       "      <td>https://is2-ssl.mzstatic.com/image/thumb/Purpl...</td>\n",
       "      <td>4.0</td>\n",
       "      <td>8.175548</td>\n",
       "      <td>2.99</td>\n",
       "      <td>0.0</td>\n",
       "      <td>Join over 21,000,000 of our fans and download ...</td>\n",
       "      <td>Mighty Mighty Good Games</td>\n",
       "      <td>...</td>\n",
       "      <td>0</td>\n",
       "      <td>0</td>\n",
       "      <td>0</td>\n",
       "      <td>0</td>\n",
       "      <td>0</td>\n",
       "      <td>0</td>\n",
       "      <td>0</td>\n",
       "      <td>0</td>\n",
       "      <td>0</td>\n",
       "      <td>0</td>\n",
       "    </tr>\n",
       "    <tr>\n",
       "      <th>1</th>\n",
       "      <td>https://apps.apple.com/us/app/reversi/id284926400</td>\n",
       "      <td>284926400</td>\n",
       "      <td>Reversi</td>\n",
       "      <td>https://is4-ssl.mzstatic.com/image/thumb/Purpl...</td>\n",
       "      <td>3.5</td>\n",
       "      <td>5.648974</td>\n",
       "      <td>1.99</td>\n",
       "      <td>0.0</td>\n",
       "      <td>The classic game of Reversi, also known as Oth...</td>\n",
       "      <td>Kiss The Machine</td>\n",
       "      <td>...</td>\n",
       "      <td>0</td>\n",
       "      <td>0</td>\n",
       "      <td>0</td>\n",
       "      <td>0</td>\n",
       "      <td>0</td>\n",
       "      <td>0</td>\n",
       "      <td>0</td>\n",
       "      <td>0</td>\n",
       "      <td>0</td>\n",
       "      <td>0</td>\n",
       "    </tr>\n",
       "    <tr>\n",
       "      <th>2</th>\n",
       "      <td>https://apps.apple.com/us/app/morocco/id284946595</td>\n",
       "      <td>284946595</td>\n",
       "      <td>Morocco</td>\n",
       "      <td>https://is5-ssl.mzstatic.com/image/thumb/Purpl...</td>\n",
       "      <td>3.0</td>\n",
       "      <td>9.033126</td>\n",
       "      <td>0.00</td>\n",
       "      <td>0.0</td>\n",
       "      <td>Play the classic strategy game Othello (also k...</td>\n",
       "      <td>Bayou Games</td>\n",
       "      <td>...</td>\n",
       "      <td>0</td>\n",
       "      <td>0</td>\n",
       "      <td>0</td>\n",
       "      <td>0</td>\n",
       "      <td>0</td>\n",
       "      <td>0</td>\n",
       "      <td>0</td>\n",
       "      <td>0</td>\n",
       "      <td>0</td>\n",
       "      <td>0</td>\n",
       "    </tr>\n",
       "    <tr>\n",
       "      <th>3</th>\n",
       "      <td>https://apps.apple.com/us/app/senet-deluxe/id2...</td>\n",
       "      <td>285831220</td>\n",
       "      <td>Senet Deluxe</td>\n",
       "      <td>https://is1-ssl.mzstatic.com/image/thumb/Purpl...</td>\n",
       "      <td>3.5</td>\n",
       "      <td>3.332205</td>\n",
       "      <td>2.99</td>\n",
       "      <td>0.0</td>\n",
       "      <td>\"Senet Deluxe - The Ancient Game of Life and A...</td>\n",
       "      <td>RoGame Software</td>\n",
       "      <td>...</td>\n",
       "      <td>0</td>\n",
       "      <td>0</td>\n",
       "      <td>0</td>\n",
       "      <td>0</td>\n",
       "      <td>0</td>\n",
       "      <td>0</td>\n",
       "      <td>0</td>\n",
       "      <td>0</td>\n",
       "      <td>0</td>\n",
       "      <td>0</td>\n",
       "    </tr>\n",
       "    <tr>\n",
       "      <th>4</th>\n",
       "      <td>https://apps.apple.com/us/app/sudoku-classic-n...</td>\n",
       "      <td>286210009</td>\n",
       "      <td>Sudoku - Classic number puzzle</td>\n",
       "      <td>https://is1-ssl.mzstatic.com/image/thumb/Purpl...</td>\n",
       "      <td>3.0</td>\n",
       "      <td>3.850148</td>\n",
       "      <td>0.00</td>\n",
       "      <td>1.99</td>\n",
       "      <td>Sudoku will tease your brain, challenge you or...</td>\n",
       "      <td>OutOfTheBit Ltd</td>\n",
       "      <td>...</td>\n",
       "      <td>0</td>\n",
       "      <td>0</td>\n",
       "      <td>0</td>\n",
       "      <td>0</td>\n",
       "      <td>0</td>\n",
       "      <td>0</td>\n",
       "      <td>0</td>\n",
       "      <td>0</td>\n",
       "      <td>0</td>\n",
       "      <td>0</td>\n",
       "    </tr>\n",
       "  </tbody>\n",
       "</table>\n",
       "<p>5 rows × 94 columns</p>\n",
       "</div>"
      ],
      "text/plain": [
       "                                                 URL         ID  \\\n",
       "0   https://apps.apple.com/us/app/sudoku/id284921427  284921427   \n",
       "1  https://apps.apple.com/us/app/reversi/id284926400  284926400   \n",
       "2  https://apps.apple.com/us/app/morocco/id284946595  284946595   \n",
       "3  https://apps.apple.com/us/app/senet-deluxe/id2...  285831220   \n",
       "4  https://apps.apple.com/us/app/sudoku-classic-n...  286210009   \n",
       "\n",
       "                             Name  \\\n",
       "0                          Sudoku   \n",
       "1                         Reversi   \n",
       "2                         Morocco   \n",
       "3                    Senet Deluxe   \n",
       "4  Sudoku - Classic number puzzle   \n",
       "\n",
       "                                            Icon URL  Average User Rating  \\\n",
       "0  https://is2-ssl.mzstatic.com/image/thumb/Purpl...                  4.0   \n",
       "1  https://is4-ssl.mzstatic.com/image/thumb/Purpl...                  3.5   \n",
       "2  https://is5-ssl.mzstatic.com/image/thumb/Purpl...                  3.0   \n",
       "3  https://is1-ssl.mzstatic.com/image/thumb/Purpl...                  3.5   \n",
       "4  https://is1-ssl.mzstatic.com/image/thumb/Purpl...                  3.0   \n",
       "\n",
       "   User Rating Count  Price In-app Purchases  \\\n",
       "0           8.175548   2.99              0.0   \n",
       "1           5.648974   1.99              0.0   \n",
       "2           9.033126   0.00              0.0   \n",
       "3           3.332205   2.99              0.0   \n",
       "4           3.850148   0.00             1.99   \n",
       "\n",
       "                                         Description  \\\n",
       "0  Join over 21,000,000 of our fans and download ...   \n",
       "1  The classic game of Reversi, also known as Oth...   \n",
       "2  Play the classic strategy game Othello (also k...   \n",
       "3  \"Senet Deluxe - The Ancient Game of Life and A...   \n",
       "4  Sudoku will tease your brain, challenge you or...   \n",
       "\n",
       "                  Developer  ... 74.99 79.99  8.49 8.99 84.99 89.99 9.49  \\\n",
       "0  Mighty Mighty Good Games  ...     0     0     0    0     0     0    0   \n",
       "1          Kiss The Machine  ...     0     0     0    0     0     0    0   \n",
       "2               Bayou Games  ...     0     0     0    0     0     0    0   \n",
       "3           RoGame Software  ...     0     0     0    0     0     0    0   \n",
       "4           OutOfTheBit Ltd  ...     0     0     0    0     0     0    0   \n",
       "\n",
       "   9.99  94.99  99.99  \n",
       "0     0      0      0  \n",
       "1     0      0      0  \n",
       "2     0      0      0  \n",
       "3     0      0      0  \n",
       "4     0      0      0  \n",
       "\n",
       "[5 rows x 94 columns]"
      ]
     },
     "execution_count": 54,
     "metadata": {},
     "output_type": "execute_result"
    }
   ],
   "source": [
    "data.head()"
   ]
  },
  {
   "cell_type": "markdown",
   "metadata": {},
   "source": [
    "## Description"
   ]
  },
  {
   "cell_type": "code",
   "execution_count": 55,
   "metadata": {},
   "outputs": [
    {
     "data": {
      "text/plain": [
       "0       Join over 21,000,000 of our fans and download ...\n",
       "1       The classic game of Reversi, also known as Oth...\n",
       "2       Play the classic strategy game Othello (also k...\n",
       "3       \"Senet Deluxe - The Ancient Game of Life and A...\n",
       "4       Sudoku will tease your brain, challenge you or...\n",
       "                              ...                        \n",
       "7531    \"Welcome to this mysterious room full of gears...\n",
       "7532    \"Take the ball to safety and reach the next le...\n",
       "7533    Build your racing circuit.\\n\\nRecruit visitors...\n",
       "7534    Glow Hockey Strike is a cool colorful air hock...\n",
       "7535    Agadmator Chess Clock is a beautiful, lightwei...\n",
       "Name: Description, Length: 7536, dtype: object"
      ]
     },
     "execution_count": 55,
     "metadata": {},
     "output_type": "execute_result"
    }
   ],
   "source": [
    "data['Description']"
   ]
  },
  {
   "cell_type": "markdown",
   "metadata": {},
   "source": [
    "We can take the length of text as feature"
   ]
  },
  {
   "cell_type": "code",
   "execution_count": 56,
   "metadata": {},
   "outputs": [],
   "source": [
    "data['description_len'] = data['Description'].apply(len)"
   ]
  },
  {
   "cell_type": "markdown",
   "metadata": {},
   "source": [
    "## Developer "
   ]
  },
  {
   "cell_type": "code",
   "execution_count": 57,
   "metadata": {},
   "outputs": [
    {
     "data": {
      "text/plain": [
       "Tapps Tecnologia da Informa\\xe7\\xe3o Ltda.    0.015260\n",
       "Detention Apps                                0.005042\n",
       "Qumaron                                       0.004777\n",
       "EASY Inc.                                     0.004777\n",
       "HexWar Games Ltd                              0.004512\n",
       "                                                ...   \n",
       "W.Y.D Technology CO.,LTD.                     0.000133\n",
       "Wenxuan Shi                                   0.000133\n",
       "Alpha Dog Games                               0.000133\n",
       "\"It's All A Game LLC\"                         0.000133\n",
       "Hovel Games                                   0.000133\n",
       "Name: Developer, Length: 4269, dtype: float64"
      ]
     },
     "execution_count": 57,
     "metadata": {},
     "output_type": "execute_result"
    }
   ],
   "source": [
    "data['Developer'].value_counts(normalize=True)"
   ]
  },
  {
   "cell_type": "code",
   "execution_count": 58,
   "metadata": {},
   "outputs": [
    {
     "data": {
      "text/plain": [
       "{'\"Don\\'t Blink Studios\"': 2,\n",
       " '\"Ellie\\'s Games, LLC\"': 1,\n",
       " '\"Igor\\'s Software Labs LLC\"': 1,\n",
       " '\"It\\'s All A Game LLC\"': 1,\n",
       " '\"King\\'s Apps\"': 1,\n",
       " '\"Let\\'s Pick L.L.C.\"': 1,\n",
       " '\"Lion\\'s Den\"': 1,\n",
       " '\"Raffaele D\\'Amato\"': 1,\n",
       " '\"Sean O\\'Connor\"': 8,\n",
       " '\"Weeny Brain\\'s Game\"': 3,\n",
       " '0xGames': 1,\n",
       " '1 Simple Game': 1,\n",
       " '108km Tech Ltd': 1,\n",
       " '10K BULBS LLC': 1,\n",
       " '11 bit studios s.a.': 3,\n",
       " '111 (LLC)': 1,\n",
       " '111%': 11,\n",
       " '12 POINT APPS LLC': 6,\n",
       " '1791 Entertainment LLC': 1,\n",
       " '1800N0TH1NG LLC': 1,\n",
       " '1C Mobile Ltd': 1,\n",
       " '22Cans': 1,\n",
       " '2Gear': 1,\n",
       " '2K': 3,\n",
       " '2ka': 1,\n",
       " '3 Sprockets': 1,\n",
       " '305 Games': 4,\n",
       " '31x Limited': 2,\n",
       " '37GAMES': 2,\n",
       " '38 Softworks Inc.': 2,\n",
       " '3909': 2,\n",
       " '3D Avenue': 2,\n",
       " '3akarat.net': 2,\n",
       " '3g60': 2,\n",
       " '3way Interactive': 1,\n",
       " '4Sho Games LLC': 1,\n",
       " '4s-games': 1,\n",
       " '50 Caliber Mobile Inc.': 1,\n",
       " '505 Games (US), Inc.': 3,\n",
       " '51st Parallel Ltd': 1,\n",
       " '57Digital Ltd': 3,\n",
       " '5mina': 3,\n",
       " '5minlab Co., Ltd.': 1,\n",
       " '5th Planet Games Development ApS': 2,\n",
       " '6S MOBILE': 1,\n",
       " '7 Pirates Limited': 3,\n",
       " '8 x 8 Media AG': 3,\n",
       " '80Arcade': 1,\n",
       " '8Floor': 30,\n",
       " '9 FACTORY': 2,\n",
       " '99Games': 1,\n",
       " '99bosses': 1,\n",
       " '? ZHANG': 1,\n",
       " 'A Brainy Choice, Inc.': 1,\n",
       " 'A Dark Matter Creation LLC': 1,\n",
       " 'A L Fernando': 1,\n",
       " 'A S K products': 1,\n",
       " 'A Sharp, LLC': 2,\n",
       " 'A Thinking Ape Entertainment Ltd.': 2,\n",
       " 'A Trillion Games Ltd': 3,\n",
       " 'A&E Television Networks Mobile': 3,\n",
       " 'A.R.T. Games Co., Ltd': 1,\n",
       " 'ABE Entertainment Limited': 1,\n",
       " 'ABIGAMES PTE. LTD': 2,\n",
       " 'ACE HAND INTERACTIVE TECHNOLOGY HOLDINGS CO., LIMITED': 1,\n",
       " 'ACLAP': 4,\n",
       " 'AE Mobile': 1,\n",
       " 'AE Mobile Inc.': 1,\n",
       " 'AFEEL, Inc.': 9,\n",
       " 'AFKSoft': 1,\n",
       " 'AISU Technologies, LLC': 2,\n",
       " 'AKPublish': 1,\n",
       " 'ALBCOM, LLC': 1,\n",
       " 'ALEXEY OSTROGRADSKIY': 2,\n",
       " 'ALSEDI Group': 2,\n",
       " 'AMGAMES Inc.': 1,\n",
       " 'AMT Games Inc.': 2,\n",
       " 'AMT Games Publishing Ltd.': 2,\n",
       " 'AMZN Mobile LLC': 1,\n",
       " 'ANGames': 2,\n",
       " 'ANIMALADA': 1,\n",
       " 'AOBO Co.,Ltd': 1,\n",
       " 'APPDEKO SIA': 1,\n",
       " 'APPcalyptus UG': 1,\n",
       " 'ARAPPDEV': 1,\n",
       " 'ARTE Experience': 1,\n",
       " 'ARTHUR MIRZOYAN': 3,\n",
       " 'ASOCIACION ESPA\\\\xd1OLA DE BRIDGE': 1,\n",
       " 'ASSIST ENTERTAINMENT, K.K': 1,\n",
       " 'ASSIST Software SRL': 1,\n",
       " 'ATTOMEDIA Corp.': 1,\n",
       " 'AYOUB DRAOUI': 1,\n",
       " 'AZ man': 1,\n",
       " 'Aakash Thumaty': 1,\n",
       " 'Aaron Prentice': 1,\n",
       " 'Aaron Steed': 2,\n",
       " 'Aaron VANDERPOEL': 1,\n",
       " 'Aashir Farooqi': 1,\n",
       " 'Abbacore LLC': 1,\n",
       " 'Abdala tawfik': 1,\n",
       " 'Abdelmajid Rajad': 1,\n",
       " 'Abdeslam Ghanem': 1,\n",
       " 'Abdullah AlAzemi': 1,\n",
       " 'Abdullah Firat': 1,\n",
       " 'Abel Galvan': 3,\n",
       " 'Abele Games': 1,\n",
       " 'Abhishek Malpani': 5,\n",
       " 'Ablue2k, Inc': 1,\n",
       " 'Abnormal Head LLC (CA)': 1,\n",
       " 'Absolutist Ltd': 2,\n",
       " 'Abyte Entertainment': 2,\n",
       " 'Accidental Fish Ltd.': 1,\n",
       " 'Ace of Apps': 1,\n",
       " 'AceViral.com': 3,\n",
       " 'Acoin Games Co., Ltd': 1,\n",
       " 'Acram Digital': 2,\n",
       " 'Action-Reaction Games': 1,\n",
       " 'Actop': 1,\n",
       " 'AdGem LLC': 1,\n",
       " 'AdTeam': 1,\n",
       " 'Adalgisa Raniolo': 1,\n",
       " 'Adam Alad': 1,\n",
       " 'Adam Hensel': 1,\n",
       " 'Adam Irvine': 5,\n",
       " 'Adam Kronquist': 1,\n",
       " 'Adam Patrick': 1,\n",
       " 'Adam Smith': 1,\n",
       " 'Adan Ramirez': 1,\n",
       " 'Added Entertainment Ltd': 1,\n",
       " 'Addictive Substance LLC': 2,\n",
       " 'Adikus': 2,\n",
       " 'Adknown': 7,\n",
       " 'Adrian Cociu': 1,\n",
       " 'Adrian Moorhouse': 1,\n",
       " 'Adrian Zarzycki': 1,\n",
       " 'Adrian3': 7,\n",
       " 'Advanced Mobile Applications Ltd.': 1,\n",
       " 'Adventure Cat, LLC': 1,\n",
       " 'Aegis Interactive': 1,\n",
       " 'Aeralas': 1,\n",
       " 'Aeria Canada Studio Inc.': 1,\n",
       " 'Aerovie, LLC': 1,\n",
       " 'Aesthetic Interactive': 2,\n",
       " 'Aexol': 1,\n",
       " 'Affinity Media Inc.': 1,\n",
       " 'Affogato LLC': 2,\n",
       " 'Age of middle games - ice and fire': 1,\n",
       " 'Agharta Studio': 1,\n",
       " 'Ahmad Al Kandari': 1,\n",
       " 'Ahmed Faseeh': 1,\n",
       " 'Ahmed Rafat': 2,\n",
       " 'Ahmed Safadi': 1,\n",
       " 'Ahsan Fazal': 2,\n",
       " 'Ahsan Khan': 1,\n",
       " 'Ai mini': 2,\n",
       " 'Aijaz Ali': 1,\n",
       " 'Ajay Karat': 1,\n",
       " 'Ajaysinh Jadeja': 1,\n",
       " 'Ajfek Software': 2,\n",
       " 'Ajoy Lab': 1,\n",
       " 'Akadem GmbH': 2,\n",
       " 'Akihiro Suto': 1,\n",
       " 'Akkad': 1,\n",
       " 'Al-Ruwad Ltd': 1,\n",
       " 'Alan Longcoy': 1,\n",
       " 'Alawar Entertainment, Inc': 11,\n",
       " 'Albert Kornas': 1,\n",
       " 'Alberto Llano': 1,\n",
       " 'Alda Games s.r.o.': 1,\n",
       " 'Alec Thomson': 1,\n",
       " 'Alegrium': 2,\n",
       " 'Aleh Panko': 1,\n",
       " 'Aleksandrs Visnakovs': 2,\n",
       " 'Aleksejs Voloviks': 5,\n",
       " 'Aleksey Kolesov': 1,\n",
       " 'Aleksey Snida': 2,\n",
       " 'Alessandra Labombarda': 1,\n",
       " 'Alessandro Benedettini': 3,\n",
       " 'Alessandro Cancellario - Sungate.it': 1,\n",
       " 'Alessandro Cocco': 1,\n",
       " 'Alex Alez': 1,\n",
       " 'Alex Geana': 1,\n",
       " 'Alex Osborne': 1,\n",
       " 'Alexander Deplov': 1,\n",
       " 'Alexander Kostoulas': 1,\n",
       " 'Alexander Maslennikov': 1,\n",
       " 'Alexander Sharovarov': 2,\n",
       " 'Alexander Sivatsky': 1,\n",
       " 'Alexander Tavintsev': 1,\n",
       " 'Alexander Williams': 1,\n",
       " 'Alexander Winn': 3,\n",
       " 'Alexandr Ushatkin': 1,\n",
       " 'Alexandre Minard': 1,\n",
       " 'Alexandru Craciun': 4,\n",
       " 'Alexis Kwizera': 1,\n",
       " 'Alexis Laferriere': 1,\n",
       " 'Ali Ashfaq': 1,\n",
       " 'Ali Azhar': 1,\n",
       " 'Aliaksandr Miadzvedzeu': 4,\n",
       " 'Aliaksandr Prakarym': 4,\n",
       " 'Alictus': 11,\n",
       " 'Aljosa Pavsic': 1,\n",
       " 'All in a Days Play': 1,\n",
       " 'All-Seeing Interactive': 1,\n",
       " 'Alland Timas': 1,\n",
       " 'Allwomenstalk': 2,\n",
       " 'Alpaca Silver': 1,\n",
       " 'Alpha Dog Games': 1,\n",
       " 'AlphaGames Inc.': 1,\n",
       " 'Altitude Games': 1,\n",
       " 'Alvaro Gutierrez Lorenzo': 1,\n",
       " 'Amalgamerger, LLC': 1,\n",
       " 'Amasis Brauch': 1,\n",
       " 'Ambar Services Limited': 1,\n",
       " 'Ambi Martinez': 1,\n",
       " 'Amen Parham': 1,\n",
       " 'Amine HBIBIOUALI': 1,\n",
       " 'Amir Michail': 1,\n",
       " 'Amir lahav': 1,\n",
       " 'AmirSaber Sharifi': 1,\n",
       " 'Amirali Rajan': 2,\n",
       " 'Amit Sapkota': 1,\n",
       " 'Ammar Albayti': 1,\n",
       " 'Amplitude Studios': 1,\n",
       " 'Amr Labib': 1,\n",
       " 'Amuzo Games Ltd': 1,\n",
       " 'Amy Prizer': 6,\n",
       " 'An Liu': 1,\n",
       " 'Anansi': 3,\n",
       " 'Anarchy Enterprises': 4,\n",
       " 'Anatoly Augustinovich': 1,\n",
       " 'Anawiki Games': 7,\n",
       " 'Ancientec Co., Ltd.': 1,\n",
       " 'Andela ICT': 1,\n",
       " 'Andre Biasi': 1,\n",
       " 'Andre Castany': 1,\n",
       " 'Andrea Testa': 1,\n",
       " 'Andreas Hager': 1,\n",
       " 'Andreas Kienle': 1,\n",
       " 'Andreas Rehnberg': 1,\n",
       " 'Andrei Zubarev': 1,\n",
       " 'Andres Perez Camarasa': 1,\n",
       " 'Andrew Corman': 1,\n",
       " 'Andrew Finke': 1,\n",
       " 'Andrew Kudrin': 29,\n",
       " 'Andrew Kyznetsov': 1,\n",
       " 'Andrew Payne': 1,\n",
       " 'Andrew Whitehead': 1,\n",
       " 'Andrey Balakin': 1,\n",
       " 'Andrey Dobroradnykh': 2,\n",
       " 'Andrey Kulakov': 1,\n",
       " 'Andrey Pryakhin': 1,\n",
       " 'Andrii Kurshyn': 1,\n",
       " 'Andriy Pertsov': 1,\n",
       " 'Andriy Prosekov': 2,\n",
       " 'Andromeda Games Co., Ltd.': 1,\n",
       " 'Andy Dobson': 1,\n",
       " 'Andy Jurko': 2,\n",
       " 'Andy Kellett': 1,\n",
       " 'Angel Manuel Fernandez Fernandez': 1,\n",
       " 'Angry Apps': 1,\n",
       " 'Anh Doan': 1,\n",
       " 'Anh Hoang': 4,\n",
       " 'Anh Huy Phan': 1,\n",
       " 'Anh Ngan Nguyen Thi': 1,\n",
       " 'Anibal Leon': 1,\n",
       " 'Animoca': 4,\n",
       " 'Animoca Brands': 5,\n",
       " 'Animoca Collective': 1,\n",
       " 'Anitrix Inc': 1,\n",
       " 'Ankama': 7,\n",
       " 'Anne Murielle Larger': 3,\n",
       " 'Anodius, a. s.': 1,\n",
       " 'Anson Liu': 1,\n",
       " 'Anthony Dozier': 1,\n",
       " 'Anthony Kitowicz': 1,\n",
       " 'Anthony Miles': 1,\n",
       " 'Anthony Tirone': 1,\n",
       " 'Anton Dorofieiev': 2,\n",
       " 'Anton Kartunov': 1,\n",
       " 'Anton Lovygin': 1,\n",
       " 'Anton Malmygin': 1,\n",
       " 'Anton Sitnikov': 1,\n",
       " 'Anton Zherdev': 1,\n",
       " 'Antonio Jr': 1,\n",
       " 'Antti Hautaniemi': 1,\n",
       " 'Anwar Alharbi': 1,\n",
       " 'Anxa Europe Limited': 1,\n",
       " 'Anxious Otter Games': 1,\n",
       " 'Ao Xu': 2,\n",
       " 'Aparato Inc.': 1,\n",
       " 'Apex Apps DMCC': 1,\n",
       " 'Apex Point Games': 1,\n",
       " 'Apollo Studios': 1,\n",
       " 'App Advisory': 1,\n",
       " 'App Design . Company': 1,\n",
       " 'App Design Universe': 1,\n",
       " 'App Happy Games LLC': 1,\n",
       " 'App Holdings': 8,\n",
       " 'App Tapp Studios': 1,\n",
       " 'AppAbove Games LLC': 1,\n",
       " 'AppBox Media': 1,\n",
       " 'AppCoder Kft': 1,\n",
       " 'AppCone, LLC': 1,\n",
       " 'AppForge Inc.': 10,\n",
       " 'AppLife Ltd': 2,\n",
       " 'AppMania': 1,\n",
       " 'AppMaven, LLC': 1,\n",
       " 'AppOn': 5,\n",
       " 'AppSwarm, Inc.': 1,\n",
       " 'AppTeeza LLC': 2,\n",
       " 'AppTout': 2,\n",
       " 'Appature Technologies Inc.': 1,\n",
       " 'Appco, LLC (WI)': 1,\n",
       " 'Appgeneration Software': 2,\n",
       " 'Appgrammers LLC': 2,\n",
       " 'Appitt LLC': 1,\n",
       " 'Applied Computer Concepts Ltd.': 2,\n",
       " 'Appnoxious, LLC': 2,\n",
       " 'Apps-O-Rama': 1,\n",
       " 'Apps4Life': 1,\n",
       " 'AppsCorp O\\\\xdc': 1,\n",
       " 'Appscalibur LLC': 1,\n",
       " 'Appsolute Games LLC': 2,\n",
       " 'Appvl Solutions': 1,\n",
       " 'Appxplore (iCandy)': 2,\n",
       " 'Appy Ventures': 1,\n",
       " 'Arabbaramj': 1,\n",
       " 'Arad Okanin': 1,\n",
       " 'Aram Gasparyan': 1,\n",
       " 'Arcade Studios': 1,\n",
       " 'Arcane Circus': 1,\n",
       " 'Arch Square': 4,\n",
       " 'Archbears, Inc.': 1,\n",
       " 'ArdentKid Studios': 1,\n",
       " 'Aristo Consulting GmbH': 1,\n",
       " 'Ariton': 1,\n",
       " 'Arkadium': 1,\n",
       " 'Arkavis Schweiz GmbH': 1,\n",
       " 'Arleen Johnson': 1,\n",
       " 'Armada Interactive Oy': 1,\n",
       " 'Armin Heinrich': 1,\n",
       " 'Armor Games Inc': 5,\n",
       " 'Arnold Rauers': 1,\n",
       " 'Arnon Kreethawate': 1,\n",
       " 'Arpit Reddy': 1,\n",
       " 'Art Studio Dereza, s.r.o.': 1,\n",
       " 'Artem Kotov': 7,\n",
       " 'Artgig Studio': 8,\n",
       " 'Arthur Chevalier': 1,\n",
       " 'Arthur De Araujo': 1,\n",
       " 'Artifex Mundi S.A.': 3,\n",
       " 'Artik Games Studio': 1,\n",
       " 'AsNet Co.,Ltd': 2,\n",
       " 'Asad Ali': 3,\n",
       " 'Asfia sultana': 6,\n",
       " 'Ashfaq Ahmad': 2,\n",
       " 'Ashish Parakh': 1,\n",
       " 'Ashley Sherwin': 4,\n",
       " 'Ashnell Marchand': 1,\n",
       " 'Ashot Balasanyan': 2,\n",
       " 'Asim Pereira': 2,\n",
       " 'Askin Ceyhan': 1,\n",
       " 'Asmodee Digital': 13,\n",
       " 'Aspyr Media, Inc.': 1,\n",
       " 'Astontek Inc': 2,\n",
       " 'Asylum Square Interactive GmbH': 1,\n",
       " 'Atari': 6,\n",
       " 'Atlantyca Entertainment S.p.A.': 1,\n",
       " 'Atom Media': 1,\n",
       " 'Atomic Softwares': 1,\n",
       " 'Attack Games Ltd': 1,\n",
       " 'Audacity Games Inc': 1,\n",
       " 'Audacity Software Pte. Ltd.': 1,\n",
       " 'Auroch Digital Ltd': 2,\n",
       " 'Austin Moca': 1,\n",
       " 'Austin Valleskey': 1,\n",
       " 'Avil Arts': 2,\n",
       " 'Avniel Apps LLC': 1,\n",
       " 'Avrin Ross': 1,\n",
       " 'Awesome Cool and Free Fun Games LLC': 3,\n",
       " 'Awesome Free Games': 2,\n",
       " 'Awesomeness LLC': 1,\n",
       " 'Ayes Studios': 1,\n",
       " 'Aykiro s.r.o.': 1,\n",
       " 'Ayopa Games LLC': 3,\n",
       " 'Aziz Alou': 1,\n",
       " 'Azur Interactive Games Limited': 3,\n",
       " 'B.C. Apps': 1,\n",
       " 'BAIBAI, Inc.': 1,\n",
       " 'BANDAI NAMCO Entertainment America Inc.': 2,\n",
       " 'BANDAI NAMCO Entertainment Europe': 1,\n",
       " 'BANDAI NAMCO Entertainment Inc.': 1,\n",
       " 'BARCELONA SUPERCOMPUTING CENTER': 1,\n",
       " 'BARRY VELASQUEZ': 1,\n",
       " 'BD Digital Inc.': 1,\n",
       " 'BDA Entertainment Inc': 1,\n",
       " 'BENABBI Oussama': 3,\n",
       " 'BG Node Technology Pvt. Ltd.': 1,\n",
       " 'BIG WOOD GAMES LIMITED': 5,\n",
       " 'BILEMEZSIN INTERNET TEKNOLOJILERI VE ICERIK HIZMETLERI ANONIM SIRKETI': 1,\n",
       " 'BLUE': 2,\n",
       " 'BLUE GNC': 4,\n",
       " 'BO LIU': 1,\n",
       " 'BON Games': 1,\n",
       " 'BPS Software': 1,\n",
       " 'BR Games LLC': 1,\n",
       " 'BRAINGEAR GAMES LLP': 1,\n",
       " 'BRAINZ SAS': 1,\n",
       " 'BYRIL OOO': 1,\n",
       " 'BYTEGHOUL GAMES': 1,\n",
       " 'Babeltime Inc': 1,\n",
       " 'Babies Fun Technology Co., Ltd.': 1,\n",
       " 'Babil Games': 1,\n",
       " 'Baby Toga Software': 1,\n",
       " 'Backflip Studios': 1,\n",
       " 'Bad Features Inc': 1,\n",
       " 'Bad Viking': 1,\n",
       " 'Bakumens Inc': 1,\n",
       " 'Ball State University (Information Technology)': 1,\n",
       " 'Balloon Island': 2,\n",
       " 'Ballpit Monster Studios': 1,\n",
       " 'Bambo Studio': 2,\n",
       " 'Bamboo Innovations': 1,\n",
       " 'Banana & Co.': 5,\n",
       " 'Banditos Studio': 1,\n",
       " 'Bane Games': 1,\n",
       " 'Bao Tran': 1,\n",
       " 'Barbara Ash': 1,\n",
       " 'Barbara Ncgee': 2,\n",
       " 'Barking Dog Interactive': 1,\n",
       " 'Barnabe LUX': 1,\n",
       " 'Barry Wyckoff': 1,\n",
       " 'Bartlomiej Kozal': 1,\n",
       " 'Bash Games': 1,\n",
       " 'Bashar Zaidat': 2,\n",
       " 'Basim Mekha': 1,\n",
       " 'Bata Construction': 1,\n",
       " 'Battlefront.com, Inc.': 1,\n",
       " 'Batuhan Bayar': 1,\n",
       " 'Bayou Games': 2,\n",
       " 'Bazimo GmbH': 3,\n",
       " 'Beachfront Media LLC': 1,\n",
       " 'Bearwaves': 1,\n",
       " 'Beast Mode Games LLC': 1,\n",
       " 'Becker Professional Development Corporation': 1,\n",
       " 'Beder Studios': 1,\n",
       " 'BeerMogul Games': 1,\n",
       " 'Beetroot Lab': 1,\n",
       " 'Beets BLU': 1,\n",
       " 'Begin Studio': 1,\n",
       " 'BeiJing XuanYuan Technology Co., Limited': 3,\n",
       " 'Beijing Corn Network Technology Co.,Ltd.': 1,\n",
       " 'Beizong Chen': 1,\n",
       " 'Bekko.com': 3,\n",
       " 'Bell Kevin': 1,\n",
       " 'Belprog Belprog': 2,\n",
       " 'Ben Goevaerts': 1,\n",
       " 'Ben Soohoo': 2,\n",
       " 'Ben Stoller': 1,\n",
       " 'Ben Zlatin': 2,\n",
       " 'Bending Spoons Apps IVS': 1,\n",
       " 'Benjamin Lochmann': 3,\n",
       " 'Benjamin Martinson': 1,\n",
       " 'Benjamin Ohloff': 1,\n",
       " 'Benjamin Walsham': 1,\n",
       " 'Benjamin Zachey': 1,\n",
       " 'Benoit Freslon': 1,\n",
       " 'Benoit Renaud': 1,\n",
       " 'Beraich Mohamed Amine': 1,\n",
       " 'Berk Yuksel': 1,\n",
       " 'Bernd Bruegge': 1,\n",
       " 'Berzerk Studio': 1,\n",
       " 'BesqWare': 1,\n",
       " 'Best Free and Fun Games, LLC': 10,\n",
       " 'Bezier Games, Inc.': 2,\n",
       " 'Bhupendra Singh': 1,\n",
       " 'Big Blue Bubble': 2,\n",
       " 'Big Blue Clip, LLC': 1,\n",
       " 'Big Bucket Software': 1,\n",
       " 'Big Donut LLC': 1,\n",
       " 'Big Fat Simulations Inc.': 1,\n",
       " 'Big Fish Games, Inc': 1,\n",
       " 'Big Tale Studios': 1,\n",
       " 'Big Teeth Media': 1,\n",
       " 'BigWig': 1,\n",
       " 'Bilal Mirza': 1,\n",
       " 'Bill Harned': 1,\n",
       " 'Billy Taylor': 1,\n",
       " 'Binary Space': 2,\n",
       " 'Binex Solutions': 2,\n",
       " 'Birdie Bam Development, LLC': 1,\n",
       " 'Birmingham City University': 1,\n",
       " 'Bit By Bit Games Ltd': 1,\n",
       " 'Bit By Bit Studios, LLC': 1,\n",
       " 'Bit Mass LLC': 1,\n",
       " 'Bitmen Studios': 1,\n",
       " 'BizTechies, Inc.': 2,\n",
       " 'Bjorn Jenssen': 1,\n",
       " 'Black Chilli Games ( Top Free Addictive Arcade / Action 3D Car Racing Fun Game )': 1,\n",
       " 'Black Cigar Apps, LLC': 1,\n",
       " 'Black Math Labs, Inc.': 1,\n",
       " 'Black Panther Software': 3,\n",
       " 'Blade Fire Studios': 1,\n",
       " 'BlahBlahBlah Entertainment Inc.': 1,\n",
       " 'Blaise L. Trotoux': 1,\n",
       " 'Blake Gordon': 1,\n",
       " 'Blalock Consulting Group LLC': 1,\n",
       " 'BlankMediaGames': 1,\n",
       " 'Blare It Software, LLC': 1,\n",
       " 'Blastworks Limited': 11,\n",
       " 'Blaz Merela': 2,\n",
       " 'Blimps LLC': 2,\n",
       " 'Blindfire Limited': 1,\n",
       " 'Bling Bling Games GmbH': 3,\n",
       " 'Blitwise Productions, LLC': 2,\n",
       " 'Blizzard Entertainment, Inc.': 1,\n",
       " 'Block Puzzle Games': 2,\n",
       " 'Blue Ash Software & Services, LLC': 1,\n",
       " 'Blue Bottle Games, LLC': 1,\n",
       " 'Blue Legend Games, LLC': 1,\n",
       " 'Blue Systems DK': 1,\n",
       " 'Blue Wizard Digital LP': 2,\n",
       " 'BlueRose Technologies Private Limited': 1,\n",
       " 'Blueonionsoft, Corp.': 2,\n",
       " 'Bluepaw Games, LLC.': 1,\n",
       " 'Bobby Rohweder': 3,\n",
       " 'Bogdan Markovsky': 1,\n",
       " 'Bohemia Interactive a.s.': 3,\n",
       " 'Bolt Creative': 1,\n",
       " 'Boltfish': 1,\n",
       " 'Booblyc OU': 2,\n",
       " 'Bookup Corp.': 1,\n",
       " 'BoomBit, Inc.': 1,\n",
       " 'Boomzap': 4,\n",
       " 'BorderLeap, LLC': 1,\n",
       " 'Boris Nekrushev': 1,\n",
       " 'Boris Tsarkov': 1,\n",
       " 'Born Royal LLC': 1,\n",
       " 'Borys Forytarz': 1,\n",
       " 'Bosi Lv': 1,\n",
       " 'Bottled Software GmbH': 1,\n",
       " 'BoxCat LLC': 1,\n",
       " 'Boy Howdy Technology LLC': 11,\n",
       " 'Boyan Paskalev': 1,\n",
       " 'Brad Hayes': 1,\n",
       " 'Brain Seal Ltd': 1,\n",
       " 'Brainga, LLC': 1,\n",
       " 'Brainingcamp, LLC': 1,\n",
       " 'Brainium Studios LLC': 2,\n",
       " 'Brainload Technologies': 1,\n",
       " 'Brainquake Inc.': 1,\n",
       " 'Brainstorm Games, LLC': 1,\n",
       " 'Bram Smit': 5,\n",
       " 'Brandon LaRouche': 1,\n",
       " 'Brandon Stecklein': 8,\n",
       " 'Brandon Wallace': 1,\n",
       " 'Breathing Bytes Limited': 1,\n",
       " 'Bret Ahlstrom': 1,\n",
       " 'Bret Black': 1,\n",
       " 'Brett Bergstrom': 1,\n",
       " 'Brett Lowey': 3,\n",
       " 'Breva Bridge Card Game Ltd': 1,\n",
       " 'Brian Appell': 1,\n",
       " 'Brian Cass': 1,\n",
       " 'Brian Chan': 1,\n",
       " 'Brian D. Salomon': 1,\n",
       " 'Brian Deborah': 1,\n",
       " 'Brian Smith': 1,\n",
       " 'Brian Tribble': 1,\n",
       " 'Brian Vierra': 1,\n",
       " 'Bridger Maxwell': 1,\n",
       " 'BrightDream Apps LLC': 1,\n",
       " 'Brilliant Labs': 1,\n",
       " 'Britton Poplin': 1,\n",
       " 'Broken Arms Games Pty Ltd': 1,\n",
       " 'Brown Lucy': 1,\n",
       " 'Bruce Roberts': 1,\n",
       " 'Bruh Inc': 3,\n",
       " 'Bruno Fargnoli': 2,\n",
       " 'BubbaJoe': 1,\n",
       " 'Bubble Blast LTD. - Fun free music games': 2,\n",
       " 'Bubble Go Ltd: Casual games for girls': 4,\n",
       " 'Bubble Pop Software': 1,\n",
       " 'Buck The Odds, LLC.': 1,\n",
       " 'Buffstone Co., Ltd.': 1,\n",
       " 'Bugbyte': 3,\n",
       " 'Bui Ngoc Quang': 1,\n",
       " 'Build Up Labs': 1,\n",
       " 'Bulky Tree': 1,\n",
       " 'Bulong Chen': 3,\n",
       " 'Bungie Aerospace Corporation': 1,\n",
       " 'Burletech': 2,\n",
       " 'Burning Ember Software, Inc.': 1,\n",
       " 'Busking Software': 1,\n",
       " 'Button Mash Games Inc.': 2,\n",
       " 'Buzly Labs Ltd.': 1,\n",
       " 'Byrd Apps LLC': 3,\n",
       " 'Byron Jenkins': 1,\n",
       " 'Byte-Pronto Games': 2,\n",
       " 'Bytro Labs GmbH': 3,\n",
       " 'C M.H': 3,\n",
       " 'C.H.': 3,\n",
       " 'C4M Inc': 1,\n",
       " 'CAMEL GAMES LIMITED': 1,\n",
       " 'CDN Software Solutions Pvt. Ltd.': 1,\n",
       " 'CH4 Productions': 1,\n",
       " 'CHEN HUANG': 1,\n",
       " 'CHERRY VALLEY EDUCATIONAL PRODUCTS, LLC': 1,\n",
       " 'CHIA HO KUO': 6,\n",
       " 'CHUN TAO CUI': 1,\n",
       " 'CHUNSHENG LIU': 1,\n",
       " 'CITRUSLAB, L.C.': 1,\n",
       " 'CM': 1,\n",
       " 'CMC Interactive, LLC': 1,\n",
       " 'CMON': 3,\n",
       " 'COBBLECROWD': 1,\n",
       " 'COCOSOLA Inc.': 1,\n",
       " 'CODNES': 1,\n",
       " 'CONCEPT360 GmbH': 1,\n",
       " 'COTTONGAME Network Technology Co., Ltd.': 1,\n",
       " 'CPA Australia Ltd': 1,\n",
       " 'CREATIVE STAR SOFT SRL': 1,\n",
       " 'CROOTO': 1,\n",
       " 'CUBE MAGIC LTD.': 1,\n",
       " 'CUBIC digital': 2,\n",
       " 'CUBISMy': 1,\n",
       " 'CW&T': 2,\n",
       " 'CalcFxC, LLC': 1,\n",
       " 'Caleb Friden': 1,\n",
       " 'Caleb Pomayo': 1,\n",
       " 'Calla Carter': 1,\n",
       " 'Calvin Nutter': 1,\n",
       " 'Calvino Noir Ltd': 1,\n",
       " 'CamelGames INC.': 5,\n",
       " 'Cameron Brown': 1,\n",
       " 'Cameron Ewart': 1,\n",
       " 'Cameron Roth': 1,\n",
       " 'Cameron Saman': 1,\n",
       " 'Campbell Cravens': 1,\n",
       " 'CanCan Inc': 1,\n",
       " 'Candy Corpse LLC': 1,\n",
       " 'Candywriter, LLC': 1,\n",
       " 'Cannonbot Games LLC': 1,\n",
       " 'Canvas soft': 1,\n",
       " 'CapPlay.com': 4,\n",
       " 'Cape of Good Games': 1,\n",
       " 'CapeApps': 1,\n",
       " 'Caramel Tech Studios': 1,\n",
       " 'Carbon Incubator SRL': 1,\n",
       " 'Carl Hopf': 1,\n",
       " 'Carli Wessels': 3,\n",
       " 'Carlos Chaparro': 1,\n",
       " 'Carlos Mendez Calderon': 1,\n",
       " 'Carma Games': 1,\n",
       " 'Carnivore Inc': 1,\n",
       " 'Carolyn Lea': 1,\n",
       " 'Carson Brody': 4,\n",
       " 'Carstens Studios Inc.': 1,\n",
       " 'Carter Appleton': 1,\n",
       " 'Cartoon Network': 2,\n",
       " 'Cashsquare Inc.': 1,\n",
       " 'Cassandra Chan': 3,\n",
       " 'Caster Level Limited': 1,\n",
       " 'Casual App Team': 1,\n",
       " 'Casual Joy Limited': 1,\n",
       " 'Cat Nigiri Ltda ME': 1,\n",
       " 'Cat in a Box Games': 1,\n",
       " 'Catapult Consulting, LLC': 4,\n",
       " 'Category 5 Games': 1,\n",
       " 'Cateia Games': 5,\n",
       " 'Cedric Hammiche': 1,\n",
       " 'Cellular Bits': 1,\n",
       " 'Cellular Century': 1,\n",
       " 'Celsius online': 2,\n",
       " 'Centaur Games': 1,\n",
       " 'Cerebral Gardens': 3,\n",
       " 'CerebralFix': 1,\n",
       " 'Cesar Avelar': 1,\n",
       " 'Cezary Tomczak': 1,\n",
       " 'Chad Towns': 1,\n",
       " 'Challenge Solutions LLC': 1,\n",
       " 'Chandra Jaya': 1,\n",
       " 'ChangHun Choo': 1,\n",
       " 'Changchao Han': 1,\n",
       " 'Changsha Spore Technology Co. Ltd.': 1,\n",
       " 'Chaotan Li': 5,\n",
       " 'Charles McGibney': 1,\n",
       " 'Chau Hoang': 5,\n",
       " 'Chaviro Software': 1,\n",
       " 'Chaz Helsing': 1,\n",
       " 'Cheese LLC': 1,\n",
       " 'Cheetah Technology Corporation Limited': 1,\n",
       " 'ChelfasT': 2,\n",
       " 'Chen Qi': 1,\n",
       " 'Chen Yong Min': 18,\n",
       " 'Chen Zhong Yuan': 4,\n",
       " 'Chengdu Elegant Technology Co., Ltd.': 1,\n",
       " 'Chengdu Le Mai Hu Yu Co., Ltd.': 1,\n",
       " 'Chengdu Phoenix Electronic Arts Co. Limited': 2,\n",
       " 'Chengdu Valkyrie Technology Limited': 1,\n",
       " 'Chenli Yin': 2,\n",
       " 'Chesdin Apps': 1,\n",
       " 'Chess Raiders d.o.o.': 1,\n",
       " 'Chess.com': 3,\n",
       " 'ChessBase GmbH': 3,\n",
       " 'ChessCube': 1,\n",
       " 'Chetan Kotecha': 1,\n",
       " 'Cheuk lai': 2,\n",
       " 'Chi Feng': 1,\n",
       " 'Chi Kau Wan': 2,\n",
       " 'Chi Shing Fung': 1,\n",
       " 'Chickendinner, Inc': 1,\n",
       " 'Chienfu Huang': 1,\n",
       " 'Childish Things Ltd': 2,\n",
       " 'Chili Labs': 1,\n",
       " 'Chilli Hugger Software Ltd': 1,\n",
       " 'Chilltime': 1,\n",
       " 'Chimera Software, LLC': 2,\n",
       " 'ChimpWorks': 1,\n",
       " 'Chinesegamer': 4,\n",
       " 'Chinmay Patel': 1,\n",
       " 'Chintan Shah': 1,\n",
       " 'Chirag Finaviya': 1,\n",
       " 'Chris D': 1,\n",
       " 'Chris Goinks': 1,\n",
       " 'Chris Guyler': 3,\n",
       " 'Chris Haynes': 1,\n",
       " 'Christian Cromnow': 1,\n",
       " 'Christian Jones': 1,\n",
       " 'Christian Urquhart': 1,\n",
       " 'Christophe Baranger': 1,\n",
       " 'Christophe Th\\\\xe9ron': 4,\n",
       " 'Christopher Brown': 1,\n",
       " 'Christopher Ching': 1,\n",
       " 'Christopher Donelson': 2,\n",
       " 'Christopher Lawson': 1,\n",
       " 'Christopher Legare Roussel': 2,\n",
       " 'Christopher Timmerman': 1,\n",
       " 'Christy Love Margarico': 2,\n",
       " 'Chronological Ltd': 1,\n",
       " 'Chuckanut Media': 1,\n",
       " 'Chyogame Inc.': 1,\n",
       " 'CiRE software': 2,\n",
       " 'Cider Press Media': 1,\n",
       " 'Cider Software LLC': 1,\n",
       " 'Cimu': 1,\n",
       " 'Cinq-Mars Media': 1,\n",
       " 'CipSoft GmbH': 1,\n",
       " 'City Quests': 1,\n",
       " 'CityDomination GmbH & Co. KG': 1,\n",
       " 'Cl\\\\xe9ment jacquet': 1,\n",
       " 'Claire Budd': 3,\n",
       " 'ClanPlay': 1,\n",
       " 'Classic Games': 4,\n",
       " 'Claude Roeltgen': 1,\n",
       " 'Clegames, Inc.': 3,\n",
       " 'CleverMedia, Inc.': 14,\n",
       " 'Cleverson': 2,\n",
       " 'Cleverson Schmidt': 1,\n",
       " 'Clickteam, LLC': 2,\n",
       " 'Clicktouch Co.,Ltd.': 1,\n",
       " 'Clifton Garage Mobile LLC': 1,\n",
       " 'Clipwire Games Inc.': 1,\n",
       " 'Cloud 541 LLC': 1,\n",
       " 'Cloudburst Room Escape, Inc': 1,\n",
       " 'Clover Games USA': 1,\n",
       " 'Clutch Media & Design Inc.': 1,\n",
       " 'Cobra Corp': 1,\n",
       " 'Cobra Mobile Limited': 1,\n",
       " 'CocaGame': 1,\n",
       " 'Cocoa Stuff': 1,\n",
       " 'Coconut Island Games Limited': 2,\n",
       " 'Code Fanatics': 1,\n",
       " 'Codebrew Games Inc.': 1,\n",
       " 'Codematics Services': 1,\n",
       " 'Codeurs': 1,\n",
       " 'Codeverse': 1,\n",
       " 'Codito Development Inc.': 5,\n",
       " 'Codxp, Inc': 1,\n",
       " 'Cody Condon': 1,\n",
       " 'Cody Mace': 1,\n",
       " 'Cogoo Inc.': 3,\n",
       " 'Cohen Burleson': 1,\n",
       " 'Colby Hawkins': 1,\n",
       " 'Cold Beam Games Ltd': 1,\n",
       " 'ColdFire Games': 1,\n",
       " 'ColePowered Games Ltd.': 2,\n",
       " 'Colin Smith': 4,\n",
       " 'Collin Wade Thiessen': 1,\n",
       " 'Colorway LLC': 1,\n",
       " 'Com2uS Corp.': 4,\n",
       " 'Comet Network Technology': 2,\n",
       " 'Conceptis Ltd.': 15,\n",
       " 'Concrete Software, Inc.': 3,\n",
       " 'Connor Brian': 1,\n",
       " 'Conor King': 1,\n",
       " 'Continuous Integration Inc.': 1,\n",
       " 'Conversion, LLC': 1,\n",
       " 'CookApps': 1,\n",
       " 'Cool Game Arcade : Fun Action Strategy, Sim and Puzzle Apps': 1,\n",
       " 'CoolGameDude.com': 1,\n",
       " 'Corey Ledin': 1,\n",
       " 'Corey Smith': 7,\n",
       " 'Costain Group PLC': 1,\n",
       " 'Cottage Street Interactive': 1,\n",
       " 'Couch Potato Studios': 1,\n",
       " 'Counterwave, Inc.': 1,\n",
       " 'Courtney & Company': 1,\n",
       " 'Covelop Group, Inc': 1,\n",
       " 'Crab Soft': 2,\n",
       " 'Craig Briggs': 1,\n",
       " 'Craig Hibbard': 1,\n",
       " 'CrankCase, LLC': 1,\n",
       " 'Cravemob Co.,Ltd': 2,\n",
       " 'Crazy Carpenter': 12,\n",
       " 'Crazy Labs': 1,\n",
       " 'Crazy Panda Limited': 2,\n",
       " 'CrazySoft Limited': 3,\n",
       " 'Creative Good Projects, LLC': 1,\n",
       " 'Creative Titans': 5,\n",
       " 'Crescent Moon Games': 9,\n",
       " 'CronlyGames Inc.': 1,\n",
       " 'Crucial App Concepts': 1,\n",
       " 'Crunchy Peach': 1,\n",
       " 'Cube Games': 1,\n",
       " 'Cubegrinder Studios': 1,\n",
       " 'Cublo Sp. z o.o.': 1,\n",
       " 'Cuong Pham': 1,\n",
       " 'Curious Labs': 1,\n",
       " 'CyberValue LLC': 1,\n",
       " 'Cynthia Childs': 2,\n",
       " 'Cyril GY': 1,\n",
       " 'Cyril Jarnot': 1,\n",
       " 'Cyscorpions Inc.,': 1,\n",
       " 'Czech Games Edition': 1,\n",
       " 'D20Studios, LLC': 1,\n",
       " 'D2D Fund': 1,\n",
       " 'D3PA': 1,\n",
       " 'DADIU': 1,\n",
       " 'DAMIANOS CHRISTODOULOU': 1,\n",
       " 'DAN-BALL': 1,\n",
       " 'DASHBUZZ MEDIA LLC': 1,\n",
       " 'DAYDREAM GAMES': 1,\n",
       " 'DBRG Ltd.': 2,\n",
       " 'DDJJstudio': 1,\n",
       " 'DEF APPS LLC': 1,\n",
       " 'DEFCON GAMES LLC': 1,\n",
       " 'DEMOULIN BROTHERS & COMPANY': 1,\n",
       " 'DEVFLOOR Co.,Ltd.': 1,\n",
       " 'DIGIDICED': 1,\n",
       " 'DIGITAL MELODY GAMES KITAJEWSKI I STALEWSKI SPOLKA JAWNA': 1,\n",
       " 'DILON Games': 1,\n",
       " 'DM Applications LLC (TX)': 7,\n",
       " 'DNA Apps LLC': 1,\n",
       " 'DOGUS YAYIN GRUBU A.S.': 1,\n",
       " 'DRCoderz': 2,\n",
       " 'DROIDHEN LIMITED': 3,\n",
       " 'DYNAMICNEXT': 2,\n",
       " 'Da Lei': 1,\n",
       " 'Da peng Sun': 1,\n",
       " 'DaSuppa': 3,\n",
       " 'Dai-Hyun Kwon': 2,\n",
       " 'Daigo Sato': 1,\n",
       " 'Dakshesh vyas': 1,\n",
       " 'Dakyuz Yazilim Ticaret Limited Sirketi': 1,\n",
       " 'Damatha Studios': 1,\n",
       " 'Damian Bernardi': 2,\n",
       " 'Damian Sommer': 1,\n",
       " 'Damien Dunn': 1,\n",
       " 'Damir Nigomedyanov': 1,\n",
       " 'Dan Liu': 1,\n",
       " 'Dan Schlueter': 1,\n",
       " 'Dang Hien': 1,\n",
       " 'Dang Mi Pham': 1,\n",
       " 'DangerMunki LLC': 1,\n",
       " 'Danh Le Thanh': 1,\n",
       " 'Daniel Asto': 2,\n",
       " 'Daniel Cutaneo': 1,\n",
       " 'Daniel Gauthier': 1,\n",
       " 'Daniel Glaser': 2,\n",
       " 'Daniel Long': 1,\n",
       " 'Daniel Mansfeld': 1,\n",
       " 'Daniel Storm': 1,\n",
       " 'Daniele Bottillo': 1,\n",
       " 'Danny Aijala': 2,\n",
       " 'Danny Pajevic': 1,\n",
       " 'Danny Wong': 1,\n",
       " 'DargomStudio Co., Ltd.': 1,\n",
       " 'Daria Antipina': 5,\n",
       " 'Dark Realm Studios': 1,\n",
       " 'Daron Nay': 1,\n",
       " 'DartFrog llc': 4,\n",
       " 'Daru Limited': 1,\n",
       " 'Dasheng Qi': 1,\n",
       " 'Dat Bui': 1,\n",
       " 'Datcroft Games Ltd': 1,\n",
       " 'Dau Quoc Toan': 2,\n",
       " 'Dave Butler': 1,\n",
       " 'Dave Dyer': 1,\n",
       " 'David Demirjian': 1,\n",
       " 'David Dempsey': 1,\n",
       " 'David Elsonbaty': 1,\n",
       " 'David Galindo': 2,\n",
       " 'David Hung': 1,\n",
       " 'David J Morlock': 1,\n",
       " 'David Kershaw': 6,\n",
       " 'David McHale': 1,\n",
       " 'David Mercado': 1,\n",
       " 'David Peroutka': 3,\n",
       " 'David Podolsky': 1,\n",
       " 'David Skelly': 1,\n",
       " 'David Williamson': 1,\n",
       " 'David Zacharias': 1,\n",
       " 'David Zobrist': 1,\n",
       " 'DavidLinan': 1,\n",
       " 'Day Owl LLC': 2,\n",
       " 'Daybreak Industries': 1,\n",
       " 'Daylight Studios Pte. Ltd.': 1,\n",
       " 'Deacent Mobile': 1,\n",
       " 'DeadRatGames': 3,\n",
       " 'Dean Martin': 1,\n",
       " 'Dear Labs GmbH': 1,\n",
       " 'Dearth Enterprises Inc.': 1,\n",
       " 'Debbie Castillo': 1,\n",
       " 'Debiao Wei': 1,\n",
       " 'Deca Games EOOD': 4,\n",
       " 'Decane': 1,\n",
       " 'Dedalord S.R.L.': 2,\n",
       " 'Deep Logic LLC': 1,\n",
       " 'Deep Thoughts Software': 1,\n",
       " 'Deeper Arts, Inc.': 1,\n",
       " 'Default Method LLC': 1,\n",
       " 'Defei Yuan': 1,\n",
       " 'Defend the Cake LLC': 1,\n",
       " 'Defy Entertainment': 2,\n",
       " 'Deividas Colkevicius': 1,\n",
       " 'Dejun Lin': 1,\n",
       " 'Delidron Games': 1,\n",
       " 'DeluxeWare': 1,\n",
       " 'DemonStudios': 1,\n",
       " 'Denis Sokolov': 1,\n",
       " 'Deniz Yukaricukur': 1,\n",
       " 'Dennis Chhay': 1,\n",
       " 'Dennis Mengelt': 2,\n",
       " 'Derek DeMirjian': 1,\n",
       " 'Derek Morin': 1,\n",
       " 'Derek Seibel': 1,\n",
       " 'Derrick Tiveron': 1,\n",
       " 'Detention Apps': 38,\n",
       " 'DevGame OU': 1,\n",
       " 'DevPocket': 1,\n",
       " 'DevStone': 3,\n",
       " 'Developpement Logiciels XenyGames Inc.': 8,\n",
       " 'Devsisters': 1,\n",
       " 'Di Wu': 1,\n",
       " 'Diced Pixel, LLC': 8,\n",
       " 'Diego Cathalifaud': 3,\n",
       " 'Diep Nguyen': 1,\n",
       " 'Dieu Phuong International Company Limited': 1,\n",
       " 'Diga Design': 1,\n",
       " 'Digipulp Inc.': 1,\n",
       " 'Digital Bananas, LLC': 2,\n",
       " 'Digital Brainwash': 1,\n",
       " 'Digital Relics LLC': 2,\n",
       " 'Digital Tales': 2,\n",
       " 'Digital Things': 6,\n",
       " 'DigitalFun': 1,\n",
       " 'DigitalGoal Ltd': 2,\n",
       " 'DigitalOrigins Ltd': 1,\n",
       " 'Dignity Games': 1,\n",
       " 'Dilemma Apps': 3,\n",
       " 'Dimension Technics': 2,\n",
       " 'Ding Fa Mo': 8,\n",
       " 'Ding Jiansheng': 1,\n",
       " 'Dino Go Corp': 2,\n",
       " 'Dinosaur Polo Club': 2,\n",
       " 'Dipl.-Ing. Rolf-Dieter Klein': 1,\n",
       " 'Dire Wolf Digital': 5,\n",
       " 'Direct Agents Ltd': 2,\n",
       " 'Disney': 1,\n",
       " 'Distinctive Games': 1,\n",
       " 'Divertap Apps': 2,\n",
       " 'Divertissements Luckyhammers Inc.': 1,\n",
       " 'Diverve, Inc': 1,\n",
       " 'Dividual Inc.': 1,\n",
       " 'Divisive Media': 1,\n",
       " 'Dmitri Isaenkov': 2,\n",
       " 'Dmitrii Kuzmenko': 4,\n",
       " 'Dmitrii Popov': 1,\n",
       " 'Dmitro Chalovskiy': 1,\n",
       " 'Dmitry Gushchin': 11,\n",
       " 'Dmitry Sadovnikov': 1,\n",
       " 'Do Anh Tu': 8,\n",
       " 'Dobsoft Studios': 1,\n",
       " 'Dodisoft': 1,\n",
       " 'DoggyBag': 1,\n",
       " 'Dominik Babiarz': 1,\n",
       " 'Don Perera': 1,\n",
       " 'Don Sanders': 1,\n",
       " ...}"
      ]
     },
     "execution_count": 58,
     "metadata": {},
     "output_type": "execute_result"
    }
   ],
   "source": [
    "published_games_mapping = data.groupby('Developer')['Developer'].count().to_dict()\n",
    "published_games_mapping"
   ]
  },
  {
   "cell_type": "code",
   "execution_count": 59,
   "metadata": {},
   "outputs": [],
   "source": [
    "data['games_published'] = data['Developer'].map(published_games_mapping)"
   ]
  },
  {
   "cell_type": "code",
   "execution_count": 60,
   "metadata": {},
   "outputs": [
    {
     "data": {
      "image/png": "[encoded data removed]",
      "text/plain": [
       "<Figure size 432x288 with 1 Axes>"
      ]
     },
     "metadata": {
      "needs_background": "light"
     },
     "output_type": "display_data"
    }
   ],
   "source": [
    "data['games_published'].hist();"
   ]
  },
  {
   "cell_type": "code",
   "execution_count": 61,
   "metadata": {},
   "outputs": [
    {
     "data": {
      "text/plain": [
       "Index(['URL', 'ID', 'Name', 'Icon URL', 'Average User Rating',\n",
       "       'User Rating Count', 'Price', 'In-app Purchases', 'Description',\n",
       "       'Developer', 'Age Rating', 'Languages', 'Size', 'Primary Genre',\n",
       "       'Genres', 'Original Release Date', 'Current Version Release Date',\n",
       "       'free2play', '0.0', '0.99', '1.49', '1.99', '10.99', '109.99', '11.99',\n",
       "       '119.99', '12.99', '129.99', '13.99', '139.99', '14.99', '15.99',\n",
       "       '16.99', '169.99', '17.99', '18.99', '19.49', '19.99', '199.99', '2.49',\n",
       "       '2.99', '20.99', '21.99', '22.99', '23.49', '23.99', '24.99', '25.99',\n",
       "       '26.99', '27.99', '28.99', '29.99', '3.49', '3.99', '30.99', '31.99',\n",
       "       '32.99', '33.99', '34.99', '35.99', '36.99', '37.99', '38.99', '39.99',\n",
       "       '4.49', '4.99', '40.99', '41.99', '43.99', '44.99', '45.99', '46.99',\n",
       "       '47.99', '48.99', '49.99', '5.49', '5.99', '54.99', '59.99', '6.99',\n",
       "       '64.99', '69.99', '7.49', '7.99', '74.99', '79.99', '8.49', '8.99',\n",
       "       '84.99', '89.99', '9.49', '9.99', '94.99', '99.99', 'description_len',\n",
       "       'games_published'],\n",
       "      dtype='object')"
      ]
     },
     "execution_count": 61,
     "metadata": {},
     "output_type": "execute_result"
    }
   ],
   "source": [
    "data.columns"
   ]
  },
  {
   "cell_type": "markdown",
   "metadata": {},
   "source": [
    "## Age Rating "
   ]
  },
  {
   "cell_type": "code",
   "execution_count": 62,
   "metadata": {},
   "outputs": [
    {
     "data": {
      "text/plain": [
       "4+     4457\n",
       "9+     1461\n",
       "12+    1331\n",
       "17+     287\n",
       "Name: Age Rating, dtype: int64"
      ]
     },
     "execution_count": 62,
     "metadata": {},
     "output_type": "execute_result"
    }
   ],
   "source": [
    "data['Age Rating'].value_counts()"
   ]
  },
  {
   "cell_type": "code",
   "execution_count": 63,
   "metadata": {},
   "outputs": [],
   "source": [
    "from sklearn.preprocessing import LabelEncoder\n",
    "\n",
    "label_encoder_age = LabelEncoder()"
   ]
  },
  {
   "cell_type": "code",
   "execution_count": 64,
   "metadata": {},
   "outputs": [],
   "source": [
    "data = pd.concat([data, pd.get_dummies(data['Age Rating'], drop_first=True)], axis=1)"
   ]
  },
  {
   "cell_type": "markdown",
   "metadata": {},
   "source": [
    "## Languages "
   ]
  },
  {
   "cell_type": "code",
   "execution_count": 65,
   "metadata": {},
   "outputs": [
    {
     "data": {
      "text/plain": [
       "EN                                                                5000\n",
       "EN, ZH                                                             134\n",
       "EN, ZH, ZH                                                         124\n",
       "EN, DE                                                              69\n",
       "CS, NL, EN, FR, DE, IT, JA, KO, PL, PT, RU, ZH, ES, SV, ZH, TR      64\n",
       "                                                                  ... \n",
       "NL, EN, FI, FR, DE, IT, JA, KO, PT, RU, ZH, ES, SV, TH               1\n",
       "EN, FR, DE, ID, IT, LT, MS, RU, ES                                   1\n",
       "EN, FR, DE, ID, IT, JA, KO, PT, RU, ZH, ES, ZH                       1\n",
       "EN, DE, JA, KO, PT, ZH, ZH                                           1\n",
       "NL, EN, ES                                                           1\n",
       "Name: Languages, Length: 777, dtype: int64"
      ]
     },
     "execution_count": 65,
     "metadata": {},
     "output_type": "execute_result"
    }
   ],
   "source": [
    "data['Languages'].value_counts()"
   ]
  },
  {
   "cell_type": "code",
   "execution_count": 66,
   "metadata": {},
   "outputs": [
    {
     "data": {
      "text/plain": [
       "24"
      ]
     },
     "execution_count": 66,
     "metadata": {},
     "output_type": "execute_result"
    }
   ],
   "source": [
    "data['Languages'].isnull().sum()"
   ]
  },
  {
   "cell_type": "code",
   "execution_count": 67,
   "metadata": {},
   "outputs": [],
   "source": [
    "data['Languages'].fillna('EN', inplace=True)\n",
    "# fill missing values with frequently occured EN language"
   ]
  },
  {
   "cell_type": "code",
   "execution_count": 68,
   "metadata": {},
   "outputs": [],
   "source": [
    "data['translation_number'] = data['Languages'].apply(len)"
   ]
  },
  {
   "cell_type": "markdown",
   "metadata": {},
   "source": [
    "## Size "
   ]
  },
  {
   "cell_type": "code",
   "execution_count": 69,
   "metadata": {},
   "outputs": [
    {
     "data": {
      "text/plain": [
       "<matplotlib.axes._subplots.AxesSubplot at 0x1e8f4f56808>"
      ]
     },
     "execution_count": 69,
     "metadata": {},
     "output_type": "execute_result"
    },
    {
     "data": {
      "image/png": "[encoded data removed]",
      "text/plain": [
       "<Figure size 432x288 with 1 Axes>"
      ]
     },
     "metadata": {
      "needs_background": "light"
     },
     "output_type": "display_data"
    }
   ],
   "source": [
    "data['Size'].hist()"
   ]
  },
  {
   "cell_type": "code",
   "execution_count": 70,
   "metadata": {},
   "outputs": [
    {
     "data": {
      "text/plain": [
       "<matplotlib.axes._subplots.AxesSubplot at 0x1e8ff9f6788>"
      ]
     },
     "execution_count": 70,
     "metadata": {},
     "output_type": "execute_result"
    },
    {
     "data": {
      "image/png": "[encoded data removed]",
      "text/plain": [
       "<Figure size 432x288 with 1 Axes>"
      ]
     },
     "metadata": {
      "needs_background": "light"
     },
     "output_type": "display_data"
    }
   ],
   "source": [
    "data['Size'] = data['Size'].apply(np.log)\n",
    "data['Size'].hist()"
   ]
  },
  {
   "cell_type": "markdown",
   "metadata": {},
   "source": [
    "## Primary Genre "
   ]
  },
  {
   "cell_type": "code",
   "execution_count": 71,
   "metadata": {},
   "outputs": [
    {
     "data": {
      "text/plain": [
       "Games                7267\n",
       "Entertainment          92\n",
       "Education              46\n",
       "Utilities              44\n",
       "Sports                 22\n",
       "Reference              18\n",
       "Productivity            8\n",
       "Finance                 8\n",
       "Book                    5\n",
       "Lifestyle               4\n",
       "Music                   3\n",
       "Social Networking       3\n",
       "Stickers                3\n",
       "Health & Fitness        3\n",
       "News                    2\n",
       "Business                2\n",
       "Medical                 2\n",
       "Food & Drink            1\n",
       "Navigation              1\n",
       "Shopping                1\n",
       "Travel                  1\n",
       "Name: Primary Genre, dtype: int64"
      ]
     },
     "execution_count": 71,
     "metadata": {},
     "output_type": "execute_result"
    }
   ],
   "source": [
    "data['Primary Genre'].value_counts()\n",
    "#drop this var since it mainly contain Games"
   ]
  },
  {
   "cell_type": "markdown",
   "metadata": {},
   "source": [
    "## Genres "
   ]
  },
  {
   "cell_type": "code",
   "execution_count": 72,
   "metadata": {},
   "outputs": [
    {
     "data": {
      "text/plain": [
       "Games, Simulation, Strategy                                       288\n",
       "Games, Strategy, Simulation                                       287\n",
       "Games, Strategy, Puzzle                                           261\n",
       "Games, Strategy, Action                                           259\n",
       "Games, Puzzle, Strategy                                           218\n",
       "                                                                 ... \n",
       "Games, Family, Social Networking, Strategy                          1\n",
       "Productivity, Strategy, Adventure, Games                            1\n",
       "Stickers, Games, Gaming, Strategy, Emoji & Expressions, Action      1\n",
       "Games, Adventure, Strategy, Education                               1\n",
       "Games, Sports, Strategy, Lifestyle                                  1\n",
       "Name: Genres, Length: 622, dtype: int64"
      ]
     },
     "execution_count": 72,
     "metadata": {},
     "output_type": "execute_result"
    }
   ],
   "source": [
    "data['Genres'].value_counts()"
   ]
  },
  {
   "cell_type": "code",
   "execution_count": 73,
   "metadata": {},
   "outputs": [],
   "source": [
    "encoded = mlb.fit_transform(data['Genres'].str.split(\", \"))"
   ]
  },
  {
   "cell_type": "code",
   "execution_count": 74,
   "metadata": {},
   "outputs": [],
   "source": [
    "encoded = pd.DataFrame(encoded, columns=mlb.classes_)\n",
    "data = pd.concat([data, encoded], axis=1)"
   ]
  },
  {
   "cell_type": "markdown",
   "metadata": {},
   "source": [
    "## Original Release Date, Current Version Release Date"
   ]
  },
  {
   "cell_type": "code",
   "execution_count": 75,
   "metadata": {},
   "outputs": [
    {
     "data": {
      "text/html": [
       "<div>\n",
       "<style scoped>\n",
       "    .dataframe tbody tr th:only-of-type {\n",
       "        vertical-align: middle;\n",
       "    }\n",
       "\n",
       "    .dataframe tbody tr th {\n",
       "        vertical-align: top;\n",
       "    }\n",
       "\n",
       "    .dataframe thead th {\n",
       "        text-align: right;\n",
       "    }\n",
       "</style>\n",
       "<table border=\"1\" class=\"dataframe\">\n",
       "  <thead>\n",
       "    <tr style=\"text-align: right;\">\n",
       "      <th></th>\n",
       "      <th>Original Release Date</th>\n",
       "      <th>Current Version Release Date</th>\n",
       "    </tr>\n",
       "  </thead>\n",
       "  <tbody>\n",
       "    <tr>\n",
       "      <th>0</th>\n",
       "      <td>11/07/2008</td>\n",
       "      <td>30/05/2017</td>\n",
       "    </tr>\n",
       "    <tr>\n",
       "      <th>1</th>\n",
       "      <td>11/07/2008</td>\n",
       "      <td>17/05/2018</td>\n",
       "    </tr>\n",
       "    <tr>\n",
       "      <th>2</th>\n",
       "      <td>11/07/2008</td>\n",
       "      <td>5/09/2017</td>\n",
       "    </tr>\n",
       "    <tr>\n",
       "      <th>3</th>\n",
       "      <td>18/07/2008</td>\n",
       "      <td>22/07/2018</td>\n",
       "    </tr>\n",
       "    <tr>\n",
       "      <th>4</th>\n",
       "      <td>30/07/2008</td>\n",
       "      <td>29/04/2019</td>\n",
       "    </tr>\n",
       "    <tr>\n",
       "      <th>...</th>\n",
       "      <td>...</td>\n",
       "      <td>...</td>\n",
       "    </tr>\n",
       "    <tr>\n",
       "      <th>7531</th>\n",
       "      <td>31/07/2019</td>\n",
       "      <td>31/07/2019</td>\n",
       "    </tr>\n",
       "    <tr>\n",
       "      <th>7532</th>\n",
       "      <td>23/07/2019</td>\n",
       "      <td>23/07/2019</td>\n",
       "    </tr>\n",
       "    <tr>\n",
       "      <th>7533</th>\n",
       "      <td>31/07/2019</td>\n",
       "      <td>31/07/2019</td>\n",
       "    </tr>\n",
       "    <tr>\n",
       "      <th>7534</th>\n",
       "      <td>28/07/2019</td>\n",
       "      <td>28/07/2019</td>\n",
       "    </tr>\n",
       "    <tr>\n",
       "      <th>7535</th>\n",
       "      <td>30/07/2019</td>\n",
       "      <td>30/07/2019</td>\n",
       "    </tr>\n",
       "  </tbody>\n",
       "</table>\n",
       "<p>7536 rows × 2 columns</p>\n",
       "</div>"
      ],
      "text/plain": [
       "     Original Release Date Current Version Release Date\n",
       "0               11/07/2008                   30/05/2017\n",
       "1               11/07/2008                   17/05/2018\n",
       "2               11/07/2008                    5/09/2017\n",
       "3               18/07/2008                   22/07/2018\n",
       "4               30/07/2008                   29/04/2019\n",
       "...                    ...                          ...\n",
       "7531            31/07/2019                   31/07/2019\n",
       "7532            23/07/2019                   23/07/2019\n",
       "7533            31/07/2019                   31/07/2019\n",
       "7534            28/07/2019                   28/07/2019\n",
       "7535            30/07/2019                   30/07/2019\n",
       "\n",
       "[7536 rows x 2 columns]"
      ]
     },
     "execution_count": 75,
     "metadata": {},
     "output_type": "execute_result"
    }
   ],
   "source": [
    "data[['Original Release Date', 'Current Version Release Date']]"
   ]
  },
  {
   "cell_type": "code",
   "execution_count": 76,
   "metadata": {},
   "outputs": [],
   "source": [
    "data['Original Release Date'] = pd.to_datetime(data['Original Release Date'], \n",
    "                                format=\"%d/%m/%Y\")\n",
    "data['Current Version Release Date'] = pd.to_datetime(data['Current Version Release Date'], \n",
    "                                    format=\"%d/%m/%Y\")"
   ]
  },
  {
   "cell_type": "code",
   "execution_count": 77,
   "metadata": {},
   "outputs": [
    {
     "data": {
      "text/plain": [
       "0      2008-07-11\n",
       "1      2008-07-11\n",
       "2      2008-07-11\n",
       "3      2008-07-18\n",
       "4      2008-07-30\n",
       "          ...    \n",
       "7531   2019-07-31\n",
       "7532   2019-07-23\n",
       "7533   2019-07-31\n",
       "7534   2019-07-28\n",
       "7535   2019-07-30\n",
       "Name: Original Release Date, Length: 7536, dtype: datetime64[ns]"
      ]
     },
     "execution_count": 77,
     "metadata": {},
     "output_type": "execute_result"
    }
   ],
   "source": [
    "data['Original Release Date']"
   ]
  },
  {
   "cell_type": "code",
   "execution_count": 78,
   "metadata": {},
   "outputs": [],
   "source": [
    "current_day = pd.to_datetime(\"08/03/2019\")"
   ]
  },
  {
   "cell_type": "code",
   "execution_count": 79,
   "metadata": {},
   "outputs": [],
   "source": [
    "data[\"days_from_release\"] = current_day - data['Original Release Date']"
   ]
  },
  {
   "cell_type": "code",
   "execution_count": 80,
   "metadata": {},
   "outputs": [],
   "source": [
    "data[\"days_from_release\"] = data[\"days_from_release\"].dt.days"
   ]
  },
  {
   "cell_type": "code",
   "execution_count": 81,
   "metadata": {},
   "outputs": [
    {
     "data": {
      "text/plain": [
       "<matplotlib.axes._subplots.AxesSubplot at 0x1e8ffc27448>"
      ]
     },
     "execution_count": 81,
     "metadata": {},
     "output_type": "execute_result"
    },
    {
     "data": {
      "image/png": "[encoded data removed]",
      "text/plain": [
       "<Figure size 432x288 with 1 Axes>"
      ]
     },
     "metadata": {
      "needs_background": "light"
     },
     "output_type": "display_data"
    }
   ],
   "source": [
    "data[\"days_from_release\"].hist()"
   ]
  },
  {
   "cell_type": "code",
   "execution_count": 82,
   "metadata": {},
   "outputs": [
    {
     "data": {
      "text/plain": [
       "0"
      ]
     },
     "execution_count": 82,
     "metadata": {},
     "output_type": "execute_result"
    }
   ],
   "source": [
    "data[\"days_from_release\"].min()"
   ]
  },
  {
   "cell_type": "markdown",
   "metadata": {},
   "source": [
    "## User Rating Count "
   ]
  },
  {
   "cell_type": "code",
   "execution_count": 83,
   "metadata": {},
   "outputs": [
    {
     "data": {
      "text/plain": [
       "1.609438    390\n",
       "1.791759    330\n",
       "1.945910    266\n",
       "2.079442    255\n",
       "2.302585    170\n",
       "           ... \n",
       "6.672033      1\n",
       "6.597146      1\n",
       "7.898040      1\n",
       "7.899895      1\n",
       "7.560080      1\n",
       "Name: User Rating Count, Length: 1767, dtype: int64"
      ]
     },
     "execution_count": 83,
     "metadata": {},
     "output_type": "execute_result"
    }
   ],
   "source": [
    "data['User Rating Count'].value_counts()"
   ]
  },
  {
   "cell_type": "code",
   "execution_count": 84,
   "metadata": {},
   "outputs": [],
   "source": [
    "data['average_rating_count'] = data['User Rating Count']/(data['days_from_release']+1)"
   ]
  },
  {
   "cell_type": "code",
   "execution_count": 85,
   "metadata": {},
   "outputs": [
    {
     "data": {
      "text/plain": [
       "<matplotlib.axes._subplots.AxesSubplot at 0x1e8ffcdca88>"
      ]
     },
     "execution_count": 85,
     "metadata": {},
     "output_type": "execute_result"
    },
    {
     "data": {
      "image/png": "[encoded data removed]",
      "text/plain": [
       "<Figure size 432x288 with 1 Axes>"
      ]
     },
     "metadata": {
      "needs_background": "light"
     },
     "output_type": "display_data"
    }
   ],
   "source": [
    "data['average_rating_count'].hist()"
   ]
  },
  {
   "cell_type": "code",
   "execution_count": 86,
   "metadata": {},
   "outputs": [],
   "source": [
    "data['last_update_day'] = current_day - data['Current Version Release Date']\n",
    "data['last_update_day'] = data['last_update_day'].dt.days"
   ]
  },
  {
   "cell_type": "code",
   "execution_count": 87,
   "metadata": {},
   "outputs": [
    {
     "data": {
      "text/plain": [
       "<matplotlib.axes._subplots.AxesSubplot at 0x1e8ffc7f588>"
      ]
     },
     "execution_count": 87,
     "metadata": {},
     "output_type": "execute_result"
    },
    {
     "data": {
      "image/png": "[encoded data removed]",
      "text/plain": [
       "<Figure size 432x288 with 1 Axes>"
      ]
     },
     "metadata": {
      "needs_background": "light"
     },
     "output_type": "display_data"
    }
   ],
   "source": [
    "data['last_update_day'].hist()"
   ]
  },
  {
   "cell_type": "code",
   "execution_count": 88,
   "metadata": {},
   "outputs": [],
   "source": [
    "data['days_from_release_to_update'] = data['Current Version Release Date'] - data['Original Release Date']\n",
    "data['days_from_release_to_update'] = data['days_from_release_to_update'].dt.days"
   ]
  },
  {
   "cell_type": "code",
   "execution_count": 89,
   "metadata": {},
   "outputs": [
    {
     "data": {
      "text/plain": [
       "<matplotlib.axes._subplots.AxesSubplot at 0x1e8f1d58f08>"
      ]
     },
     "execution_count": 89,
     "metadata": {},
     "output_type": "execute_result"
    },
    {
     "data": {
      "image/png": "[encoded data removed]",
      "text/plain": [
       "<Figure size 432x288 with 1 Axes>"
      ]
     },
     "metadata": {
      "needs_background": "light"
     },
     "output_type": "display_data"
    }
   ],
   "source": [
    "data['days_from_release_to_update'].hist()"
   ]
  },
  {
   "cell_type": "code",
   "execution_count": 90,
   "metadata": {},
   "outputs": [
    {
     "data": {
      "text/html": [
       "<div>\n",
       "<style scoped>\n",
       "    .dataframe tbody tr th:only-of-type {\n",
       "        vertical-align: middle;\n",
       "    }\n",
       "\n",
       "    .dataframe tbody tr th {\n",
       "        vertical-align: top;\n",
       "    }\n",
       "\n",
       "    .dataframe thead th {\n",
       "        text-align: right;\n",
       "    }\n",
       "</style>\n",
       "<table border=\"1\" class=\"dataframe\">\n",
       "  <thead>\n",
       "    <tr style=\"text-align: right;\">\n",
       "      <th></th>\n",
       "      <th>URL</th>\n",
       "      <th>ID</th>\n",
       "      <th>Name</th>\n",
       "      <th>Icon URL</th>\n",
       "      <th>Average User Rating</th>\n",
       "      <th>User Rating Count</th>\n",
       "      <th>Price</th>\n",
       "      <th>In-app Purchases</th>\n",
       "      <th>Description</th>\n",
       "      <th>Developer</th>\n",
       "      <th>...</th>\n",
       "      <th>Strategy</th>\n",
       "      <th>Travel</th>\n",
       "      <th>Trivia</th>\n",
       "      <th>Utilities</th>\n",
       "      <th>Weather</th>\n",
       "      <th>Word</th>\n",
       "      <th>days_from_release</th>\n",
       "      <th>average_rating_count</th>\n",
       "      <th>last_update_day</th>\n",
       "      <th>days_from_release_to_update</th>\n",
       "    </tr>\n",
       "  </thead>\n",
       "  <tbody>\n",
       "    <tr>\n",
       "      <th>0</th>\n",
       "      <td>https://apps.apple.com/us/app/sudoku/id284921427</td>\n",
       "      <td>284921427</td>\n",
       "      <td>Sudoku</td>\n",
       "      <td>https://is2-ssl.mzstatic.com/image/thumb/Purpl...</td>\n",
       "      <td>4.0</td>\n",
       "      <td>8.175548</td>\n",
       "      <td>2.99</td>\n",
       "      <td>0.0</td>\n",
       "      <td>Join over 21,000,000 of our fans and download ...</td>\n",
       "      <td>Mighty Mighty Good Games</td>\n",
       "      <td>...</td>\n",
       "      <td>1</td>\n",
       "      <td>0</td>\n",
       "      <td>0</td>\n",
       "      <td>0</td>\n",
       "      <td>0</td>\n",
       "      <td>0</td>\n",
       "      <td>4040</td>\n",
       "      <td>0.002023</td>\n",
       "      <td>795</td>\n",
       "      <td>3245</td>\n",
       "    </tr>\n",
       "    <tr>\n",
       "      <th>1</th>\n",
       "      <td>https://apps.apple.com/us/app/reversi/id284926400</td>\n",
       "      <td>284926400</td>\n",
       "      <td>Reversi</td>\n",
       "      <td>https://is4-ssl.mzstatic.com/image/thumb/Purpl...</td>\n",
       "      <td>3.5</td>\n",
       "      <td>5.648974</td>\n",
       "      <td>1.99</td>\n",
       "      <td>0.0</td>\n",
       "      <td>The classic game of Reversi, also known as Oth...</td>\n",
       "      <td>Kiss The Machine</td>\n",
       "      <td>...</td>\n",
       "      <td>1</td>\n",
       "      <td>0</td>\n",
       "      <td>0</td>\n",
       "      <td>0</td>\n",
       "      <td>0</td>\n",
       "      <td>0</td>\n",
       "      <td>4040</td>\n",
       "      <td>0.001398</td>\n",
       "      <td>443</td>\n",
       "      <td>3597</td>\n",
       "    </tr>\n",
       "    <tr>\n",
       "      <th>2</th>\n",
       "      <td>https://apps.apple.com/us/app/morocco/id284946595</td>\n",
       "      <td>284946595</td>\n",
       "      <td>Morocco</td>\n",
       "      <td>https://is5-ssl.mzstatic.com/image/thumb/Purpl...</td>\n",
       "      <td>3.0</td>\n",
       "      <td>9.033126</td>\n",
       "      <td>0.00</td>\n",
       "      <td>0.0</td>\n",
       "      <td>Play the classic strategy game Othello (also k...</td>\n",
       "      <td>Bayou Games</td>\n",
       "      <td>...</td>\n",
       "      <td>1</td>\n",
       "      <td>0</td>\n",
       "      <td>0</td>\n",
       "      <td>0</td>\n",
       "      <td>0</td>\n",
       "      <td>0</td>\n",
       "      <td>4040</td>\n",
       "      <td>0.002235</td>\n",
       "      <td>697</td>\n",
       "      <td>3343</td>\n",
       "    </tr>\n",
       "    <tr>\n",
       "      <th>3</th>\n",
       "      <td>https://apps.apple.com/us/app/senet-deluxe/id2...</td>\n",
       "      <td>285831220</td>\n",
       "      <td>Senet Deluxe</td>\n",
       "      <td>https://is1-ssl.mzstatic.com/image/thumb/Purpl...</td>\n",
       "      <td>3.5</td>\n",
       "      <td>3.332205</td>\n",
       "      <td>2.99</td>\n",
       "      <td>0.0</td>\n",
       "      <td>\"Senet Deluxe - The Ancient Game of Life and A...</td>\n",
       "      <td>RoGame Software</td>\n",
       "      <td>...</td>\n",
       "      <td>1</td>\n",
       "      <td>0</td>\n",
       "      <td>0</td>\n",
       "      <td>0</td>\n",
       "      <td>0</td>\n",
       "      <td>0</td>\n",
       "      <td>4033</td>\n",
       "      <td>0.000826</td>\n",
       "      <td>377</td>\n",
       "      <td>3656</td>\n",
       "    </tr>\n",
       "    <tr>\n",
       "      <th>4</th>\n",
       "      <td>https://apps.apple.com/us/app/sudoku-classic-n...</td>\n",
       "      <td>286210009</td>\n",
       "      <td>Sudoku - Classic number puzzle</td>\n",
       "      <td>https://is1-ssl.mzstatic.com/image/thumb/Purpl...</td>\n",
       "      <td>3.0</td>\n",
       "      <td>3.850148</td>\n",
       "      <td>0.00</td>\n",
       "      <td>1.99</td>\n",
       "      <td>Sudoku will tease your brain, challenge you or...</td>\n",
       "      <td>OutOfTheBit Ltd</td>\n",
       "      <td>...</td>\n",
       "      <td>1</td>\n",
       "      <td>0</td>\n",
       "      <td>0</td>\n",
       "      <td>0</td>\n",
       "      <td>0</td>\n",
       "      <td>0</td>\n",
       "      <td>4021</td>\n",
       "      <td>0.000957</td>\n",
       "      <td>96</td>\n",
       "      <td>3925</td>\n",
       "    </tr>\n",
       "  </tbody>\n",
       "</table>\n",
       "<p>5 rows × 145 columns</p>\n",
       "</div>"
      ],
      "text/plain": [
       "                                                 URL         ID  \\\n",
       "0   https://apps.apple.com/us/app/sudoku/id284921427  284921427   \n",
       "1  https://apps.apple.com/us/app/reversi/id284926400  284926400   \n",
       "2  https://apps.apple.com/us/app/morocco/id284946595  284946595   \n",
       "3  https://apps.apple.com/us/app/senet-deluxe/id2...  285831220   \n",
       "4  https://apps.apple.com/us/app/sudoku-classic-n...  286210009   \n",
       "\n",
       "                             Name  \\\n",
       "0                          Sudoku   \n",
       "1                         Reversi   \n",
       "2                         Morocco   \n",
       "3                    Senet Deluxe   \n",
       "4  Sudoku - Classic number puzzle   \n",
       "\n",
       "                                            Icon URL  Average User Rating  \\\n",
       "0  https://is2-ssl.mzstatic.com/image/thumb/Purpl...                  4.0   \n",
       "1  https://is4-ssl.mzstatic.com/image/thumb/Purpl...                  3.5   \n",
       "2  https://is5-ssl.mzstatic.com/image/thumb/Purpl...                  3.0   \n",
       "3  https://is1-ssl.mzstatic.com/image/thumb/Purpl...                  3.5   \n",
       "4  https://is1-ssl.mzstatic.com/image/thumb/Purpl...                  3.0   \n",
       "\n",
       "   User Rating Count  Price In-app Purchases  \\\n",
       "0           8.175548   2.99              0.0   \n",
       "1           5.648974   1.99              0.0   \n",
       "2           9.033126   0.00              0.0   \n",
       "3           3.332205   2.99              0.0   \n",
       "4           3.850148   0.00             1.99   \n",
       "\n",
       "                                         Description  \\\n",
       "0  Join over 21,000,000 of our fans and download ...   \n",
       "1  The classic game of Reversi, also known as Oth...   \n",
       "2  Play the classic strategy game Othello (also k...   \n",
       "3  \"Senet Deluxe - The Ancient Game of Life and A...   \n",
       "4  Sudoku will tease your brain, challenge you or...   \n",
       "\n",
       "                  Developer  ... Strategy Travel  Trivia Utilities Weather  \\\n",
       "0  Mighty Mighty Good Games  ...        1      0       0         0       0   \n",
       "1          Kiss The Machine  ...        1      0       0         0       0   \n",
       "2               Bayou Games  ...        1      0       0         0       0   \n",
       "3           RoGame Software  ...        1      0       0         0       0   \n",
       "4           OutOfTheBit Ltd  ...        1      0       0         0       0   \n",
       "\n",
       "  Word days_from_release  average_rating_count  last_update_day  \\\n",
       "0    0              4040              0.002023              795   \n",
       "1    0              4040              0.001398              443   \n",
       "2    0              4040              0.002235              697   \n",
       "3    0              4033              0.000826              377   \n",
       "4    0              4021              0.000957               96   \n",
       "\n",
       "   days_from_release_to_update  \n",
       "0                         3245  \n",
       "1                         3597  \n",
       "2                         3343  \n",
       "3                         3656  \n",
       "4                         3925  \n",
       "\n",
       "[5 rows x 145 columns]"
      ]
     },
     "execution_count": 90,
     "metadata": {},
     "output_type": "execute_result"
    }
   ],
   "source": [
    "data.head()"
   ]
  },
  {
   "cell_type": "code",
   "execution_count": 93,
   "metadata": {},
   "outputs": [],
   "source": [
    "to_drop = ['URL', 'ID', 'Name', 'Icon URL', \n",
    "           'Description', 'Price', \n",
    "           'In-app Purchases', 'Developer',\n",
    "           'Age Rating', 'Languages', 'Primary Genre',\n",
    "            'Genres', 'Current Version Release Date',\n",
    "              'Original Release Date']"
   ]
  },
  {
   "cell_type": "code",
   "execution_count": 94,
   "metadata": {},
   "outputs": [],
   "source": [
    "data_prepared = data.drop(to_drop, axis=1)"
   ]
  },
  {
   "cell_type": "code",
   "execution_count": 95,
   "metadata": {},
   "outputs": [
    {
     "data": {
      "text/html": [
       "<div>\n",
       "<style scoped>\n",
       "    .dataframe tbody tr th:only-of-type {\n",
       "        vertical-align: middle;\n",
       "    }\n",
       "\n",
       "    .dataframe tbody tr th {\n",
       "        vertical-align: top;\n",
       "    }\n",
       "\n",
       "    .dataframe thead th {\n",
       "        text-align: right;\n",
       "    }\n",
       "</style>\n",
       "<table border=\"1\" class=\"dataframe\">\n",
       "  <thead>\n",
       "    <tr style=\"text-align: right;\">\n",
       "      <th></th>\n",
       "      <th>Average User Rating</th>\n",
       "      <th>User Rating Count</th>\n",
       "      <th>Size</th>\n",
       "      <th>free2play</th>\n",
       "      <th>0.0</th>\n",
       "      <th>0.99</th>\n",
       "      <th>1.49</th>\n",
       "      <th>1.99</th>\n",
       "      <th>10.99</th>\n",
       "      <th>109.99</th>\n",
       "      <th>...</th>\n",
       "      <th>Strategy</th>\n",
       "      <th>Travel</th>\n",
       "      <th>Trivia</th>\n",
       "      <th>Utilities</th>\n",
       "      <th>Weather</th>\n",
       "      <th>Word</th>\n",
       "      <th>days_from_release</th>\n",
       "      <th>average_rating_count</th>\n",
       "      <th>last_update_day</th>\n",
       "      <th>days_from_release_to_update</th>\n",
       "    </tr>\n",
       "  </thead>\n",
       "  <tbody>\n",
       "    <tr>\n",
       "      <th>0</th>\n",
       "      <td>4.0</td>\n",
       "      <td>8.175548</td>\n",
       "      <td>16.578905</td>\n",
       "      <td>False</td>\n",
       "      <td>1</td>\n",
       "      <td>0</td>\n",
       "      <td>0</td>\n",
       "      <td>0</td>\n",
       "      <td>0</td>\n",
       "      <td>0</td>\n",
       "      <td>...</td>\n",
       "      <td>1</td>\n",
       "      <td>0</td>\n",
       "      <td>0</td>\n",
       "      <td>0</td>\n",
       "      <td>0</td>\n",
       "      <td>0</td>\n",
       "      <td>4040</td>\n",
       "      <td>0.002023</td>\n",
       "      <td>795</td>\n",
       "      <td>3245</td>\n",
       "    </tr>\n",
       "    <tr>\n",
       "      <th>1</th>\n",
       "      <td>3.5</td>\n",
       "      <td>5.648974</td>\n",
       "      <td>16.327462</td>\n",
       "      <td>False</td>\n",
       "      <td>1</td>\n",
       "      <td>0</td>\n",
       "      <td>0</td>\n",
       "      <td>0</td>\n",
       "      <td>0</td>\n",
       "      <td>0</td>\n",
       "      <td>...</td>\n",
       "      <td>1</td>\n",
       "      <td>0</td>\n",
       "      <td>0</td>\n",
       "      <td>0</td>\n",
       "      <td>0</td>\n",
       "      <td>0</td>\n",
       "      <td>4040</td>\n",
       "      <td>0.001398</td>\n",
       "      <td>443</td>\n",
       "      <td>3597</td>\n",
       "    </tr>\n",
       "    <tr>\n",
       "      <th>2</th>\n",
       "      <td>3.0</td>\n",
       "      <td>9.033126</td>\n",
       "      <td>13.422195</td>\n",
       "      <td>True</td>\n",
       "      <td>1</td>\n",
       "      <td>0</td>\n",
       "      <td>0</td>\n",
       "      <td>0</td>\n",
       "      <td>0</td>\n",
       "      <td>0</td>\n",
       "      <td>...</td>\n",
       "      <td>1</td>\n",
       "      <td>0</td>\n",
       "      <td>0</td>\n",
       "      <td>0</td>\n",
       "      <td>0</td>\n",
       "      <td>0</td>\n",
       "      <td>4040</td>\n",
       "      <td>0.002235</td>\n",
       "      <td>697</td>\n",
       "      <td>3343</td>\n",
       "    </tr>\n",
       "    <tr>\n",
       "      <th>3</th>\n",
       "      <td>3.5</td>\n",
       "      <td>3.332205</td>\n",
       "      <td>17.361934</td>\n",
       "      <td>False</td>\n",
       "      <td>1</td>\n",
       "      <td>0</td>\n",
       "      <td>0</td>\n",
       "      <td>0</td>\n",
       "      <td>0</td>\n",
       "      <td>0</td>\n",
       "      <td>...</td>\n",
       "      <td>1</td>\n",
       "      <td>0</td>\n",
       "      <td>0</td>\n",
       "      <td>0</td>\n",
       "      <td>0</td>\n",
       "      <td>0</td>\n",
       "      <td>4033</td>\n",
       "      <td>0.000826</td>\n",
       "      <td>377</td>\n",
       "      <td>3656</td>\n",
       "    </tr>\n",
       "    <tr>\n",
       "      <th>4</th>\n",
       "      <td>3.0</td>\n",
       "      <td>3.850148</td>\n",
       "      <td>17.700630</td>\n",
       "      <td>True</td>\n",
       "      <td>0</td>\n",
       "      <td>0</td>\n",
       "      <td>0</td>\n",
       "      <td>1</td>\n",
       "      <td>0</td>\n",
       "      <td>0</td>\n",
       "      <td>...</td>\n",
       "      <td>1</td>\n",
       "      <td>0</td>\n",
       "      <td>0</td>\n",
       "      <td>0</td>\n",
       "      <td>0</td>\n",
       "      <td>0</td>\n",
       "      <td>4021</td>\n",
       "      <td>0.000957</td>\n",
       "      <td>96</td>\n",
       "      <td>3925</td>\n",
       "    </tr>\n",
       "  </tbody>\n",
       "</table>\n",
       "<p>5 rows × 131 columns</p>\n",
       "</div>"
      ],
      "text/plain": [
       "   Average User Rating  User Rating Count       Size  free2play  0.0  0.99  \\\n",
       "0                  4.0           8.175548  16.578905      False    1     0   \n",
       "1                  3.5           5.648974  16.327462      False    1     0   \n",
       "2                  3.0           9.033126  13.422195       True    1     0   \n",
       "3                  3.5           3.332205  17.361934      False    1     0   \n",
       "4                  3.0           3.850148  17.700630       True    0     0   \n",
       "\n",
       "   1.49  1.99  10.99  109.99  ...  Strategy  Travel  Trivia  Utilities  \\\n",
       "0     0     0      0       0  ...         1       0       0          0   \n",
       "1     0     0      0       0  ...         1       0       0          0   \n",
       "2     0     0      0       0  ...         1       0       0          0   \n",
       "3     0     0      0       0  ...         1       0       0          0   \n",
       "4     0     1      0       0  ...         1       0       0          0   \n",
       "\n",
       "   Weather  Word  days_from_release  average_rating_count  last_update_day  \\\n",
       "0        0     0               4040              0.002023              795   \n",
       "1        0     0               4040              0.001398              443   \n",
       "2        0     0               4040              0.002235              697   \n",
       "3        0     0               4033              0.000826              377   \n",
       "4        0     0               4021              0.000957               96   \n",
       "\n",
       "   days_from_release_to_update  \n",
       "0                         3245  \n",
       "1                         3597  \n",
       "2                         3343  \n",
       "3                         3656  \n",
       "4                         3925  \n",
       "\n",
       "[5 rows x 131 columns]"
      ]
     },
     "execution_count": 95,
     "metadata": {},
     "output_type": "execute_result"
    }
   ],
   "source": [
    "data_prepared.head()"
   ]
  },
  {
   "cell_type": "code",
   "execution_count": 96,
   "metadata": {},
   "outputs": [
    {
     "data": {
      "text/plain": [
       "(7536, 131)"
      ]
     },
     "execution_count": 96,
     "metadata": {},
     "output_type": "execute_result"
    }
   ],
   "source": [
    "data_prepared.shape"
   ]
  },
  {
   "cell_type": "code",
   "execution_count": 99,
   "metadata": {},
   "outputs": [
    {
     "data": {
      "text/plain": [
       "0"
      ]
     },
     "execution_count": 99,
     "metadata": {},
     "output_type": "execute_result"
    }
   ],
   "source": [
    "data_prepared.isnull().sum().sum()"
   ]
  },
  {
   "cell_type": "code",
   "execution_count": 101,
   "metadata": {},
   "outputs": [
    {
     "data": {
      "text/plain": [
       "['Average User Rating',\n",
       " 'User Rating Count',\n",
       " 'Size',\n",
       " 'free2play',\n",
       " '0.0',\n",
       " '0.99',\n",
       " '1.49',\n",
       " '1.99',\n",
       " '10.99',\n",
       " '109.99',\n",
       " '11.99',\n",
       " '119.99',\n",
       " '12.99',\n",
       " '129.99',\n",
       " '13.99',\n",
       " '139.99',\n",
       " '14.99',\n",
       " '15.99',\n",
       " '16.99',\n",
       " '169.99',\n",
       " '17.99',\n",
       " '18.99',\n",
       " '19.49',\n",
       " '19.99',\n",
       " '199.99',\n",
       " '2.49',\n",
       " '2.99',\n",
       " '20.99',\n",
       " '21.99',\n",
       " '22.99',\n",
       " '23.49',\n",
       " '23.99',\n",
       " '24.99',\n",
       " '25.99',\n",
       " '26.99',\n",
       " '27.99',\n",
       " '28.99',\n",
       " '29.99',\n",
       " '3.49',\n",
       " '3.99',\n",
       " '30.99',\n",
       " '31.99',\n",
       " '32.99',\n",
       " '33.99',\n",
       " '34.99',\n",
       " '35.99',\n",
       " '36.99',\n",
       " '37.99',\n",
       " '38.99',\n",
       " '39.99',\n",
       " '4.49',\n",
       " '4.99',\n",
       " '40.99',\n",
       " '41.99',\n",
       " '43.99',\n",
       " '44.99',\n",
       " '45.99',\n",
       " '46.99',\n",
       " '47.99',\n",
       " '48.99',\n",
       " '49.99',\n",
       " '5.49',\n",
       " '5.99',\n",
       " '54.99',\n",
       " '59.99',\n",
       " '6.99',\n",
       " '64.99',\n",
       " '69.99',\n",
       " '7.49',\n",
       " '7.99',\n",
       " '74.99',\n",
       " '79.99',\n",
       " '8.49',\n",
       " '8.99',\n",
       " '84.99',\n",
       " '89.99',\n",
       " '9.49',\n",
       " '9.99',\n",
       " '94.99',\n",
       " '99.99',\n",
       " 'description_len',\n",
       " 'games_published',\n",
       " '17+',\n",
       " '4+',\n",
       " '9+',\n",
       " 'translation_number',\n",
       " 'Action',\n",
       " 'Adventure',\n",
       " 'Board',\n",
       " 'Books',\n",
       " 'Business',\n",
       " 'Card',\n",
       " 'Casino',\n",
       " 'Casual',\n",
       " 'Education',\n",
       " 'Emoji & Expressions',\n",
       " 'Entertainment',\n",
       " 'Family',\n",
       " 'Finance',\n",
       " 'Food & Drink',\n",
       " 'Games',\n",
       " 'Gaming',\n",
       " 'Health & Fitness',\n",
       " 'Kids & Family',\n",
       " 'Lifestyle',\n",
       " 'Magazines & Newspapers',\n",
       " 'Medical',\n",
       " 'Music',\n",
       " 'Navigation',\n",
       " 'News',\n",
       " 'Photo & Video',\n",
       " 'Productivity',\n",
       " 'Puzzle',\n",
       " 'Racing',\n",
       " 'Reference',\n",
       " 'Role Playing',\n",
       " 'Shopping',\n",
       " 'Simulation',\n",
       " 'Social Networking',\n",
       " 'Sports',\n",
       " 'Stickers',\n",
       " 'Strategy',\n",
       " 'Travel',\n",
       " 'Trivia',\n",
       " 'Utilities',\n",
       " 'Weather',\n",
       " 'Word',\n",
       " 'days_from_release',\n",
       " 'average_rating_count',\n",
       " 'last_update_day',\n",
       " 'days_from_release_to_update']"
      ]
     },
     "execution_count": 101,
     "metadata": {},
     "output_type": "execute_result"
    }
   ],
   "source": [
    "list(data_prepared.columns)"
   ]
  },
  {
   "cell_type": "code",
   "execution_count": 106,
   "metadata": {},
   "outputs": [],
   "source": [
    "to_scale = ['User Rating Count', 'Size', 'days_from_release', 'average_rating_count', \n",
    "            'days_from_release_to_update', 'last_update_day',\n",
    "            'translation_number', 'description_len', 'games_published']"
   ]
  },
  {
   "cell_type": "code",
   "execution_count": 107,
   "metadata": {},
   "outputs": [
    {
     "data": {
      "image/png": "[encoded data removed]",
      "text/plain": [
       "<Figure size 1080x1080 with 9 Axes>"
      ]
     },
     "metadata": {
      "needs_background": "light"
     },
     "output_type": "display_data"
    }
   ],
   "source": [
    "data_prepared[to_scale].hist(figsize=(15, 15));"
   ]
  },
  {
   "cell_type": "code",
   "execution_count": 109,
   "metadata": {},
   "outputs": [
    {
     "name": "stderr",
     "output_type": "stream",
     "text": [
      "C:\\Users\\admin\\Anaconda3\\lib\\site-packages\\statsmodels\\tools\\_testing.py:19: FutureWarning: pandas.util.testing is deprecated. Use the functions in the public API at pandas.testing instead.\n",
      "  import pandas.util.testing as tm\n"
     ]
    }
   ],
   "source": [
    "import seaborn as sns"
   ]
  },
  {
   "cell_type": "code",
   "execution_count": 110,
   "metadata": {},
   "outputs": [
    {
     "data": {
      "text/plain": [
       "<matplotlib.axes._subplots.AxesSubplot at 0x1e886215b08>"
      ]
     },
     "execution_count": 110,
     "metadata": {},
     "output_type": "execute_result"
    },
    {
     "data": {
      "image/png": "[encoded data removed]",
      "text/plain": [
       "<Figure size 432x288 with 2 Axes>"
      ]
     },
     "metadata": {
      "needs_background": "light"
     },
     "output_type": "display_data"
    }
   ],
   "source": [
    "sns.heatmap(data_prepared[to_scale].corr(), cmap='Blues')"
   ]
  },
  {
   "cell_type": "markdown",
   "metadata": {},
   "source": [
    "# ML"
   ]
  },
  {
   "cell_type": "code",
   "execution_count": 113,
   "metadata": {},
   "outputs": [],
   "source": [
    "from sklearn.preprocessing import StandardScaler\n",
    "from sklearn.model_selection import train_test_split"
   ]
  },
  {
   "cell_type": "code",
   "execution_count": 114,
   "metadata": {},
   "outputs": [],
   "source": [
    "scaler = StandardScaler()"
   ]
  },
  {
   "cell_type": "code",
   "execution_count": 115,
   "metadata": {},
   "outputs": [],
   "source": [
    "df_train, df_test = train_test_split(data_prepared, test_size=0.3)"
   ]
  },
  {
   "cell_type": "code",
   "execution_count": 117,
   "metadata": {},
   "outputs": [],
   "source": [
    "df_train_scale = scaler.fit_transform(df_train[to_scale])\n",
    "df_test_scale = scaler.transform(df_test[to_scale])"
   ]
  },
  {
   "cell_type": "code",
   "execution_count": 118,
   "metadata": {},
   "outputs": [
    {
     "name": "stderr",
     "output_type": "stream",
     "text": [
      "C:\\Users\\admin\\Anaconda3\\lib\\site-packages\\ipykernel_launcher.py:1: SettingWithCopyWarning: \n",
      "A value is trying to be set on a copy of a slice from a DataFrame.\n",
      "Try using .loc[row_indexer,col_indexer] = value instead\n",
      "\n",
      "See the caveats in the documentation: https://pandas.pydata.org/pandas-docs/stable/user_guide/indexing.html#returning-a-view-versus-a-copy\n",
      "  \"\"\"Entry point for launching an IPython kernel.\n",
      "C:\\Users\\admin\\Anaconda3\\lib\\site-packages\\pandas\\core\\indexing.py:1736: SettingWithCopyWarning: \n",
      "A value is trying to be set on a copy of a slice from a DataFrame.\n",
      "Try using .loc[row_indexer,col_indexer] = value instead\n",
      "\n",
      "See the caveats in the documentation: https://pandas.pydata.org/pandas-docs/stable/user_guide/indexing.html#returning-a-view-versus-a-copy\n",
      "  isetter(loc, value[:, i].tolist())\n",
      "C:\\Users\\admin\\Anaconda3\\lib\\site-packages\\ipykernel_launcher.py:2: SettingWithCopyWarning: \n",
      "A value is trying to be set on a copy of a slice from a DataFrame.\n",
      "Try using .loc[row_indexer,col_indexer] = value instead\n",
      "\n",
      "See the caveats in the documentation: https://pandas.pydata.org/pandas-docs/stable/user_guide/indexing.html#returning-a-view-versus-a-copy\n",
      "  \n"
     ]
    }
   ],
   "source": [
    "df_train[to_scale] = df_train_scale\n",
    "df_test[to_scale] = df_test_scale"
   ]
  },
  {
   "cell_type": "code",
   "execution_count": 119,
   "metadata": {},
   "outputs": [
    {
     "data": {
      "text/html": [
       "<div>\n",
       "<style scoped>\n",
       "    .dataframe tbody tr th:only-of-type {\n",
       "        vertical-align: middle;\n",
       "    }\n",
       "\n",
       "    .dataframe tbody tr th {\n",
       "        vertical-align: top;\n",
       "    }\n",
       "\n",
       "    .dataframe thead th {\n",
       "        text-align: right;\n",
       "    }\n",
       "</style>\n",
       "<table border=\"1\" class=\"dataframe\">\n",
       "  <thead>\n",
       "    <tr style=\"text-align: right;\">\n",
       "      <th></th>\n",
       "      <th>Average User Rating</th>\n",
       "      <th>User Rating Count</th>\n",
       "      <th>Size</th>\n",
       "      <th>free2play</th>\n",
       "      <th>0.0</th>\n",
       "      <th>0.99</th>\n",
       "      <th>1.49</th>\n",
       "      <th>1.99</th>\n",
       "      <th>10.99</th>\n",
       "      <th>109.99</th>\n",
       "      <th>...</th>\n",
       "      <th>Strategy</th>\n",
       "      <th>Travel</th>\n",
       "      <th>Trivia</th>\n",
       "      <th>Utilities</th>\n",
       "      <th>Weather</th>\n",
       "      <th>Word</th>\n",
       "      <th>days_from_release</th>\n",
       "      <th>average_rating_count</th>\n",
       "      <th>last_update_day</th>\n",
       "      <th>days_from_release_to_update</th>\n",
       "    </tr>\n",
       "  </thead>\n",
       "  <tbody>\n",
       "    <tr>\n",
       "      <th>374</th>\n",
       "      <td>3.0</td>\n",
       "      <td>-0.133145</td>\n",
       "      <td>-3.284841</td>\n",
       "      <td>True</td>\n",
       "      <td>1</td>\n",
       "      <td>0</td>\n",
       "      <td>0</td>\n",
       "      <td>0</td>\n",
       "      <td>0</td>\n",
       "      <td>0</td>\n",
       "      <td>...</td>\n",
       "      <td>1</td>\n",
       "      <td>0</td>\n",
       "      <td>0</td>\n",
       "      <td>0</td>\n",
       "      <td>0</td>\n",
       "      <td>0</td>\n",
       "      <td>1.770235</td>\n",
       "      <td>-0.129004</td>\n",
       "      <td>3.030573</td>\n",
       "      <td>-0.839294</td>\n",
       "    </tr>\n",
       "    <tr>\n",
       "      <th>407</th>\n",
       "      <td>4.5</td>\n",
       "      <td>2.255688</td>\n",
       "      <td>-0.422621</td>\n",
       "      <td>False</td>\n",
       "      <td>0</td>\n",
       "      <td>1</td>\n",
       "      <td>0</td>\n",
       "      <td>0</td>\n",
       "      <td>0</td>\n",
       "      <td>0</td>\n",
       "      <td>...</td>\n",
       "      <td>1</td>\n",
       "      <td>0</td>\n",
       "      <td>0</td>\n",
       "      <td>0</td>\n",
       "      <td>0</td>\n",
       "      <td>0</td>\n",
       "      <td>1.782988</td>\n",
       "      <td>-0.106153</td>\n",
       "      <td>2.105699</td>\n",
       "      <td>0.052532</td>\n",
       "    </tr>\n",
       "    <tr>\n",
       "      <th>2544</th>\n",
       "      <td>4.5</td>\n",
       "      <td>3.166817</td>\n",
       "      <td>0.919900</td>\n",
       "      <td>True</td>\n",
       "      <td>0</td>\n",
       "      <td>0</td>\n",
       "      <td>0</td>\n",
       "      <td>0</td>\n",
       "      <td>0</td>\n",
       "      <td>0</td>\n",
       "      <td>...</td>\n",
       "      <td>1</td>\n",
       "      <td>0</td>\n",
       "      <td>0</td>\n",
       "      <td>0</td>\n",
       "      <td>0</td>\n",
       "      <td>0</td>\n",
       "      <td>0.304692</td>\n",
       "      <td>-0.060267</td>\n",
       "      <td>-0.802889</td>\n",
       "      <td>1.111728</td>\n",
       "    </tr>\n",
       "    <tr>\n",
       "      <th>6505</th>\n",
       "      <td>4.0</td>\n",
       "      <td>-0.495001</td>\n",
       "      <td>1.321328</td>\n",
       "      <td>True</td>\n",
       "      <td>0</td>\n",
       "      <td>1</td>\n",
       "      <td>0</td>\n",
       "      <td>1</td>\n",
       "      <td>0</td>\n",
       "      <td>0</td>\n",
       "      <td>...</td>\n",
       "      <td>1</td>\n",
       "      <td>0</td>\n",
       "      <td>0</td>\n",
       "      <td>0</td>\n",
       "      <td>0</td>\n",
       "      <td>0</td>\n",
       "      <td>-1.157663</td>\n",
       "      <td>-0.048622</td>\n",
       "      <td>-0.811906</td>\n",
       "      <td>-0.560751</td>\n",
       "    </tr>\n",
       "    <tr>\n",
       "      <th>1442</th>\n",
       "      <td>4.5</td>\n",
       "      <td>0.441488</td>\n",
       "      <td>-0.011175</td>\n",
       "      <td>True</td>\n",
       "      <td>1</td>\n",
       "      <td>0</td>\n",
       "      <td>0</td>\n",
       "      <td>0</td>\n",
       "      <td>0</td>\n",
       "      <td>0</td>\n",
       "      <td>...</td>\n",
       "      <td>1</td>\n",
       "      <td>0</td>\n",
       "      <td>0</td>\n",
       "      <td>1</td>\n",
       "      <td>0</td>\n",
       "      <td>0</td>\n",
       "      <td>1.006112</td>\n",
       "      <td>-0.116920</td>\n",
       "      <td>0.900013</td>\n",
       "      <td>0.302976</td>\n",
       "    </tr>\n",
       "    <tr>\n",
       "      <th>...</th>\n",
       "      <td>...</td>\n",
       "      <td>...</td>\n",
       "      <td>...</td>\n",
       "      <td>...</td>\n",
       "      <td>...</td>\n",
       "      <td>...</td>\n",
       "      <td>...</td>\n",
       "      <td>...</td>\n",
       "      <td>...</td>\n",
       "      <td>...</td>\n",
       "      <td>...</td>\n",
       "      <td>...</td>\n",
       "      <td>...</td>\n",
       "      <td>...</td>\n",
       "      <td>...</td>\n",
       "      <td>...</td>\n",
       "      <td>...</td>\n",
       "      <td>...</td>\n",
       "      <td>...</td>\n",
       "      <td>...</td>\n",
       "      <td>...</td>\n",
       "    </tr>\n",
       "    <tr>\n",
       "      <th>5768</th>\n",
       "      <td>4.5</td>\n",
       "      <td>1.413292</td>\n",
       "      <td>-0.317885</td>\n",
       "      <td>True</td>\n",
       "      <td>0</td>\n",
       "      <td>1</td>\n",
       "      <td>0</td>\n",
       "      <td>0</td>\n",
       "      <td>0</td>\n",
       "      <td>0</td>\n",
       "      <td>...</td>\n",
       "      <td>1</td>\n",
       "      <td>0</td>\n",
       "      <td>0</td>\n",
       "      <td>0</td>\n",
       "      <td>0</td>\n",
       "      <td>0</td>\n",
       "      <td>-0.868593</td>\n",
       "      <td>-0.003670</td>\n",
       "      <td>-1.065667</td>\n",
       "      <td>0.012217</td>\n",
       "    </tr>\n",
       "    <tr>\n",
       "      <th>6988</th>\n",
       "      <td>5.0</td>\n",
       "      <td>-1.053898</td>\n",
       "      <td>1.189756</td>\n",
       "      <td>False</td>\n",
       "      <td>1</td>\n",
       "      <td>0</td>\n",
       "      <td>0</td>\n",
       "      <td>0</td>\n",
       "      <td>0</td>\n",
       "      <td>0</td>\n",
       "      <td>...</td>\n",
       "      <td>1</td>\n",
       "      <td>0</td>\n",
       "      <td>0</td>\n",
       "      <td>0</td>\n",
       "      <td>0</td>\n",
       "      <td>0</td>\n",
       "      <td>-1.492431</td>\n",
       "      <td>0.053449</td>\n",
       "      <td>-0.923973</td>\n",
       "      <td>-0.839294</td>\n",
       "    </tr>\n",
       "    <tr>\n",
       "      <th>1127</th>\n",
       "      <td>4.0</td>\n",
       "      <td>-0.855453</td>\n",
       "      <td>-0.148901</td>\n",
       "      <td>True</td>\n",
       "      <td>1</td>\n",
       "      <td>0</td>\n",
       "      <td>0</td>\n",
       "      <td>0</td>\n",
       "      <td>0</td>\n",
       "      <td>0</td>\n",
       "      <td>...</td>\n",
       "      <td>1</td>\n",
       "      <td>0</td>\n",
       "      <td>0</td>\n",
       "      <td>0</td>\n",
       "      <td>0</td>\n",
       "      <td>0</td>\n",
       "      <td>1.193158</td>\n",
       "      <td>-0.133889</td>\n",
       "      <td>0.661710</td>\n",
       "      <td>0.744003</td>\n",
       "    </tr>\n",
       "    <tr>\n",
       "      <th>2851</th>\n",
       "      <td>4.5</td>\n",
       "      <td>1.202822</td>\n",
       "      <td>-1.246206</td>\n",
       "      <td>True</td>\n",
       "      <td>0</td>\n",
       "      <td>1</td>\n",
       "      <td>0</td>\n",
       "      <td>0</td>\n",
       "      <td>0</td>\n",
       "      <td>0</td>\n",
       "      <td>...</td>\n",
       "      <td>1</td>\n",
       "      <td>0</td>\n",
       "      <td>0</td>\n",
       "      <td>0</td>\n",
       "      <td>0</td>\n",
       "      <td>0</td>\n",
       "      <td>0.388650</td>\n",
       "      <td>-0.095667</td>\n",
       "      <td>0.951538</td>\n",
       "      <td>-0.455687</td>\n",
       "    </tr>\n",
       "    <tr>\n",
       "      <th>4499</th>\n",
       "      <td>2.0</td>\n",
       "      <td>-1.121578</td>\n",
       "      <td>0.012546</td>\n",
       "      <td>True</td>\n",
       "      <td>1</td>\n",
       "      <td>0</td>\n",
       "      <td>0</td>\n",
       "      <td>0</td>\n",
       "      <td>0</td>\n",
       "      <td>0</td>\n",
       "      <td>...</td>\n",
       "      <td>1</td>\n",
       "      <td>0</td>\n",
       "      <td>0</td>\n",
       "      <td>0</td>\n",
       "      <td>0</td>\n",
       "      <td>0</td>\n",
       "      <td>-0.281950</td>\n",
       "      <td>-0.127013</td>\n",
       "      <td>0.231476</td>\n",
       "      <td>-0.543648</td>\n",
       "    </tr>\n",
       "  </tbody>\n",
       "</table>\n",
       "<p>5275 rows × 131 columns</p>\n",
       "</div>"
      ],
      "text/plain": [
       "      Average User Rating  User Rating Count      Size  free2play  0.0  0.99  \\\n",
       "374                   3.0          -0.133145 -3.284841       True    1     0   \n",
       "407                   4.5           2.255688 -0.422621      False    0     1   \n",
       "2544                  4.5           3.166817  0.919900       True    0     0   \n",
       "6505                  4.0          -0.495001  1.321328       True    0     1   \n",
       "1442                  4.5           0.441488 -0.011175       True    1     0   \n",
       "...                   ...                ...       ...        ...  ...   ...   \n",
       "5768                  4.5           1.413292 -0.317885       True    0     1   \n",
       "6988                  5.0          -1.053898  1.189756      False    1     0   \n",
       "1127                  4.0          -0.855453 -0.148901       True    1     0   \n",
       "2851                  4.5           1.202822 -1.246206       True    0     1   \n",
       "4499                  2.0          -1.121578  0.012546       True    1     0   \n",
       "\n",
       "      1.49  1.99  10.99  109.99  ...  Strategy  Travel  Trivia  Utilities  \\\n",
       "374      0     0      0       0  ...         1       0       0          0   \n",
       "407      0     0      0       0  ...         1       0       0          0   \n",
       "2544     0     0      0       0  ...         1       0       0          0   \n",
       "6505     0     1      0       0  ...         1       0       0          0   \n",
       "1442     0     0      0       0  ...         1       0       0          1   \n",
       "...    ...   ...    ...     ...  ...       ...     ...     ...        ...   \n",
       "5768     0     0      0       0  ...         1       0       0          0   \n",
       "6988     0     0      0       0  ...         1       0       0          0   \n",
       "1127     0     0      0       0  ...         1       0       0          0   \n",
       "2851     0     0      0       0  ...         1       0       0          0   \n",
       "4499     0     0      0       0  ...         1       0       0          0   \n",
       "\n",
       "      Weather  Word  days_from_release  average_rating_count  last_update_day  \\\n",
       "374         0     0           1.770235             -0.129004         3.030573   \n",
       "407         0     0           1.782988             -0.106153         2.105699   \n",
       "2544        0     0           0.304692             -0.060267        -0.802889   \n",
       "6505        0     0          -1.157663             -0.048622        -0.811906   \n",
       "1442        0     0           1.006112             -0.116920         0.900013   \n",
       "...       ...   ...                ...                   ...              ...   \n",
       "5768        0     0          -0.868593             -0.003670        -1.065667   \n",
       "6988        0     0          -1.492431              0.053449        -0.923973   \n",
       "1127        0     0           1.193158             -0.133889         0.661710   \n",
       "2851        0     0           0.388650             -0.095667         0.951538   \n",
       "4499        0     0          -0.281950             -0.127013         0.231476   \n",
       "\n",
       "      days_from_release_to_update  \n",
       "374                     -0.839294  \n",
       "407                      0.052532  \n",
       "2544                     1.111728  \n",
       "6505                    -0.560751  \n",
       "1442                     0.302976  \n",
       "...                           ...  \n",
       "5768                     0.012217  \n",
       "6988                    -0.839294  \n",
       "1127                     0.744003  \n",
       "2851                    -0.455687  \n",
       "4499                    -0.543648  \n",
       "\n",
       "[5275 rows x 131 columns]"
      ]
     },
     "execution_count": 119,
     "metadata": {},
     "output_type": "execute_result"
    }
   ],
   "source": [
    "df_train"
   ]
  },
  {
   "cell_type": "code",
   "execution_count": 121,
   "metadata": {},
   "outputs": [],
   "source": [
    "y_train = df_train[target_var]\n",
    "y_test = df_test[target_var]"
   ]
  },
  {
   "cell_type": "code",
   "execution_count": 123,
   "metadata": {},
   "outputs": [],
   "source": [
    "X_train = df_train.drop(target_var, axis=1)\n",
    "X_test = df_test.drop(target_var, axis=1)"
   ]
  },
  {
   "cell_type": "markdown",
   "metadata": {},
   "source": [
    "## Baseline (constant prediction) "
   ]
  },
  {
   "cell_type": "code",
   "execution_count": 124,
   "metadata": {},
   "outputs": [
    {
     "data": {
      "text/plain": [
       "array([4.5, 4.5, 4.5, 4.5, 4.5])"
      ]
     },
     "execution_count": 124,
     "metadata": {},
     "output_type": "execute_result"
    }
   ],
   "source": [
    "y_mean = np.median(y_train)\n",
    "y_pred_naive = np.ones(len(y_test)) * y_mean\n",
    "y_pred_naive[:5]"
   ]
  },
  {
   "cell_type": "markdown",
   "metadata": {},
   "source": [
    "## Metrics "
   ]
  },
  {
   "cell_type": "code",
   "execution_count": 125,
   "metadata": {},
   "outputs": [],
   "source": [
    "from sklearn import metrics  # подгружаем метрики"
   ]
  },
  {
   "cell_type": "code",
   "execution_count": 126,
   "metadata": {},
   "outputs": [],
   "source": [
    "def mean_absolute_percentage_error(y_true, y_pred): \n",
    "    y_true, y_pred = np.array(y_true), np.array(y_pred)\n",
    "    return np.mean(np.abs((y_true - y_pred) / y_true)) * 100"
   ]
  },
  {
   "cell_type": "code",
   "execution_count": 127,
   "metadata": {},
   "outputs": [],
   "source": [
    "def print_metrics(y_test,y_pred):\n",
    "    print('MAE:', metrics.mean_absolute_error(np.exp(y_test), np.exp(y_pred)))\n",
    "    print('RMSE:', np.sqrt(metrics.mean_squared_error(np.exp(y_test), np.exp(y_pred))))\n",
    "    print('R2:',  metrics.r2_score(y_test, y_pred))\n",
    "    print('MAPE:', mean_absolute_percentage_error(y_test, y_pred))\n",
    "    pass"
   ]
  },
  {
   "cell_type": "code",
   "execution_count": 131,
   "metadata": {},
   "outputs": [
    {
     "data": {
      "text/html": [
       "<div>\n",
       "<style scoped>\n",
       "    .dataframe tbody tr th:only-of-type {\n",
       "        vertical-align: middle;\n",
       "    }\n",
       "\n",
       "    .dataframe tbody tr th {\n",
       "        vertical-align: top;\n",
       "    }\n",
       "\n",
       "    .dataframe thead th {\n",
       "        text-align: right;\n",
       "    }\n",
       "</style>\n",
       "<table border=\"1\" class=\"dataframe\">\n",
       "  <thead>\n",
       "    <tr style=\"text-align: right;\">\n",
       "      <th></th>\n",
       "    </tr>\n",
       "    <tr>\n",
       "      <th>error_type</th>\n",
       "    </tr>\n",
       "  </thead>\n",
       "  <tbody>\n",
       "    <tr>\n",
       "      <th>MAE</th>\n",
       "    </tr>\n",
       "    <tr>\n",
       "      <th>RMSE</th>\n",
       "    </tr>\n",
       "    <tr>\n",
       "      <th>R2</th>\n",
       "    </tr>\n",
       "    <tr>\n",
       "      <th>MAPE</th>\n",
       "    </tr>\n",
       "  </tbody>\n",
       "</table>\n",
       "</div>"
      ],
      "text/plain": [
       "Empty DataFrame\n",
       "Columns: []\n",
       "Index: [MAE, RMSE, R2, MAPE]"
      ]
     },
     "execution_count": 131,
     "metadata": {},
     "output_type": "execute_result"
    }
   ],
   "source": [
    "def dataframe_metrics(y_test, y_pred):\n",
    "    stats = [\n",
    "        metrics.mean_absolute_error(y_test, y_pred),\n",
    "        np.sqrt(metrics.mean_squared_error(y_test, y_pred)),\n",
    "        metrics.r2_score(y_test, y_pred),\n",
    "        mean_absolute_percentage_error(y_test, y_pred)\n",
    "    ]\n",
    "    return stats\n",
    "measured_metrics = pd.DataFrame({'error_type':[\"MAE\", \"RMSE\", \"R2\", \"MAPE\"]})\n",
    "measured_metrics.set_index(\"error_type\")"
   ]
  },
  {
   "cell_type": "code",
   "execution_count": 132,
   "metadata": {},
   "outputs": [
    {
     "data": {
      "text/html": [
       "<div>\n",
       "<style scoped>\n",
       "    .dataframe tbody tr th:only-of-type {\n",
       "        vertical-align: middle;\n",
       "    }\n",
       "\n",
       "    .dataframe tbody tr th {\n",
       "        vertical-align: top;\n",
       "    }\n",
       "\n",
       "    .dataframe thead th {\n",
       "        text-align: right;\n",
       "    }\n",
       "</style>\n",
       "<table border=\"1\" class=\"dataframe\">\n",
       "  <thead>\n",
       "    <tr style=\"text-align: right;\">\n",
       "      <th></th>\n",
       "      <th>error_type</th>\n",
       "      <th>naive</th>\n",
       "    </tr>\n",
       "  </thead>\n",
       "  <tbody>\n",
       "    <tr>\n",
       "      <th>0</th>\n",
       "      <td>MAE</td>\n",
       "      <td>0.572755</td>\n",
       "    </tr>\n",
       "    <tr>\n",
       "      <th>1</th>\n",
       "      <td>RMSE</td>\n",
       "      <td>0.870673</td>\n",
       "    </tr>\n",
       "    <tr>\n",
       "      <th>2</th>\n",
       "      <td>R2</td>\n",
       "      <td>-0.347783</td>\n",
       "    </tr>\n",
       "    <tr>\n",
       "      <th>3</th>\n",
       "      <td>MAPE</td>\n",
       "      <td>19.286346</td>\n",
       "    </tr>\n",
       "  </tbody>\n",
       "</table>\n",
       "</div>"
      ],
      "text/plain": [
       "  error_type      naive\n",
       "0        MAE   0.572755\n",
       "1       RMSE   0.870673\n",
       "2         R2  -0.347783\n",
       "3       MAPE  19.286346"
      ]
     },
     "execution_count": 132,
     "metadata": {},
     "output_type": "execute_result"
    }
   ],
   "source": [
    "measured_metrics['naive'] = dataframe_metrics(y_test, y_pred_naive)\n",
    "measured_metrics"
   ]
  },
  {
   "cell_type": "code",
   "execution_count": 147,
   "metadata": {},
   "outputs": [],
   "source": [
    "from sklearn.linear_model import LassoCV\n",
    "\n",
    "# Объявили модель\n",
    "lasso_cv = LassoCV(cv=5)\n",
    "\n",
    "# Обучили модель на тренировочной выборке \n",
    "lasso_cv.fit(X_train, y_train)\n",
    "\n",
    "# Сделали прогнозы на тестовой выборке \n",
    "y_pred_lasso = lasso_cv.predict(X_test)"
   ]
  },
  {
   "cell_type": "code",
   "execution_count": 157,
   "metadata": {},
   "outputs": [
    {
     "data": {
      "text/html": [
       "<div>\n",
       "<style scoped>\n",
       "    .dataframe tbody tr th:only-of-type {\n",
       "        vertical-align: middle;\n",
       "    }\n",
       "\n",
       "    .dataframe tbody tr th {\n",
       "        vertical-align: top;\n",
       "    }\n",
       "\n",
       "    .dataframe thead th {\n",
       "        text-align: right;\n",
       "    }\n",
       "</style>\n",
       "<table border=\"1\" class=\"dataframe\">\n",
       "  <thead>\n",
       "    <tr style=\"text-align: right;\">\n",
       "      <th></th>\n",
       "      <th>error_type</th>\n",
       "      <th>naive</th>\n",
       "      <th>simple_linreg</th>\n",
       "      <th>lasso_cv</th>\n",
       "    </tr>\n",
       "  </thead>\n",
       "  <tbody>\n",
       "    <tr>\n",
       "      <th>0</th>\n",
       "      <td>MAE</td>\n",
       "      <td>0.572755</td>\n",
       "      <td>0.515890</td>\n",
       "      <td>0.515890</td>\n",
       "    </tr>\n",
       "    <tr>\n",
       "      <th>1</th>\n",
       "      <td>RMSE</td>\n",
       "      <td>0.870673</td>\n",
       "      <td>0.684099</td>\n",
       "      <td>0.684099</td>\n",
       "    </tr>\n",
       "    <tr>\n",
       "      <th>2</th>\n",
       "      <td>R2</td>\n",
       "      <td>-0.347783</td>\n",
       "      <td>0.167952</td>\n",
       "      <td>0.167952</td>\n",
       "    </tr>\n",
       "    <tr>\n",
       "      <th>3</th>\n",
       "      <td>MAPE</td>\n",
       "      <td>19.286346</td>\n",
       "      <td>15.568826</td>\n",
       "      <td>15.568826</td>\n",
       "    </tr>\n",
       "  </tbody>\n",
       "</table>\n",
       "</div>"
      ],
      "text/plain": [
       "  error_type      naive  simple_linreg   lasso_cv\n",
       "0        MAE   0.572755       0.515890   0.515890\n",
       "1       RMSE   0.870673       0.684099   0.684099\n",
       "2         R2  -0.347783       0.167952   0.167952\n",
       "3       MAPE  19.286346      15.568826  15.568826"
      ]
     },
     "execution_count": 157,
     "metadata": {},
     "output_type": "execute_result"
    }
   ],
   "source": [
    "measured_metrics['lasso_cv'] = dataframe_metrics(y_test, y_pred_lasso)\n",
    "measured_metrics"
   ]
  },
  {
   "cell_type": "code",
   "execution_count": 150,
   "metadata": {},
   "outputs": [
    {
     "data": {
      "text/plain": [
       "Index(['User Rating Count', 'Size', 'free2play', '0.0', '0.99', '1.99',\n",
       "       '14.99', '99.99', 'description_len', 'games_published', '17+', '4+',\n",
       "       '9+', 'translation_number', 'Board', 'Casual', 'Entertainment',\n",
       "       'Puzzle', 'Role Playing', 'Simulation', 'Sports', 'days_from_release',\n",
       "       'average_rating_count', 'last_update_day'],\n",
       "      dtype='object')"
      ]
     },
     "execution_count": 150,
     "metadata": {},
     "output_type": "execute_result"
    }
   ],
   "source": [
    "X_train.columns[lasso_cv.coef_!=0]"
   ]
  },
  {
   "cell_type": "code",
   "execution_count": 155,
   "metadata": {},
   "outputs": [
    {
     "data": {
      "image/png": "[encoded data removed]",
      "text/plain": [
       "<Figure size 720x432 with 1 Axes>"
      ]
     },
     "metadata": {
      "needs_background": "light"
     },
     "output_type": "display_data"
    }
   ],
   "source": [
    "featureImportance = pd.DataFrame({\"feature\": X_train.columns[lasso_cv.coef_!=0], \n",
    "                                  \"importance\": lasso_cv.coef_[lasso_cv.coef_!=0]})\n",
    "\n",
    "featureImportance.set_index('feature', inplace=True)\n",
    "featureImportance.sort_values([\"importance\"], ascending=False, inplace=True)\n",
    "featureImportance[\"importance\"].plot(kind='bar', figsize=(10, 6));"
   ]
  },
  {
   "cell_type": "code",
   "execution_count": 156,
   "metadata": {},
   "outputs": [],
   "source": [
    "from sklearn.linear_model import ElasticNetCV\n",
    "\n",
    "elastic_cv = ElasticNetCV(cv=5)\n",
    "elastic_cv.fit(X_train, y_train)\n",
    "\n",
    "y_pred_elastic = elastic_cv.predict(X_test)\n"
   ]
  },
  {
   "cell_type": "code",
   "execution_count": 165,
   "metadata": {},
   "outputs": [
    {
     "data": {
      "text/html": [
       "<div>\n",
       "<style scoped>\n",
       "    .dataframe tbody tr th:only-of-type {\n",
       "        vertical-align: middle;\n",
       "    }\n",
       "\n",
       "    .dataframe tbody tr th {\n",
       "        vertical-align: top;\n",
       "    }\n",
       "\n",
       "    .dataframe thead th {\n",
       "        text-align: right;\n",
       "    }\n",
       "</style>\n",
       "<table border=\"1\" class=\"dataframe\">\n",
       "  <thead>\n",
       "    <tr style=\"text-align: right;\">\n",
       "      <th></th>\n",
       "      <th>error_type</th>\n",
       "      <th>naive</th>\n",
       "      <th>simple_linreg</th>\n",
       "      <th>lasso_cv</th>\n",
       "      <th>elastic_cv</th>\n",
       "    </tr>\n",
       "  </thead>\n",
       "  <tbody>\n",
       "    <tr>\n",
       "      <th>0</th>\n",
       "      <td>MAE</td>\n",
       "      <td>0.572755</td>\n",
       "      <td>0.515890</td>\n",
       "      <td>0.515890</td>\n",
       "      <td>0.515753</td>\n",
       "    </tr>\n",
       "    <tr>\n",
       "      <th>1</th>\n",
       "      <td>RMSE</td>\n",
       "      <td>0.870673</td>\n",
       "      <td>0.684099</td>\n",
       "      <td>0.684099</td>\n",
       "      <td>0.684057</td>\n",
       "    </tr>\n",
       "    <tr>\n",
       "      <th>2</th>\n",
       "      <td>R2</td>\n",
       "      <td>-0.347783</td>\n",
       "      <td>0.167952</td>\n",
       "      <td>0.167952</td>\n",
       "      <td>0.168056</td>\n",
       "    </tr>\n",
       "    <tr>\n",
       "      <th>3</th>\n",
       "      <td>MAPE</td>\n",
       "      <td>19.286346</td>\n",
       "      <td>15.568826</td>\n",
       "      <td>15.568826</td>\n",
       "      <td>15.564445</td>\n",
       "    </tr>\n",
       "  </tbody>\n",
       "</table>\n",
       "</div>"
      ],
      "text/plain": [
       "  error_type      naive  simple_linreg   lasso_cv  elastic_cv\n",
       "0        MAE   0.572755       0.515890   0.515890    0.515753\n",
       "1       RMSE   0.870673       0.684099   0.684099    0.684057\n",
       "2         R2  -0.347783       0.167952   0.167952    0.168056\n",
       "3       MAPE  19.286346      15.568826  15.568826   15.564445"
      ]
     },
     "execution_count": 165,
     "metadata": {},
     "output_type": "execute_result"
    }
   ],
   "source": [
    "measured_metrics['elastic_cv'] = dataframe_metrics(y_test, y_pred_elastic)\n",
    "measured_metrics"
   ]
  },
  {
   "cell_type": "code",
   "execution_count": 168,
   "metadata": {},
   "outputs": [
    {
     "data": {
      "image/png": "[encoded data removed]",
      "text/plain": [
       "<Figure size 720x432 with 1 Axes>"
      ]
     },
     "metadata": {
      "needs_background": "light"
     },
     "output_type": "display_data"
    }
   ],
   "source": [
    "featureImportance = pd.DataFrame({\"feature\": X_train.columns[elastic_cv.coef_!=0], \n",
    "                                  \"importance\": elastic_cv.coef_[elastic_cv.coef_!=0]})\n",
    "\n",
    "featureImportance.set_index('feature', inplace=True)\n",
    "featureImportance.sort_values([\"importance\"], ascending=False, inplace=True)\n",
    "featureImportance[\"importance\"].plot(kind='bar', figsize=(10, 6));"
   ]
  },
  {
   "cell_type": "code",
   "execution_count": 169,
   "metadata": {},
   "outputs": [],
   "source": [
    "from sklearn.neighbors import KNeighborsRegressor"
   ]
  },
  {
   "cell_type": "code",
   "execution_count": 170,
   "metadata": {},
   "outputs": [],
   "source": [
    "knn = KNeighborsRegressor()"
   ]
  },
  {
   "cell_type": "code",
   "execution_count": 171,
   "metadata": {},
   "outputs": [],
   "source": [
    "knn.fit(X_train, y_train)\n",
    "\n",
    "y_pred_knn = knn.predict(X_test)"
   ]
  },
  {
   "cell_type": "code",
   "execution_count": 172,
   "metadata": {},
   "outputs": [
    {
     "data": {
      "text/html": [
       "<div>\n",
       "<style scoped>\n",
       "    .dataframe tbody tr th:only-of-type {\n",
       "        vertical-align: middle;\n",
       "    }\n",
       "\n",
       "    .dataframe tbody tr th {\n",
       "        vertical-align: top;\n",
       "    }\n",
       "\n",
       "    .dataframe thead th {\n",
       "        text-align: right;\n",
       "    }\n",
       "</style>\n",
       "<table border=\"1\" class=\"dataframe\">\n",
       "  <thead>\n",
       "    <tr style=\"text-align: right;\">\n",
       "      <th></th>\n",
       "      <th>error_type</th>\n",
       "      <th>naive</th>\n",
       "      <th>simple_linreg</th>\n",
       "      <th>lasso_cv</th>\n",
       "      <th>elastic_cv</th>\n",
       "      <th>knn</th>\n",
       "    </tr>\n",
       "  </thead>\n",
       "  <tbody>\n",
       "    <tr>\n",
       "      <th>0</th>\n",
       "      <td>MAE</td>\n",
       "      <td>0.572755</td>\n",
       "      <td>0.515890</td>\n",
       "      <td>0.515890</td>\n",
       "      <td>0.515753</td>\n",
       "      <td>0.499823</td>\n",
       "    </tr>\n",
       "    <tr>\n",
       "      <th>1</th>\n",
       "      <td>RMSE</td>\n",
       "      <td>0.870673</td>\n",
       "      <td>0.684099</td>\n",
       "      <td>0.684099</td>\n",
       "      <td>0.684057</td>\n",
       "      <td>0.680807</td>\n",
       "    </tr>\n",
       "    <tr>\n",
       "      <th>2</th>\n",
       "      <td>R2</td>\n",
       "      <td>-0.347783</td>\n",
       "      <td>0.167952</td>\n",
       "      <td>0.167952</td>\n",
       "      <td>0.168056</td>\n",
       "      <td>0.175941</td>\n",
       "    </tr>\n",
       "    <tr>\n",
       "      <th>3</th>\n",
       "      <td>MAPE</td>\n",
       "      <td>19.286346</td>\n",
       "      <td>15.568826</td>\n",
       "      <td>15.568826</td>\n",
       "      <td>15.564445</td>\n",
       "      <td>15.045011</td>\n",
       "    </tr>\n",
       "  </tbody>\n",
       "</table>\n",
       "</div>"
      ],
      "text/plain": [
       "  error_type      naive  simple_linreg   lasso_cv  elastic_cv        knn\n",
       "0        MAE   0.572755       0.515890   0.515890    0.515753   0.499823\n",
       "1       RMSE   0.870673       0.684099   0.684099    0.684057   0.680807\n",
       "2         R2  -0.347783       0.167952   0.167952    0.168056   0.175941\n",
       "3       MAPE  19.286346      15.568826  15.568826   15.564445  15.045011"
      ]
     },
     "execution_count": 172,
     "metadata": {},
     "output_type": "execute_result"
    }
   ],
   "source": [
    "measured_metrics['knn'] = dataframe_metrics(y_test, y_pred_knn)\n",
    "measured_metrics"
   ]
  },
  {
   "cell_type": "code",
   "execution_count": 175,
   "metadata": {},
   "outputs": [],
   "source": [
    "from sklearn.model_selection import RandomizedSearchCV"
   ]
  },
  {
   "cell_type": "code",
   "execution_count": 178,
   "metadata": {},
   "outputs": [],
   "source": [
    "param = {\"n_neighbors\": range(0, 50)}\n",
    "\n",
    "rand_search = RandomizedSearchCV(knn, param, n_iter=20, n_jobs=-1, cv=5, verbose=True)"
   ]
  },
  {
   "cell_type": "code",
   "execution_count": 179,
   "metadata": {},
   "outputs": [
    {
     "name": "stdout",
     "output_type": "stream",
     "text": [
      "Fitting 5 folds for each of 20 candidates, totalling 100 fits\n"
     ]
    },
    {
     "name": "stderr",
     "output_type": "stream",
     "text": [
      "[Parallel(n_jobs=-1)]: Using backend LokyBackend with 8 concurrent workers.\n",
      "[Parallel(n_jobs=-1)]: Done  34 tasks      | elapsed:   28.3s\n",
      "[Parallel(n_jobs=-1)]: Done 100 out of 100 | elapsed:  1.1min finished\n"
     ]
    },
    {
     "data": {
      "text/plain": [
       "RandomizedSearchCV(cv=5, error_score=nan,\n",
       "                   estimator=KNeighborsRegressor(algorithm='auto', leaf_size=30,\n",
       "                                                 metric='minkowski',\n",
       "                                                 metric_params=None,\n",
       "                                                 n_jobs=None, n_neighbors=5,\n",
       "                                                 p=2, weights='uniform'),\n",
       "                   iid='deprecated', n_iter=20, n_jobs=-1,\n",
       "                   param_distributions={'n_neighbors': range(0, 50)},\n",
       "                   pre_dispatch='2*n_jobs', random_state=None, refit=True,\n",
       "                   return_train_score=False, scoring=None, verbose=True)"
      ]
     },
     "execution_count": 179,
     "metadata": {},
     "output_type": "execute_result"
    }
   ],
   "source": [
    "rand_search.fit(X_train, y_train)"
   ]
  },
  {
   "cell_type": "code",
   "execution_count": 180,
   "metadata": {},
   "outputs": [
    {
     "data": {
      "text/plain": [
       "{'n_neighbors': 21}"
      ]
     },
     "execution_count": 180,
     "metadata": {},
     "output_type": "execute_result"
    }
   ],
   "source": [
    "rand_search.best_params_"
   ]
  },
  {
   "cell_type": "code",
   "execution_count": 181,
   "metadata": {},
   "outputs": [],
   "source": [
    "y_pred_rand_knn_optimal = rand_search.predict(X_test)"
   ]
  },
  {
   "cell_type": "code",
   "execution_count": 182,
   "metadata": {},
   "outputs": [
    {
     "data": {
      "text/html": [
       "<div>\n",
       "<style scoped>\n",
       "    .dataframe tbody tr th:only-of-type {\n",
       "        vertical-align: middle;\n",
       "    }\n",
       "\n",
       "    .dataframe tbody tr th {\n",
       "        vertical-align: top;\n",
       "    }\n",
       "\n",
       "    .dataframe thead th {\n",
       "        text-align: right;\n",
       "    }\n",
       "</style>\n",
       "<table border=\"1\" class=\"dataframe\">\n",
       "  <thead>\n",
       "    <tr style=\"text-align: right;\">\n",
       "      <th></th>\n",
       "      <th>error_type</th>\n",
       "      <th>naive</th>\n",
       "      <th>simple_linreg</th>\n",
       "      <th>lasso_cv</th>\n",
       "      <th>elastic_cv</th>\n",
       "      <th>knn</th>\n",
       "      <th>knn_optimal</th>\n",
       "    </tr>\n",
       "  </thead>\n",
       "  <tbody>\n",
       "    <tr>\n",
       "      <th>0</th>\n",
       "      <td>MAE</td>\n",
       "      <td>0.572755</td>\n",
       "      <td>0.515890</td>\n",
       "      <td>0.515890</td>\n",
       "      <td>0.515753</td>\n",
       "      <td>0.499823</td>\n",
       "      <td>0.489712</td>\n",
       "    </tr>\n",
       "    <tr>\n",
       "      <th>1</th>\n",
       "      <td>RMSE</td>\n",
       "      <td>0.870673</td>\n",
       "      <td>0.684099</td>\n",
       "      <td>0.684099</td>\n",
       "      <td>0.684057</td>\n",
       "      <td>0.680807</td>\n",
       "      <td>0.663590</td>\n",
       "    </tr>\n",
       "    <tr>\n",
       "      <th>2</th>\n",
       "      <td>R2</td>\n",
       "      <td>-0.347783</td>\n",
       "      <td>0.167952</td>\n",
       "      <td>0.167952</td>\n",
       "      <td>0.168056</td>\n",
       "      <td>0.175941</td>\n",
       "      <td>0.217095</td>\n",
       "    </tr>\n",
       "    <tr>\n",
       "      <th>3</th>\n",
       "      <td>MAPE</td>\n",
       "      <td>19.286346</td>\n",
       "      <td>15.568826</td>\n",
       "      <td>15.568826</td>\n",
       "      <td>15.564445</td>\n",
       "      <td>15.045011</td>\n",
       "      <td>14.902219</td>\n",
       "    </tr>\n",
       "  </tbody>\n",
       "</table>\n",
       "</div>"
      ],
      "text/plain": [
       "  error_type      naive  simple_linreg   lasso_cv  elastic_cv        knn  \\\n",
       "0        MAE   0.572755       0.515890   0.515890    0.515753   0.499823   \n",
       "1       RMSE   0.870673       0.684099   0.684099    0.684057   0.680807   \n",
       "2         R2  -0.347783       0.167952   0.167952    0.168056   0.175941   \n",
       "3       MAPE  19.286346      15.568826  15.568826   15.564445  15.045011   \n",
       "\n",
       "   knn_optimal  \n",
       "0     0.489712  \n",
       "1     0.663590  \n",
       "2     0.217095  \n",
       "3    14.902219  "
      ]
     },
     "execution_count": 182,
     "metadata": {},
     "output_type": "execute_result"
    }
   ],
   "source": [
    "measured_metrics['knn_optimal'] = dataframe_metrics(y_test, y_pred_rand_knn_optimal)\n",
    "measured_metrics"
   ]
  },
  {
   "cell_type": "code",
   "execution_count": null,
   "metadata": {},
   "outputs": [],
   "source": []
  }
 ],
 "metadata": {
  "kernelspec": {
   "display_name": "Python 3",
   "language": "python",
   "name": "python3"
  },
  "language_info": {
   "codemirror_mode": {
    "name": "ipython",
    "version": 3
   },
   "file_extension": ".py",
   "mimetype": "text/x-python",
   "name": "python",
   "nbconvert_exporter": "python",
   "pygments_lexer": "ipython3",
   "version": "3.7.4"
  }
 },
 "nbformat": 4,
 "nbformat_minor": 2
}
